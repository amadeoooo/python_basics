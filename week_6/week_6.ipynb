{
 "cells": [
  {
   "cell_type": "markdown",
   "id": "7134ef1d",
   "metadata": {},
   "source": [
    "Na poczÄ…tek uruchom tÄ™ komĂłrkÄ™, ĹĽeby przygotowaÄ‡ autogradera:"
   ]
  },
  {
   "cell_type": "code",
   "execution_count": null,
   "id": "753dc0c4",
   "metadata": {},
   "outputs": [],
   "source": [
    "%%capture\n",
    "!pip install otter-grader\n",
    "\n",
    "files = \"https://github.com/mateuszwyszynski/python_basics/raw/main/week_6/tests.zip\"\n",
    "!wget -O ./tests.zip $files && unzip -o tests.zip\n",
    "\n",
    "import otter\n",
    "grader = otter.Notebook(colab = True)"
   ]
  },
  {
   "cell_type": "markdown",
   "id": "2380d11d",
   "metadata": {},
   "source": [
    "# **Strings &ndash; Ĺ‚aĹ„cuchy znakĂłw**\n",
    "---\n",
    "---\n",
    "## Wprowadzenie\n",
    "\n",
    "LaĹ„cuch znakĂłw (ang. *string*) wprowadzamy do Pythona przy uĹĽyciu apostrofĂłw lub cudzysĹ‚owu. MoĹĽemy to zrobiÄ‡ wykorzystujÄ…c:\n",
    "\n",
    "1. apostrofy"
   ]
  },
  {
   "cell_type": "code",
   "execution_count": null,
   "id": "2b11ca79",
   "metadata": {},
   "outputs": [],
   "source": [
    "print('String miÄ™dzy pojedynczymi apostrofami')"
   ]
  },
  {
   "cell_type": "markdown",
   "id": "9c08842b",
   "metadata": {},
   "source": [
    "---\n",
    "2. cudzysĹ‚Ăłw"
   ]
  },
  {
   "cell_type": "code",
   "execution_count": null,
   "id": "07c83263",
   "metadata": {},
   "outputs": [],
   "source": [
    "print(\"String w cudzysĹ‚owie\")"
   ]
  },
  {
   "cell_type": "markdown",
   "id": "bcd00004",
   "metadata": {},
   "source": [
    "---\n",
    "3. oraz przy uĹĽyciu trzech cudzysĹ‚owĂłw. Taki sposĂłb pozwala tworzyÄ‡ wielolinijkowe ciÄ…gi znakĂłw:"
   ]
  },
  {
   "cell_type": "code",
   "execution_count": null,
   "id": "69193df0",
   "metadata": {},
   "outputs": [],
   "source": [
    "print(\"\"\"W taki sposĂłb moĹĽemy tworzyÄ‡\n",
    "wielolinijkowe ciÄ…gi znakĂłw\n",
    ".\"\"\")\n",
    "\n",
    "string = \"\"\" MogliĹ›my teĹĽ we wszystkich przypadkach\n",
    "        zdefiniowaÄ‡ uprzednio Ĺ‚aĹ„cuchy\n",
    "    i dopiero pĂłĹşniej je wywoĹ‚aÄ‡.\n",
    "PS zwrĂłÄ‡ uwagÄ™, ĹĽe wciÄ™cia teĹĽ sÄ… czÄ™Ĺ›ciÄ… tych Ĺ‚aĹ„cuchĂłw \"\"\"\n",
    "\n",
    "print(string)"
   ]
  },
  {
   "cell_type": "markdown",
   "id": "7a39899a",
   "metadata": {},
   "source": [
    "---\n",
    "Czy Python dostrzega jakieĹ› rĂłĹĽnice miÄ™dzy tymi trzema sposobami definiowania Ĺ‚aĹ„cuchĂłw znakĂłw? "
   ]
  },
  {
   "cell_type": "code",
   "execution_count": null,
   "id": "81013451",
   "metadata": {},
   "outputs": [],
   "source": [
    "string_1 = 'kotek'\n",
    "string_2 = \"kotek\"\n",
    "\n",
    "string_1 == string_2"
   ]
  },
  {
   "cell_type": "markdown",
   "id": "f3595855",
   "metadata": {},
   "source": [
    "--- \n",
    "Widzimy, ĹĽe miÄ™dzy apostrofowym a cudzysĹ‚owowym definiowaniem rĂłĹĽnica nie wystÄ™puje, dla Pythona oba stringi sÄ… rĂłwnowaĹĽne. Co w przypadku stringĂłw z potrĂłjnym cudzysĹ‚owem? \n",
    "\n",
    "### Zadanie 1. [0 pkt.]\n",
    "\n",
    "$\\color{red}{\\text{Uwaga! Zadanie bez gradera.}}$\n",
    "\n",
    "Zweryfikuj to samodzielnie. Nazwij odpowiedniÄ… zmiennÄ… *string_3* i sprawdĹş, czy zmienna *string_3* jest toĹĽsama ze zmiennymi *string_1* i *string_2*."
   ]
  },
  {
   "cell_type": "code",
   "execution_count": null,
   "id": "2e518479",
   "metadata": {},
   "outputs": [],
   "source": [
    "# Miejsce na twĂłj kod\n",
    "\n"
   ]
  },
  {
   "cell_type": "markdown",
   "id": "d535781f",
   "metadata": {},
   "source": [
    "---\n",
    "WaĹĽne jest, ĹĽeby pamiÄ™taÄ‡, ĹĽe dla Pythona maĹ‚a i duĹĽa litera to dwa roĹĽne znaki:"
   ]
  },
  {
   "cell_type": "code",
   "execution_count": null,
   "id": "83aa4e78",
   "metadata": {},
   "outputs": [],
   "source": [
    "'Kotek' == 'kotek'"
   ]
  },
  {
   "cell_type": "markdown",
   "id": "93fbbb62",
   "metadata": {},
   "source": [
    "---\n",
    "Bywa, ĹĽe definiujÄ…c Ĺ‚aĹ„cuch znakĂłw potrzebujemy umieĹ›ciÄ‡ w jego wnÄ™trzu apostrofy lub cudzysĹ‚Ăłw. JeĹĽeli wewnÄ…trz Ĺ‚aĹ„cucha chcemy umieĹ›ciÄ‡ apostrofy, to do stworzenia Ĺ‚aĹ„cucha musimy wykorzystaÄ‡ cudzysĹ‚owy, a jeĹĽeli potrzebujemy uĹĽyÄ‡ wewnÄ…trz cudzysĹ‚owu, to Ĺ‚aĹ„cuch powinien zostaÄ‡ zdefiniowany poprzez apostrofy."
   ]
  },
  {
   "cell_type": "code",
   "execution_count": null,
   "id": "2e8e02d8",
   "metadata": {},
   "outputs": [],
   "source": [
    "print('NajwiÄ™cej oscarĂłw w historii (11) otrzymaĹ‚y dotychczas trzy filmy: \"Ben-Hur\", \"Titanic\" oraz \"WĹ‚adca PierĹ›cieni: PowrĂłt krĂłla\"')\n",
    "print(\"\\nJednak tylko 'WĹ‚adca PierĹ›cieni: PowrĂłt krĂłla' otrzymaĹ‚ 100% nagrĂłd, zdobywajÄ…c statuetki we wszystkich nominacjach.\")"
   ]
  },
  {
   "cell_type": "code",
   "execution_count": null,
   "id": "f90e83da",
   "metadata": {},
   "outputs": [],
   "source": [
    "print(\"\\nCudzysĹ‚Ăłw w \"cudzysĹ‚owie wystÄ…piÄ‡ nie moĹĽe\")"
   ]
  },
  {
   "cell_type": "markdown",
   "id": "0a54da7d",
   "metadata": {},
   "source": [
    "---\n",
    "ZwrĂłÄ‡ uwagÄ™, ĹĽe w pierwszym zdaniu mamy cudzysĹ‚owy wewnÄ…trz apostrofĂłw, natomiast w drugim apostrofy wewnÄ…trz cudzysĹ‚owu. Jak to dziaĹ‚a w przypadku potrĂłjnego cudzysĹ‚owu? \n",
    "\n",
    "### Zadanie 2. [0 pkt.]\n",
    "\n",
    "$\\color{red}{\\text{Uwaga! Zadanie bez gradera.}}$\n",
    "\n",
    "Czy moĹĽemy wewnÄ…trz potrĂłjnego cudzysĹ‚owu uĹĽywaÄ‡ apostrofĂłw bÄ…dĹş cudzysĹ‚owĂłw? Zweryfikuj to samodzielnie."
   ]
  },
  {
   "cell_type": "code",
   "execution_count": null,
   "id": "4c201371",
   "metadata": {},
   "outputs": [],
   "source": [
    "# Miejsce na twĂłj kod\n",
    "\n"
   ]
  },
  {
   "cell_type": "markdown",
   "id": "a1a520bf",
   "metadata": {},
   "source": [
    "---\n",
    "**Uwaga!**\n",
    "\n",
    "Mimo, ĹĽe w poprzednich oscarowych zdaniach cudzysĹ‚Ăłw `\"` peĹ‚ni dla nas identycznÄ… funkcjÄ™ jak apstrof `'`, to dla Pythona sÄ… to oczywiĹ›cie dwa rĂłĹĽne symbole."
   ]
  },
  {
   "cell_type": "code",
   "execution_count": null,
   "id": "5c502345",
   "metadata": {},
   "outputs": [],
   "source": [
    "'\"' == \"'\""
   ]
  },
  {
   "cell_type": "markdown",
   "id": "28c32f69",
   "metadata": {},
   "source": [
    "---\n",
    "W drugim oscarowym zdaniu pojawiĹ‚ siÄ™ symbol `\\n`, ktĂłry przeniĂłsĹ‚ nas do nowej linii. Istnieje takĹĽe znak `\\t`, czyli znak tabulacji. Tak dziaĹ‚a w praktyce:"
   ]
  },
  {
   "cell_type": "code",
   "execution_count": null,
   "id": "80a3b156",
   "metadata": {},
   "outputs": [],
   "source": [
    "string_t = \"\"\" MogliĹ›my teĹĽ we wszystkich przypadkach\n",
    "\\t\\tzdefiniowaÄ‡ uprzednio Ĺ‚aĹ„cuchy\n",
    "\\ti dopiero pĂłĹşniej je wywoĹ‚aÄ‡.\n",
    "PS zwrĂłÄ‡ uwagÄ™, ĹĽe wciÄ™cia teĹĽ sÄ… czÄ™Ĺ›ciÄ… tych Ĺ‚aĹ„cuchĂłw \"\"\"\n",
    "\n",
    "print(string_t)"
   ]
  },
  {
   "cell_type": "markdown",
   "id": "bbcf0dda",
   "metadata": {},
   "source": [
    "---\n",
    "StworzyliĹ›my w ten sposĂłb zmiennÄ… typu *string* zdefiniowanÄ… uprzednio, jednak tym razem przy uĹĽyciu znaku `\\t`.\n",
    "    \n",
    "UkoĹ›nik `\\` nazywany jest symbolem ucieczki. MoĹĽe zostaÄ‡ przez nas wykorzystany w celu umieszczenia samego ukoĹ›nika wewnÄ…trz Ĺ‚aĹ„cucha."
   ]
  },
  {
   "cell_type": "code",
   "execution_count": null,
   "id": "63700be9",
   "metadata": {},
   "outputs": [],
   "source": [
    "print(\"StosujÄ…c symbol ucieczki moĹĽemy uĹĽywaÄ‡ ukoĹ›nika wewnÄ…trz Ĺ‚ancucha '\\\\'.\\nSymbolu \\\\n uĹĽywamy w celu przejĹ›cia do nowej linii, \\nnatomiast \\\\t do tabulacji.\")"
   ]
  },
  {
   "cell_type": "markdown",
   "id": "51b6e304",
   "metadata": {},
   "source": [
    "---\n",
    "---\n",
    "## Operacje na zmiennych typu string\n",
    "\n",
    "1. Sekwencje znakĂłw moĹĽemy dodawaÄ‡. Operacje polegajÄ…cÄ… na Ĺ‚Ä…czeniu wyraĹĽeĹ„ nazywamy konkatenacjÄ…."
   ]
  },
  {
   "cell_type": "code",
   "execution_count": null,
   "id": "4a003daa",
   "metadata": {},
   "outputs": [],
   "source": [
    "x = 'Ryszard'\n",
    "y = 'Lazarski'\n",
    "x + y"
   ]
  },
  {
   "cell_type": "markdown",
   "id": "f2a410e1",
   "metadata": {},
   "source": [
    "---\n",
    "2. Skoro moĹĽemy dodawaÄ‡, to moĹĽemy robiÄ‡ to wielokrotnie skrĂłcajÄ…c operacjÄ™ do mnoĹĽenia."
   ]
  },
  {
   "cell_type": "code",
   "execution_count": null,
   "id": "29e46ca0",
   "metadata": {},
   "outputs": [],
   "source": [
    "y * 50"
   ]
  },
  {
   "cell_type": "markdown",
   "id": "c4c24b5d",
   "metadata": {},
   "source": [
    "---\n",
    "3. Co w sytuacji, gdy mamy do czynienia z obiektami innego typu? Aby przekonwertowaÄ‡ zmiennÄ… do typu string, wystarczy uĹĽyÄ‡ funkcji **str()**, umieszczajÄ…c jako parametr obiekt innego typu."
   ]
  },
  {
   "cell_type": "code",
   "execution_count": null,
   "id": "ec7da683",
   "metadata": {},
   "outputs": [],
   "source": [
    "e = 2.72\n",
    "\n",
    "print(\"Liczba Eulera (e) w przybliĹĽeniu do drugiego miejsca po przecinku wynosi:\" + str(e))\n",
    "print(\"Liczba Eulera (e) w przybliĹĽeniu do drugiego miejsca po przecinku wynosi: \" + str(e))"
   ]
  },
  {
   "cell_type": "markdown",
   "id": "6b05a404",
   "metadata": {},
   "source": [
    "---\n",
    "RĂłĹĽnica miÄ™dzy oboma zdaniami jest taka, ĹĽe po wyĹ›wietleniu pierwszego Ĺ‚aĹ„cucha przypomniaĹ‚o mi siÄ™, ĹĽe jeĹĽeli spacji w Ĺ‚aĹ„cuchu nie umieĹ›cimy, to nie pojawi siÄ™ znikÄ…d. JeĹĽeli typ zmiennej nie zostaĹ‚by przez nas zredefiniowany, otrzymalibyĹ›my stosowny komunikat o bĹ‚Ä™dzie:"
   ]
  },
  {
   "cell_type": "code",
   "execution_count": null,
   "id": "d2f2f7cc",
   "metadata": {},
   "outputs": [],
   "source": [
    "string = \"Liczba Eulera (e) w przybliĹĽeniu do drugiego miejsca po przecinku wynosi:\" \n",
    "\n",
    "print(string + e)"
   ]
  },
  {
   "cell_type": "markdown",
   "id": "cbeaa5b4",
   "metadata": {},
   "source": [
    "---\n",
    "ChcÄ…c cofnÄ…Ä‡ konwersjÄ™, moĹĽemy uĹĽyÄ‡ funkcji **float()**."
   ]
  },
  {
   "cell_type": "code",
   "execution_count": null,
   "id": "41c0aac8",
   "metadata": {},
   "outputs": [],
   "source": [
    "e = str(2.72)\n",
    "e"
   ]
  },
  {
   "cell_type": "code",
   "execution_count": null,
   "id": "986979bd",
   "metadata": {},
   "outputs": [],
   "source": [
    "e = float(e)\n",
    "e"
   ]
  },
  {
   "cell_type": "markdown",
   "id": "111ef407",
   "metadata": {},
   "source": [
    "---\n",
    "**Uwaga!** Python dopuszcza konwersjÄ™ stringĂłw, ktĂłre oprĂłcz cyfr skĹ‚adajÄ… siÄ™ takĹĽe ze spacji, na liczby."
   ]
  },
  {
   "cell_type": "code",
   "execution_count": null,
   "id": "63e862e7",
   "metadata": {},
   "outputs": [],
   "source": [
    "int('  123 ')"
   ]
  },
  {
   "cell_type": "code",
   "execution_count": null,
   "id": "ecfade38",
   "metadata": {},
   "outputs": [],
   "source": [
    "float(' 1.234           ')"
   ]
  },
  {
   "cell_type": "markdown",
   "id": "dc5ad9ff",
   "metadata": {},
   "source": [
    "---\n",
    "Jednak oprĂłcz spacji na poczÄ…tku i na koĹ„cu, spacje nie mogÄ… wystÄ™powaÄ‡ miÄ™dzy cyframi:"
   ]
  },
  {
   "cell_type": "code",
   "execution_count": null,
   "id": "6052a419",
   "metadata": {},
   "outputs": [],
   "source": [
    "float(' 1.23 4')"
   ]
  },
  {
   "cell_type": "markdown",
   "id": "36d744c8",
   "metadata": {},
   "source": [
    "---\n",
    "Z kolei, jeĹ›li mamy do czynienia z uĹ‚amkiem dziesiÄ™tnym, Python nie potrzebuje zera poprzedzajÄ…cego kropki:"
   ]
  },
  {
   "cell_type": "code",
   "execution_count": null,
   "id": "09f98a36",
   "metadata": {},
   "outputs": [],
   "source": [
    "float('.234')"
   ]
  },
  {
   "cell_type": "markdown",
   "id": "dab8989b",
   "metadata": {},
   "source": [
    "---\n",
    "NaleĹĽy jednak pamiÄ™tac, ĹĽe stosuje notacjÄ™ amerykaĹ„skÄ…, stÄ…d nie moĹĽemy uĹĽywaÄ‡ przecinka, chcÄ…c zapisaÄ‡ czÄ™Ĺ›Ä‡ dziesiÄ™tnÄ…:"
   ]
  },
  {
   "cell_type": "code",
   "execution_count": null,
   "id": "54eb1368",
   "metadata": {},
   "outputs": [],
   "source": [
    "float(',234')"
   ]
  },
  {
   "cell_type": "markdown",
   "id": "afc7dd03",
   "metadata": {},
   "source": [
    "---\n",
    "---\n",
    "## Fnkcja **print()** i koncentracja Ĺ‚aĹ„cuchĂłw\n",
    "\n",
    "Jak juĹĽ dowiedzieliĹ›my siÄ™ w poprzednich tygodniach, funkcja `print()` jest w stanie Ĺ‚Ä…czyÄ‡ argumenty przy uĹĽyciu odpowiedniego separatora. LÄ…czÄ…c nie trzeba przeksztaĹ‚caÄ‡ danej zmiennej do typu string! Python sam o to zadba. PoniĹĽej krĂłtkie przypomnienie:"
   ]
  },
  {
   "cell_type": "code",
   "execution_count": null,
   "id": "eebe07b0",
   "metadata": {},
   "outputs": [],
   "source": [
    "print(string, e)"
   ]
  },
  {
   "cell_type": "markdown",
   "id": "f99b424e",
   "metadata": {},
   "source": [
    "---\n",
    "W tym przypadku o separatorze pamiÄ™taÄ‡ nie musieliĹ›my."
   ]
  },
  {
   "cell_type": "code",
   "execution_count": null,
   "id": "4cd5743e",
   "metadata": {},
   "outputs": [],
   "source": [
    "print(string, e, sep ='')\n",
    "print(string, e, sep ='\\n')\n",
    "print(string, e, sep ='\\t')"
   ]
  },
  {
   "cell_type": "markdown",
   "id": "67cd3c35",
   "metadata": {},
   "source": [
    "---\n",
    "OczywiĹ›cie mogliĹ›my dodaÄ‡ do funkcji kilka argumentĂłw. Jednak w sytuacjach, gdy liczb lub innych obiektĂłw jest duĹĽo, duĹĽo trudniej jest w ten sposĂłb konstruowaÄ‡ napisy, dlatego wymyĹ›lono teĹĽ inne metody. PoniĹĽej przedstawiny w jaki sposĂłb przy uĹĽyciu funkcji `.format()` moĹĽemy koncentrowaÄ‡ stringi z obiektami innego typu, natomiast w sekcji **Dodatek** moĹĽna znaleĹşÄ‡ informacje jak wykorzystaÄ‡ w tym celu inne metody.\n",
    "\n",
    "PrzykĹ‚ad na uĹĽycie metody `.format()`:"
   ]
  },
  {
   "cell_type": "code",
   "execution_count": null,
   "id": "e5df09cd",
   "metadata": {},
   "outputs": [],
   "source": [
    "tekst = \"Liczba turystĂłw, ktĂłrzy odwiedzili TatrzaĹ„ski Park Narodowy w latach 2017-2021 (w tysiÄ…cach):\"\n",
    "rok_2021 = 4600\n",
    "rok_2020 = 3302\n",
    "rok_2019 = 3758\n",
    "rok_2018 = 3783\n",
    "rok_2017 = 3594"
   ]
  },
  {
   "cell_type": "markdown",
   "id": "b7f3f59a",
   "metadata": {},
   "source": [
    "a) Pierwszy sposĂłb:"
   ]
  },
  {
   "cell_type": "code",
   "execution_count": null,
   "id": "e3d946bf",
   "metadata": {},
   "outputs": [],
   "source": [
    "print(tekst, \"2021: {}\".format(rok_2021), \"2020: {}\".format(rok_2020), \n",
    "      \"2019: {}\".format(rok_2019), \"2018: {}\".format(rok_2018), \n",
    "      \"2017: {}\".format(rok_2017), sep = '\\n')"
   ]
  },
  {
   "cell_type": "markdown",
   "id": "985bcae0",
   "metadata": {},
   "source": [
    "b) Drugi sposĂłb:"
   ]
  },
  {
   "cell_type": "code",
   "execution_count": null,
   "id": "6e7ce70e",
   "metadata": {},
   "outputs": [],
   "source": [
    "print(tekst + \"\\n\" + \"2021: {}\\n2020: {}\\n2019: {}\\n2018: {}\\n2017: {}\".format(rok_2021, rok_2020, rok_2019, rok_2018, rok_2017))"
   ]
  },
  {
   "cell_type": "markdown",
   "id": "29ba8f65",
   "metadata": {},
   "source": [
    "c) Trzeci:"
   ]
  },
  {
   "cell_type": "code",
   "execution_count": null,
   "id": "c7f6f63e",
   "metadata": {},
   "outputs": [],
   "source": [
    "print(tekst, \"2021: {}\\n2020: {}\\n2019: {}\\n2018: {}\\n2017: {}\".format(rok_2021, rok_2020, rok_2019, rok_2018, rok_2017), sep = '\\n')"
   ]
  },
  {
   "cell_type": "markdown",
   "id": "05ba56cc",
   "metadata": {},
   "source": [
    "---\n",
    "OczywiĹ›cie sposobĂłw jest wiÄ™cej. PowyĹĽsza metoda polega na dodawaniu nawiasĂłw klamrowych `{}` w miejscach, w ktĂłrych chcemy wydrukowaÄ‡ wartoĹ›ci danych zmiennych. NastÄ™pnie w metodzie `.format()` kolejno te zmienne wypisujemy. OprĂłcz tej funkcji istniejÄ… takĹĽe metody wykorzystujÄ…ce *f--strings* oraz wykorzystujÄ…ce operator `%`. WiÄ™cej informacji na ten temat moĹĽna znaleĹşÄ‡ w sekcji **Dodatek** na koĹ„cu notebooka."
   ]
  },
  {
   "cell_type": "markdown",
   "id": "07ef66dd",
   "metadata": {},
   "source": [
    "---\n",
    "PrzeÄ‡wiczmy powyĹĽszÄ… metodÄ™.\n",
    "\n",
    "### Zadanie 3. [0 pkt.]\n",
    "\n",
    "Zdefiniuj zmiennÄ… *information_about_patron*, w ktĂłrej przechowywane bÄ™dÄ… informacje na temat patrona naszej uczelni z wikipedii https://pl.wikipedia.org/wiki/Ryszard_%C5%81azarski. Definiowanie powinno zostaÄ‡ przeprowadzone przy uĹĽyciu metody `.format()`, wykorzystujÄ…c f-string lub operator `%` (z sekcji **Dodatek**) i powinien byÄ‡ postaci:\n",
    "\n",
    "Imie:\n",
    "\n",
    "Nazwisko:\n",
    "\n",
    "Miejsce urodzenia:\n",
    "\n",
    "Wiek:\n",
    "\n",
    "Zawod:\n",
    "\n",
    "Przypisz poniĹĽszym zmiennym odpowiednie informacje i stwĂłrz przy ich uĹĽyciu zmiennÄ… *information_about_patron*.\n",
    "\n",
    "**Uwaga!** Nie uĹĽywaj polskich znakĂłw!"
   ]
  },
  {
   "cell_type": "code",
   "execution_count": null,
   "id": "63ecd554",
   "metadata": {
    "tags": []
   },
   "outputs": [],
   "source": [
    "name = ...\n",
    "surname = ...\n",
    "place_of_birth = ...\n",
    "age = ...\n",
    "occupation = ...\n",
    "\n",
    "information_about_patron = ..."
   ]
  },
  {
   "cell_type": "code",
   "execution_count": null,
   "id": "dade22df",
   "metadata": {
    "tags": []
   },
   "outputs": [],
   "source": [
    "# Tutaj moĹĽesz przetestowaÄ‡ rozwiÄ…zanie\n",
    "\n",
    "print(information_about_patron)"
   ]
  },
  {
   "cell_type": "code",
   "execution_count": null,
   "id": "fad6be95",
   "metadata": {
    "deletable": false,
    "editable": false
   },
   "outputs": [],
   "source": [
    "grader.check(\"Q3\")"
   ]
  },
  {
   "cell_type": "markdown",
   "id": "28635a18",
   "metadata": {},
   "source": [
    "---\n",
    "---\n",
    "## Indeksowanie i wycinki zmiennych typu string\n",
    "\n",
    "Jak juĹĽ wspomnieliĹ›my, string to Ĺ‚aĹ„cuch, sekwencja znakĂłw. Skoro tak, to moĹĽna siÄ™ spodziewaÄ‡, ĹĽe jesteĹ›my w stanie wywoĹ‚aÄ‡ znak z konkretnego miejsca takiego Ĺ‚aĹ„cucha."
   ]
  },
  {
   "cell_type": "code",
   "execution_count": null,
   "id": "bd34ad10",
   "metadata": {},
   "outputs": [],
   "source": [
    "movie = \"interstellar\"\n",
    "letter = movie[1]"
   ]
  },
  {
   "cell_type": "markdown",
   "id": "51218b14",
   "metadata": {},
   "source": [
    "---\n",
    "W powyĹĽszej komĂłrce najpierw zapisaliĹ›my Ĺ‚aĹ„cuch w zmiennej *movie*, a nastÄ™pnie literÄ™ o indeksie 1 w zmiennej *letter*. WywoĹ‚ajmy jÄ…."
   ]
  },
  {
   "cell_type": "code",
   "execution_count": null,
   "id": "25e9c24d",
   "metadata": {},
   "outputs": [],
   "source": [
    "letter"
   ]
  },
  {
   "cell_type": "markdown",
   "id": "ba73e37a",
   "metadata": {},
   "source": [
    "---\n",
    "Jak widaÄ‡, byÄ‡ moĹĽe niezgodnie z przypuszczeniami, znakiem o indeskie 1 jest litera *n*, a nie *i*. TÄ™ reguĹ‚Ä™ naleĹĽy zapamiÄ™taÄ‡ &ndash; w Pythonie indeksowanie zaczyna siÄ™ od 0, a nie 1!"
   ]
  },
  {
   "cell_type": "code",
   "execution_count": null,
   "id": "9c69e73d",
   "metadata": {},
   "outputs": [],
   "source": [
    "first_letter = movie[0]\n",
    "first_letter"
   ]
  },
  {
   "cell_type": "markdown",
   "id": "da0227ce",
   "metadata": {},
   "source": [
    "W celu podkreĹ›lena, indeksowanie Ĺ‚aĹ„cuchĂłw wyglÄ…da nastÄ™pujÄ…co:\n",
    "\n",
    "| indeksy | 0 | 1 | 2 | 3 | 4 | 5 | 6 | 7 | 8 | 9 | 10 | 11 |\n",
    "| --- | --- | --- | --- | --- | --- | --- | --- | --- | --- | --- | --- | --- |\n",
    "| litery | i | n | t | e | r | s | t | e | l | l | a | r |"
   ]
  },
  {
   "cell_type": "markdown",
   "id": "12c6f34a",
   "metadata": {},
   "source": [
    "---\n",
    "JeĹĽeli chcielibyĹ›my wyciÄ…Ä‡ czÄ™Ĺ›Ä‡ Ĺ‚aĹ„cucha, moĹĽemy w indeksie uĹĽywaÄ‡ dwukropkĂłw. Znak z miejsca poprzedzajÄ…cego dwukropek bÄ™dzie uwzglÄ™dniony, znak po dwukropku juĹĽ nie. PrzykĹ‚ady uĹĽycia:"
   ]
  },
  {
   "cell_type": "code",
   "execution_count": null,
   "id": "b972ca89",
   "metadata": {},
   "outputs": [],
   "source": [
    "print(\"LaĹ„cuch od trzeciego znaku: \", movie[2:])\n",
    "print(\"LaĹ„cuch do trzeciego znaku wyĹ‚Ä…cznie: \", movie[:2])\n",
    "print(\"LaĹ„cuch miÄ™dzy 4 a 8 znakiem: \", movie[3:7])\n",
    "print(\"SĹ‚owo z wyĹ‚Ä…czniem znaku ostatniego \", movie[:-1])\n",
    "print(\"Znaki ze sĹ‚owa z miejsc o parzystych indeksach \", movie[::2])"
   ]
  },
  {
   "cell_type": "markdown",
   "id": "c1d3d8ce",
   "metadata": {},
   "source": [
    "---\n",
    "Jak widzimy w przedostatniej linijce, indeksy majÄ… swoje ujemne odpowiedniki. Aby wyznaczyÄ‡ ostatni znak Ĺ‚aĹ„cucha, wystarczy w indeksie wpisaÄ‡ -1, a jeĹĽeli chcielibyĹ›my zorientowaÄ‡ siÄ™, jaki znak wystÄ™puje na przedostatnim miejscu, uĹĽylibyĹ›my -2. Nie musimy na palcach liczyÄ‡ znakĂłw ani uprzednio wyznaczaÄ‡ dĹ‚ugoĹ›ci Ĺ‚aĹ„cucha. Jak widaÄ‡ jesteĹ›my teĹĽ w stanie okresliÄ‡ krok, aby np. wyciÄ…gnÄ…Ä‡ tylko znaki, ktĂłre znajdujÄ… siÄ™ na parzystych miejscach. Konwencja jest nastÄ™pujÄ…ca: **str[start:end[:step]]**. Umieszczenie **step** w drugim prostokÄ…tnym nawiasie oznacza, ĹĽe jest to argument opcjonalny.\n",
    "\n",
    "**Uwaga!** StringĂłw nie da siÄ™ nadpisywaÄ‡, wykorzystujÄ…c w tym celu indeksy. GdybyĹ›my chcieli podstawiÄ‡ za pierwszÄ… literÄ™ Ĺ‚ancucha *movie* jakÄ…Ĺ› innÄ…, Python by nam na to nie pozwoliĹ‚:"
   ]
  },
  {
   "cell_type": "code",
   "execution_count": null,
   "id": "3f6e377b",
   "metadata": {},
   "outputs": [],
   "source": [
    "movie[0] = 'p'"
   ]
  },
  {
   "cell_type": "markdown",
   "id": "81cbaec4",
   "metadata": {},
   "source": [
    "---\n",
    "Aby przeksztaĹ‚ciÄ‡ w ten sposĂłb Ĺ‚aĹ„cuch, musimy do nowej litery dodaÄ‡ Ĺ‚aĹ„cuch *movie* bez pierwszej:"
   ]
  },
  {
   "cell_type": "code",
   "execution_count": null,
   "id": "ea4baa5f",
   "metadata": {},
   "outputs": [],
   "source": [
    "'p' + movie[1:]"
   ]
  },
  {
   "cell_type": "markdown",
   "id": "cc304e68",
   "metadata": {},
   "source": [
    "---\n",
    "---\n",
    "## Iterowanie po stringach\n",
    "\n",
    "Ze wzglÄ™du na fakt, ĹĽe stringi sÄ… Ĺ‚aĹ„cuchami, moĹĽemy iterowaÄ‡ po znakach w nich wystÄ™pujÄ…cych. PoniĹĽej znajduje siÄ™ kod, ktĂłry wykorzystuje pÄ™tle **while** w celu przeliterowania naszego sĹ‚owa. W kolejnej komĂłrce, wykorzystujÄ…c pÄ™tle **for**, wykorzystaliĹ›my moĹĽliwoĹ›Ä‡ iterowania bezpoĹ›rednio po znakach."
   ]
  },
  {
   "cell_type": "code",
   "execution_count": null,
   "id": "e85ec107",
   "metadata": {},
   "outputs": [],
   "source": [
    "index = 0\n",
    "while index < len(movie):\n",
    "    print(movie[index])\n",
    "    index += 1"
   ]
  },
  {
   "cell_type": "code",
   "execution_count": null,
   "id": "2c7ce027",
   "metadata": {},
   "outputs": [],
   "source": [
    "for letter in movie:\n",
    "    print(letter)"
   ]
  },
  {
   "cell_type": "markdown",
   "id": "dccf8fd0",
   "metadata": {},
   "source": [
    "### Zadanie 4. [0 pkt.]\n",
    "\n",
    "Napisz funkcjÄ™ o nazwie **length**, ktĂłra bÄ™dzie zwracaÄ‡ dĹ‚ugoĹ›Ä‡ wprowadzanego Ĺ‚aĹ„cucha znakĂłw. Wykorzystaj w tym celu pÄ™tle. Na przykĹ‚ad: **length('kotek') = 5**."
   ]
  },
  {
   "cell_type": "code",
   "execution_count": null,
   "id": "b3170aed",
   "metadata": {
    "tags": []
   },
   "outputs": [],
   "source": [
    "def length(string):\n",
    "    length = ...\n",
    "    ...\n",
    "        ...\n",
    "    ..."
   ]
  },
  {
   "cell_type": "code",
   "execution_count": null,
   "id": "578993e4",
   "metadata": {
    "tags": []
   },
   "outputs": [],
   "source": [
    "# Tutaj moĹĽesz przetestowaÄ‡ swoje rozwiÄ…zanie\n",
    "\n",
    "print(length(movie))\n",
    "print(length('Hello world!'))"
   ]
  },
  {
   "cell_type": "code",
   "execution_count": null,
   "id": "014ce807",
   "metadata": {
    "deletable": false,
    "editable": false
   },
   "outputs": [],
   "source": [
    "grader.check(\"Q4\")"
   ]
  },
  {
   "cell_type": "markdown",
   "id": "3d92a435",
   "metadata": {},
   "source": [
    "---\n",
    "SprĂłbujmy teraz przeliterowaÄ‡ sĹ‚owo od tyĹ‚u. PoniĹĽej przedstawimy w jaki sposĂłb przeliterowaÄ‡ sĹ‚owo od tyĹ‚u przy uĹĽyciu **for**, a nastÄ™pnie poprosimy Ciebie o napisanie kodu wykonujÄ…cego identycznÄ… operacjÄ™, wykorzystujÄ…c jednak pÄ™tlÄ™ **while**."
   ]
  },
  {
   "cell_type": "code",
   "execution_count": null,
   "id": "7626898a",
   "metadata": {},
   "outputs": [],
   "source": [
    "length = len(movie)\n",
    "for index in range(length):\n",
    "    print(movie[- index - 1])"
   ]
  },
  {
   "cell_type": "markdown",
   "id": "184ca820",
   "metadata": {},
   "source": [
    "### Zadanie 5. [0 pkt.]\n",
    "\n",
    "$\\color{red}{\\text{Uwaga! Zadanie bez gradera.}}$\n",
    "\n",
    "Napisz program, ktĂłry bÄ™dzie literowaĹ‚ sĹ‚owo od tyĹ‚u. UĹĽyj tym razem pÄ™tli *while*."
   ]
  },
  {
   "cell_type": "code",
   "execution_count": null,
   "id": "c8d235f9",
   "metadata": {},
   "outputs": [],
   "source": [
    "# Miejsce na twĂłj kod\n",
    "\n"
   ]
  },
  {
   "cell_type": "markdown",
   "id": "68af1466",
   "metadata": {},
   "source": [
    "---\n",
    "GdybyĹ›my postanowili zapisaÄ‡ sĹ‚owo od tyĹ‚u, moglibyĹ›my zrobiÄ‡ to nastÄ™pujÄ…co:"
   ]
  },
  {
   "cell_type": "code",
   "execution_count": null,
   "id": "c342b3f5",
   "metadata": {},
   "outputs": [],
   "source": [
    "length = len(movie)\n",
    "word_backwards = ''\n",
    "for index in range(length):\n",
    "    word_backwards += movie[- index - 1]\n",
    "print(word_backwards)"
   ]
  },
  {
   "cell_type": "markdown",
   "id": "2cb61b7d",
   "metadata": {},
   "source": [
    "### Zadanie 6. [0 pkt.]\n",
    "\n",
    "Napisz funkcjÄ™ o nazwie **word_backwards**, ktĂłra bÄ™dzie zwracaÄ‡ sĹ‚owo od tyĹ‚u. Dla przykĹ‚adu: **word_backwards('kotek') = 'ketok'**. Wykorzystaj w tym celu pÄ™tlÄ™ *while*."
   ]
  },
  {
   "cell_type": "code",
   "execution_count": null,
   "id": "8d6d6519",
   "metadata": {
    "tags": []
   },
   "outputs": [],
   "source": [
    "def word_backwards(string):\n",
    "    length = ...\n",
    "    word_backwards = ...\n",
    "    ...\n",
    "        ...\n",
    "        ...\n",
    "    return word_backwards"
   ]
  },
  {
   "cell_type": "code",
   "execution_count": null,
   "id": "74e4bc27",
   "metadata": {
    "tags": []
   },
   "outputs": [],
   "source": [
    "# Tutaj moĹĽesz przetestowaÄ‡ swoje rozwiÄ…zanie\n",
    "\n",
    "print(word_backwards(movie))\n",
    "print(word_backwards('Hello world!'))"
   ]
  },
  {
   "cell_type": "code",
   "execution_count": null,
   "id": "dbb07b56",
   "metadata": {
    "deletable": false,
    "editable": false
   },
   "outputs": [],
   "source": [
    "grader.check(\"Q6\")"
   ]
  },
  {
   "cell_type": "markdown",
   "id": "46adf2f1",
   "metadata": {},
   "source": [
    "---\n",
    "MoĹĽemy jednak postÄ…piÄ‡ nieco inaczej, wykorzystujÄ…c indeksowanie z krokiem:"
   ]
  },
  {
   "cell_type": "code",
   "execution_count": null,
   "id": "58e5aac7",
   "metadata": {},
   "outputs": [],
   "source": [
    "movie[::-1]"
   ]
  },
  {
   "cell_type": "markdown",
   "id": "c1bfb057",
   "metadata": {},
   "source": [
    "---\n",
    "GdybyĹ›my byli zainteresowani nie tyle dĹ‚ugoĹ›ciÄ… Ĺ‚aĹ„cucha, co liczbÄ… wystÄ…pieĹ„ konkretnego elementu, to moglibyĹ›my napisaÄ‡ funkcjÄ™, ktĂłra zliczaÄ‡ nam bÄ™dzie liczbÄ™ wystÄ…pieĹ„ elementu **s** w Ĺ‚aĹ„cuchu **string**."
   ]
  },
  {
   "cell_type": "code",
   "execution_count": null,
   "id": "94a0135a",
   "metadata": {},
   "outputs": [],
   "source": [
    "def occurences(string, s):\n",
    "    count = 0\n",
    "    for letter in string:\n",
    "        if s == letter:\n",
    "            count += 1\n",
    "    return count"
   ]
  },
  {
   "cell_type": "markdown",
   "id": "a041821c",
   "metadata": {},
   "source": [
    "---\n",
    "Zweryfikujmy jej dziaĹ‚anie:"
   ]
  },
  {
   "cell_type": "code",
   "execution_count": null,
   "id": "f9b417c9",
   "metadata": {},
   "outputs": [],
   "source": [
    "occurences('interstellar', 'l')"
   ]
  },
  {
   "cell_type": "markdown",
   "id": "f45cb908",
   "metadata": {},
   "source": [
    "---\n",
    "---\n",
    "## Operacje logiczne na stringach\n",
    "\n",
    "GdybyĹ›my chcieli tylko sprawdziÄ‡, czy dany znak w Ĺ‚aĹ„cuchu wystÄ™puje albo nie wystÄ™puje, moglibyĹ›my uĹĽyÄ‡ operatora **in**:"
   ]
  },
  {
   "cell_type": "code",
   "execution_count": null,
   "id": "3d289748",
   "metadata": {},
   "outputs": [],
   "source": [
    "print('l' in movie)\n",
    "print('i' not in movie)\n",
    "print('x' not in movie)"
   ]
  },
  {
   "cell_type": "markdown",
   "id": "68b31c92",
   "metadata": {},
   "source": [
    "---\n",
    "W ciekawy sposĂłb moĹĽemy wykorzystywaÄ‡ znaki nierĂłwnoĹ›ci, podpytujÄ…c Pythona, ktĂłry z Ĺ‚aĹ„cuchĂłw jest pierwszy alfabetycznie. W taki sposĂłb moĹĽemy zapytaÄ‡ siÄ™, czy litera `a` wystÄ™puje w alfabecie przed `b`:"
   ]
  },
  {
   "cell_type": "code",
   "execution_count": null,
   "id": "06992da8",
   "metadata": {},
   "outputs": [],
   "source": [
    "'a' < 'b'"
   ]
  },
  {
   "cell_type": "markdown",
   "id": "b80124d9",
   "metadata": {},
   "source": [
    "---\n",
    "NaleĹĽy jednak podkreĹ›liÄ‡, ĹĽe konwencja jest taka, ĹĽe duĹĽe litery wystÄ™pujÄ… w alfabecie przed swoimi mniejszymi odpowiednikami, dlatego to `B` wystÄ™puje przed `a`:"
   ]
  },
  {
   "cell_type": "code",
   "execution_count": null,
   "id": "29648bfc",
   "metadata": {},
   "outputs": [],
   "source": [
    "'a' < 'B'"
   ]
  },
  {
   "cell_type": "markdown",
   "id": "dd5c167e",
   "metadata": {},
   "source": [
    "---\n",
    "---\n",
    "## Wbudowane funkcje i metody dla stringĂłw\n",
    "\n",
    "OczywiĹ›cie, aby wyznaczyÄ‡ dĹ‚ugoĹ›Ä‡ Ĺ‚aĹ„cucha, nie musieliĹ›my sami definiowaÄ‡ funkcji wykonujÄ…cej tÄ™ operacjÄ™. Python posiada duĹĽo wbudowanych funkcji, ktĂłrych wykorzystywanie zalecamy, poniewaĹĽ sÄ… napisane w zoptymalizowany sposĂłb, obciÄ…ĹĽajÄ…c naszÄ… pamiÄ™Ä‡ w moĹĽliwie najmniejszym stopniu. ChcÄ…c poznaÄ‡ dĹ‚ugoĹ›Ä‡ stringa, moĹĽemy po prostu uĹĽyÄ‡ funkcji **len()**, ktĂłra bardzo prosta w uĹĽyciu:"
   ]
  },
  {
   "cell_type": "code",
   "execution_count": null,
   "id": "92b2bacc",
   "metadata": {},
   "outputs": [],
   "source": [
    "movie = 'the french dispatch'\n",
    "len(movie)"
   ]
  },
  {
   "cell_type": "markdown",
   "id": "e45f6914",
   "metadata": {},
   "source": [
    "---\n",
    "GdybyĹ›my jednak chcieli wyznaczyÄ‡ ostatni znak wykorzystujÄ…c dĹ‚ugoĹ›Ä‡ Ĺ‚aĹ„cucha, nie moglibyĹ›my tego zrobiÄ‡ tak:"
   ]
  },
  {
   "cell_type": "code",
   "execution_count": null,
   "id": "c2e3d93b",
   "metadata": {},
   "outputs": [],
   "source": [
    "movie[len(movie)]"
   ]
  },
  {
   "cell_type": "markdown",
   "id": "1e5ba200",
   "metadata": {},
   "source": [
    "---\n",
    "Pytanie brzmi, dlaczego? SprĂłbuj naprawiÄ‡ poniĹĽej powyĹĽszy kod, tak aby przy uĹĽyciu funkcji **len()** jednak znak znajdujÄ…cy siÄ™ na ostatnim miejscu wyznaczyÄ‡."
   ]
  },
  {
   "cell_type": "code",
   "execution_count": null,
   "id": "e9069c6b",
   "metadata": {},
   "outputs": [],
   "source": [
    "#Miejsce na twĂłj kod\n",
    "\n"
   ]
  },
  {
   "cell_type": "markdown",
   "id": "36423839",
   "metadata": {},
   "source": [
    "---\n",
    "Tak jak w przypadku funkcji *length* tak i w przypadku *occurences*, nie trzeba byĹ‚o ĹĽadnej funkcji definiowaÄ‡, wystarczyĹ‚o wykorzystaÄ‡ metodÄ™ *.count()*."
   ]
  },
  {
   "cell_type": "code",
   "execution_count": null,
   "id": "7c529ffd",
   "metadata": {},
   "outputs": [],
   "source": [
    "movie = 'niewinni czarodzieje'\n",
    "movie.count('n')"
   ]
  },
  {
   "cell_type": "markdown",
   "id": "2a713552",
   "metadata": {},
   "source": [
    "---\n",
    "Metodami nazywami funkcje, ktĂłre pozwalajÄ… nam na wykonywaniu operacji na zmiennych konkretnego typu, wykorzystujÄ…c skĹ‚adniÄ™: zmienna`.metoda([opcjonalne_argumenty])`. JeĹĽeli chcemy zweryfikowaÄ‡ jakie metody sÄ… dostÄ™pne w odniesieniu do konkretnej zmiennej, moĹĽemy uĹĽyÄ‡ w tym celu funkcji `dir`, wpisujÄ…c jako argument typ zmiennej `str` albo wykorzystujÄ…c jako argument obiekt konkretnego typu, ktĂłra zwrĂłci nam listÄ™ z dostÄ™pnymi metodami:"
   ]
  },
  {
   "cell_type": "code",
   "execution_count": null,
   "id": "316acb7b",
   "metadata": {},
   "outputs": [],
   "source": [
    "print(dir(str))"
   ]
  },
  {
   "cell_type": "code",
   "execution_count": null,
   "id": "693b2201",
   "metadata": {},
   "outputs": [],
   "source": [
    "print(dir(movie))"
   ]
  },
  {
   "cell_type": "markdown",
   "id": "6ccbe038",
   "metadata": {},
   "source": [
    "---\n",
    "Jak widaÄ‡, metod jest wiele. PoniĹĽej przedstawiamy tabelÄ™ z naszym zdaniem najczÄ™Ĺ›ciej wykorzystywanymi, a nastÄ™pnie przykĹ‚ady ich uĹĽycia. Pod linkiem https://docs.python.org/3/library/stdtypes.html#string-methods moĹĽna znaleĹşÄ‡ bardziej szczegĂłĹ‚owe opisy wszystkich dostÄ™pnych metod. Parametry w nawiasach prostokÄ…tnych sÄ… opcjonalne.\n",
    "\n",
    "|  | Metoda | Opis |\n",
    "| --- | --- | --- |\n",
    "| 1. | **.capitalize()** | Zwraca kopiÄ™ Ĺ‚aĹ„cucha zapisanÄ… z pierwszej duĹĽej litery i z resztÄ… liter sprowadzonÄ… do ich maĹ‚ych odpowiednikĂłw. |\n",
    "| 2. | **.count(sub[, start[, end]])** | Pozwala wyznaczyÄ‡ liczbÄ™ wystÄ…pieĹ„ okreĹ›lonego Ĺ‚aĹ„cucha w danym Ĺ‚aĹ„cuchu. MoĹĽemy ograniczyÄ‡ siÄ™ do podĹ‚aĹ„cucha przeszukiwanego Ĺ‚aĹ„cucha. |\n",
    "| 3. | **.endswith(suffix[, start[, end]])** | Zwraca `True` jeĹ›li dany Ĺ‚aĹ„cuch wystÄ™puje na koĹ„cu przeszukiwanego Ĺ‚aĹ„cucha. |\n",
    "| 4. | **.find(sub[, start[ ,end]])** | Zwraca indeks od ktĂłrego zaczyna siÄ™ pierwszy odnaleziony podĹ‚aĹ„cuch w Ĺ‚aĹ„cuchu. |\n",
    "| 5. | **.isnumeric()** | Zwraca `True`, jeĹ›li wszystkie znaki w Ĺ‚aĹ„cuchu sÄ… cyframi. |\n",
    "| 6. | **.lower()** | Zwraca kopiÄ™ Ĺ‚ancucha sprowadzajÄ…c wszystkie litery do maĹ‚ych. |\n",
    "| 7. | **.replace(old, new[, count])** | Zwraca kopiÄ™ przeksztaĹ‚conego Ĺ‚aĹ„cucha, w ktĂłrym za Ĺ‚aĹ„cuch `old` podstawiony jest `new`. |\n",
    "| 8. | **.split(sep=None, maxsplit=- 1)** | Zwraca listÄ™ z elementami Ĺ‚aĹ„cucha podzielonymi wzglÄ™dem parametru `sep`. Elementy z listy wywoĹ‚ujemy tak samo jak z ze zmiennej typu string. |\n",
    "| 9. | **.startswith(prefix[, start[, end]])** | Zwraca `True` jeĹ›li dany Ĺ‚aĹ„cuch wystÄ™puje na poczÄ…tku przeszukiwanego Ĺ‚aĹ„cucha. |\n",
    "| 10. | **.upper()** | Zwraca kopiÄ™ Ĺ‚ancucha sprowadzajÄ…c wszystkie litery do wielkich. |\n",
    "\n",
    "**Uwaga!** Metody przeksztaĹ‚cajÄ…ce w jakiĹ› sposĂłb Ĺ‚aĹ„cuch nie robiÄ… tego trwale, tworzÄ… kopiÄ™ naszego Ĺ‚aĹ„cucha, wiÄ™c jeĹ›li chcesz zapisac dane zmiany, to musisz nadpisaÄ‡ jakÄ…Ĺ› zmiennÄ… albo stworzyÄ‡ nowÄ…."
   ]
  },
  {
   "cell_type": "markdown",
   "id": "445f606a",
   "metadata": {},
   "source": [
    "---\n",
    "**1. capitalize()**"
   ]
  },
  {
   "cell_type": "code",
   "execution_count": null,
   "id": "7bbeaf32",
   "metadata": {},
   "outputs": [],
   "source": [
    "# (Gdyby ktoĹ› siÄ™ zastanawiaĹ‚ &ndash; poniĹĽsze zdanie ma w istocie peĹ‚ny logiczny sens, informuje o zamiarze maĹ‚ej wydry wydarcia innej wydrze maĹ‚ej wydry)\n",
    "sentence = 'wydrze wydrzÄ™ wydrze wydrze wydrze wydrzÄ™'"
   ]
  },
  {
   "cell_type": "code",
   "execution_count": null,
   "id": "9442caf2",
   "metadata": {},
   "outputs": [],
   "source": [
    "sentence.capitalize()"
   ]
  },
  {
   "cell_type": "code",
   "execution_count": null,
   "id": "d054e1c4",
   "metadata": {},
   "outputs": [],
   "source": [
    "'wydRzE wYdrzE wYdrze wydrzE Wydrze wydrZÄ™'.capitalize()"
   ]
  },
  {
   "cell_type": "markdown",
   "id": "19587b59",
   "metadata": {},
   "source": [
    "---\n",
    "**2. count(sub[, start[, end]])**"
   ]
  },
  {
   "cell_type": "code",
   "execution_count": null,
   "id": "16271624",
   "metadata": {},
   "outputs": [],
   "source": [
    "# liczba liter 'w' w zdaniu\n",
    "sentence.count('w')"
   ]
  },
  {
   "cell_type": "code",
   "execution_count": null,
   "id": "17858999",
   "metadata": {},
   "outputs": [],
   "source": [
    "# liczba liter 'w' w zdaniu miÄ™dzy 5 i 10 znakiem\n",
    "sentence.count('w', 5, 10)"
   ]
  },
  {
   "cell_type": "markdown",
   "id": "63deaf86",
   "metadata": {},
   "source": [
    "---\n",
    "**3. endswith(suffix[, start[, end]])**"
   ]
  },
  {
   "cell_type": "code",
   "execution_count": null,
   "id": "9421982c",
   "metadata": {},
   "outputs": [],
   "source": [
    "sentence.endswith('wydrzÄ™')"
   ]
  },
  {
   "cell_type": "code",
   "execution_count": null,
   "id": "750b5489",
   "metadata": {},
   "outputs": [],
   "source": [
    "sentence.endswith('wydrze')"
   ]
  },
  {
   "cell_type": "markdown",
   "id": "cdf3808c",
   "metadata": {},
   "source": [
    "---\n",
    "**4. find(sub[, start[ ,end]])**"
   ]
  },
  {
   "cell_type": "code",
   "execution_count": null,
   "id": "e5490888",
   "metadata": {},
   "outputs": [],
   "source": [
    "sentence.find('wydrze')"
   ]
  },
  {
   "cell_type": "code",
   "execution_count": null,
   "id": "453ee20e",
   "metadata": {},
   "outputs": [],
   "source": [
    "# GdybyĹ›my chcieli znaleĹşÄ‡ indeks drugiego wystÄ…pienia sĹ‚owa 'wydrze', moglibyĹ›my postÄ…piÄ‡ tak:\n",
    "first_occurence = sentence.find('wydrze')\n",
    "sentence.find('wydrze', first_occurence + 1)"
   ]
  },
  {
   "cell_type": "markdown",
   "id": "33b7ad77",
   "metadata": {},
   "source": [
    "---\n",
    "**5. isnumeric()**"
   ]
  },
  {
   "cell_type": "code",
   "execution_count": null,
   "id": "aff58d5f",
   "metadata": {},
   "outputs": [],
   "source": [
    "'0123'.isnumeric()"
   ]
  },
  {
   "cell_type": "code",
   "execution_count": null,
   "id": "0162e314",
   "metadata": {},
   "outputs": [],
   "source": [
    "'123'.isnumeric()"
   ]
  },
  {
   "cell_type": "markdown",
   "id": "6acc85fc",
   "metadata": {},
   "source": [
    "---\n",
    "**6. lower()**"
   ]
  },
  {
   "cell_type": "code",
   "execution_count": null,
   "id": "b1e0f5d6",
   "metadata": {},
   "outputs": [],
   "source": [
    "'WYDRZE WYDRZÄ™ WYDRZE WYDRZE WYDRZE WYDRZÄ™'.lower()"
   ]
  },
  {
   "cell_type": "markdown",
   "id": "7dd5131d",
   "metadata": {},
   "source": [
    "---\n",
    "**7. replace(old, new[, count])**"
   ]
  },
  {
   "cell_type": "code",
   "execution_count": null,
   "id": "72ecfaa3",
   "metadata": {},
   "outputs": [],
   "source": [
    "sentence.replace('w', 'x')"
   ]
  },
  {
   "cell_type": "markdown",
   "id": "b85e26ce",
   "metadata": {},
   "source": [
    "---\n",
    "**8. split(sep=None, maxsplit=- 1)**"
   ]
  },
  {
   "cell_type": "code",
   "execution_count": null,
   "id": "b01e78b5",
   "metadata": {},
   "outputs": [],
   "source": [
    "sentence.split(' ')"
   ]
  },
  {
   "cell_type": "code",
   "execution_count": null,
   "id": "58951aad",
   "metadata": {},
   "outputs": [],
   "source": [
    "# PodzieliliĹ›my zdanie na sĹ‚owa. GdybyĹ›my chcieli odwoĹ‚aÄ‡ siÄ™ do konkretnego elementu:\n",
    "\n",
    "sentence_splitted = sentence.split(' ')\n",
    "sentence_splitted[-1]"
   ]
  },
  {
   "cell_type": "markdown",
   "id": "c2f9702e",
   "metadata": {},
   "source": [
    "---\n",
    "**8. startswith(prefix[, start[, end]])**"
   ]
  },
  {
   "cell_type": "code",
   "execution_count": null,
   "id": "7fdc60b7",
   "metadata": {},
   "outputs": [],
   "source": [
    "sentence.startswith('w')"
   ]
  },
  {
   "cell_type": "markdown",
   "id": "9ecdeee1",
   "metadata": {},
   "source": [
    "---\n",
    "**8. upper()**"
   ]
  },
  {
   "cell_type": "code",
   "execution_count": null,
   "id": "34f8a8c5",
   "metadata": {},
   "outputs": [],
   "source": [
    "sentence.upper()"
   ]
  },
  {
   "cell_type": "markdown",
   "id": "af6b88a9",
   "metadata": {},
   "source": [
    "---\n",
    "**Uwaga!** MoĹĽemy wykorzystywaÄ‡ kilka metod na raz."
   ]
  },
  {
   "cell_type": "code",
   "execution_count": null,
   "id": "489f0061",
   "metadata": {},
   "outputs": [],
   "source": [
    "sentence.upper().replace('W','x').replace('E','e')"
   ]
  },
  {
   "cell_type": "markdown",
   "id": "81fdfb68",
   "metadata": {},
   "source": [
    "---\n",
    "---\n",
    "# Zadania domowe\n",
    "\n",
    "Teoria za nami, przejdziemy teraz do zadaĹ„ punktowanych."
   ]
  },
  {
   "cell_type": "markdown",
   "id": "07868aa3",
   "metadata": {},
   "source": [
    "### **Zadanie 7. [0.5 pkt]**\n",
    "\n",
    "Arkusz kalkulacyjny Excel ma opcjÄ™ zapisania pliku w postaci csv (comma-separated values). GdybyĹ›my dysponowali tabelÄ…, w ktĂłrej przechowywalibyĹ›my informacje na temat imienia, nazwiska oraz wieku danej osoby, na przykĹ‚ad takÄ…:\n",
    "\n",
    "| ImiÄ™ | Nazwisko | Wiek |\n",
    "| --- | --- | --- |\n",
    "| Jan | Kowalski | 24 |\n",
    "| Maria | Nowak | 30 |\n",
    "| Stefan | Banach | 130 |\n",
    "\n",
    "i zapisalibyĹ›my taki plik przy uĹĽyciu rozszerzenia .csv, to otrzymalibyĹ›my w rezultacie plik o nastÄ™pujÄ…cej strukturze:\n",
    "\n",
    "ImiÄ™, Nazwsiko, Wiek\n",
    "\n",
    "Jan,Kowalski,24\n",
    "\n",
    "Maria,Nowak,30\n",
    "\n",
    "Stefan,Banach,130\n",
    "\n",
    "Pliki w postaci formatu .csv sÄ… bardzo wygodne do przechowyania danych, poniewaĹĽ nie zajmujÄ… tak duĹĽo miejsca jak np. xslx i sÄ… duĹĽo uniwersalniejsze.\n",
    "\n",
    "W zadaniu rozwaĹĽamy Ĺ‚aĹ„cuchy znakĂłw w postaci imiÄ™,nazwisko,wiek. Napisz funkcjÄ™ o nazwie *age_from_string*, ktĂłra zwracaÄ‡ bÄ™dzie wiek w typie int, z Ĺ‚aĹ„cuchĂłw takiej postaci, np. **age_from_string('Stefan,Banach,130') = 130**. Zadbaj o to, ĹĽeby uĹĽytkownik wpisywaĹ‚ Ĺ‚aĹ„cuchy odpowiednieogo typu. JeĹĽeli uĹĽytkownik nie podstawi za parametr *string* zmiennej typu str, to funkcja powinna zwrĂłciÄ‡ informacjÄ™: `Parametr powinien byc typu str`. Z kolei, jeĹ›li okaĹĽe siÄ™, ĹĽe Ĺ‚aĹ„cuch jednak nie bÄ™dzie imieniem, nazwiskiem i wiekiem oddzielonymi przecinkami, to powinna zwrĂłciÄ‡ infromacjÄ™: `Lancuch powinien byc postaci \"Imie,Nazwisko,Wiek\"`. OczywiĹ›cie nie chodzi tutaj o weryfikowanie, czy pierwsza sekwencja znakĂłw rzeczywiĹ›cie jest imieniem, a druga nazwiskiem, wystarczy, ĹĽe w Ĺ‚aĹ„cuchu bÄ™dziemy mieÄ‡ wyraĹşny podziaĹ‚ przecinkami na 3 stringi i ĹĽe ostatni string bÄ™dzie liczbÄ…. DopuĹ›Ä‡ moĹĽliwoĹ›Ä‡ wystÄ™powania w Ĺ‚aĹ„cuchu spacji, np. dla Ĺ‚aĹ„cucha `'Jan, Kowalski, 24'` funkcja takĹĽe powinna zwracaÄ‡ `24`. Powodzenia!"
   ]
  },
  {
   "cell_type": "code",
   "execution_count": null,
   "id": "be54b3d2",
   "metadata": {
    "tags": []
   },
   "outputs": [],
   "source": [
    "def age_from_string(string):\n",
    "    ..."
   ]
  },
  {
   "cell_type": "code",
   "execution_count": null,
   "id": "bb8766ac",
   "metadata": {
    "tags": []
   },
   "outputs": [],
   "source": [
    "# Tutaj moĹĽesz testowaÄ‡ swoje rozwiÄ…zanie\n",
    "\n",
    "print(age_from_string('Stefan,Banach,130'))\n",
    "print('\\n')\n",
    "print(age_from_string('Maria, Nowak, 24'))\n",
    "print('\\n')\n",
    "print(age_from_string('interstellar'))\n",
    "print('\\n')\n",
    "print(age_from_string(100))"
   ]
  },
  {
   "cell_type": "code",
   "execution_count": null,
   "id": "42fe3a18",
   "metadata": {
    "deletable": false,
    "editable": false
   },
   "outputs": [],
   "source": [
    "grader.check(\"Q7\")"
   ]
  },
  {
   "cell_type": "markdown",
   "id": "941d1929",
   "metadata": {},
   "source": [
    "### **Zadanie 8. [1.5 pkt]**\n",
    "\n",
    "Napisz funkcjÄ™ o nazwie **pesel_interpretation**, ktĂłra bÄ™dzie analizowaĹ‚a numemry PESEL. Prace nad numerami PESEL (Powszechny Elektroniczny System Ewidencji LudnoĹ›ci) rozpoczÄ™Ĺ‚y siÄ™ w roku 1972. SÄ… to 11-cyfrowe identyfikatory numeryczne jednoznacznie identyfikujÄ…ce okreĹ›lonÄ… osobÄ™ fizycznÄ… (wiÄ™cej informacji pod linkiem: https://pl.wikipedia.org/wiki/PESEL). Jest kilka zasad ich tworzenia, my jednak ograniczymy siÄ™ do czÄ™Ĺ›ci. Przede wszystkim ograniczymy siÄ™ do numerĂłw PESEL osĂłb, ktĂłre urodziĹ‚y siÄ™ w stuleciu 1900-1999. NajistotniejszÄ… z zasad, ktĂłrÄ… naleĹĽy uwzglÄ™dniÄ‡, jest wyznaczenie nastÄ™pujÄ…cej liczby kontrolnej:\n",
    "\n",
    "$$\n",
    "c_1\\cdot1 + c_2\\cdot3 + c_3\\cdot7 + c_4\\cdot9 + c_5\\cdot1 + c_6\\cdot3 + c_7\\cdot7 + c_8\\cdot9 + c_9\\cdot1+c_{10}\\cdot3+c_{11}\\cdot1,\n",
    "$$\n",
    "\n",
    "gdzie:\n",
    "\n",
    "| $2$ | $6$ | $0$ | $3$ | $0$ | $8$ | $3$ | $6$ | $4$ | $7$ | $9$ |\n",
    "| --- | --- | --- | --- | --- | --- | --- | --- | --- | --- | --- |\n",
    "| $c_1$ | $c_2$ | $c_3$ | $c_4$ | $c_5$ | $c_6$ | $c_7$ | $c_8$ | $c_9$ | $c_{10}$ | $c_{11}$ |\n",
    "\n",
    "i zweryfikowanie, czy ostatnia cyfra tej liczby jest zerem. MoĹĽemy to zrobiÄ‡ sprawdzajÄ…c, czy liczba dzieli siÄ™ przez 10 bez reszty lub zmieniajÄ…c typ wyniku na zmiennÄ… string i wyznaczajÄ…c ostatniÄ… cyfrÄ™. W rozwaĹĽanym dalej przypadku PESELu `26030836479` liczba kontrolna jest rĂłwna: 180, wiÄ™c dzieli siÄ™ przez 10. Jednak liczba kontrolna nie weryfikuje, czy poczÄ…tkowa data zapisana jest prawidĹ‚owo. Na datÄ™ sklada siÄ™ 6 cyfr. Pesel zaczynajÄ…cy siÄ™ na `260308...` koduje nam 8 marca 1926, a wiÄ™c pierwsze dwie cyfry sÄ… rokiem, kolejne miesiÄ…cem i ostatnie dniem. Funkcja, ktĂłrÄ… nazwiemy **pesel_interpretation()** powinna dziaĹ‚aÄ‡ tak, ĹĽe jeĹĽeli trzecia i czwarta cyfra wskazuje na miesiÄ…c powyĹĽej 12, powinniĹ›my otrzymaÄ‡ komunikat `Miesiac niepoprawny`. Natomiast jeĹ›li dzieĹ„ bÄ™dzie liczbÄ… powyĹĽej 31, to `DzieĹ„ niepooprawny`. OczywiĹ›cie problemĂłw moĹĽe byÄ‡ wiÄ™cej, np. zakodowanie 31 kwietnia albo 29 lutego 1901 roku, kiedy rok nie byĹ‚ przestÄ™pny, jednak w takie szczegĂłĹ‚y juĹĽ wchodziÄ‡ nie bÄ™dziemy. W PESELu kodowana jest takĹĽe pĹ‚eÄ‡ osoby w cyfrze $c_{10}$. JeĹĽeli cyfra jest parzysta, osoba jest kobietÄ…, jeĹ›li parzysta &ndash; mÄ™ĹĽczyznÄ…. Funkcja ma zwracaÄ‡ nastÄ™pujÄ…ce komunikaty dla danych parametrĂłw:\n",
    "\n",
    "1. JeĹĽeli wprowadzony zostanie nieprawidĹ‚owy numer ze wzglÄ™du na typ, np. `26030836479` zamiast `'26030836479'` funkcja wyĹ›wietli tekst: `'Wprowadzany PESEL powinien byc typu str'`,\n",
    "2. JeĹĽeli liczba cyfr bÄ™dzie nieodpowiednia `'2603383647'` albo jeĹ›li zamiast jakiejĹ› cyfry bÄ™dzie inny znak `'2603383647a'`  funkcja wyĹ›wietli tekst: `'PESEL powinien skladac sie z 11 cyfr'`,\n",
    "3. JeĹĽeli warunek kontrolny nie bÄ™dzie speĹ‚niony funkcja wyĹ›wietli tekst `'PESEL niepoprawny'`,\n",
    "4. JeĹşeli miesiÄ…c nie bÄ™dzie poprawny `'Miesiac niepoprawny'`,\n",
    "5. JeĹĽeli dzieĹ„ nie bÄ™dzie poprawny `'Dzien niepoprawny'`,\n",
    "6. JeĹĽeli wprowadzony zostanie prawidĹ‚owo, funkcja wyĹ›wietli tekst z informacjami: Rok urodzenia, MiesiÄ…c, DzieĹ„, PĹ‚eÄ‡. Na przykĹ‚ad dla numeru `26030836479` powinniĹ›my otrzymaÄ‡:\n",
    "\n",
    "     - Rok urodzenia: 1926\n",
    "     - Miesiac: 3\n",
    "     - Dzien: 8\n",
    "     - Plec: Mezczyzna\n",
    "     \n",
    "Na stronie https://pesel.cstudios.pl/o-generatorze/generator-on-line moĹĽesz generowaÄ‡ prawidĹ‚owo skonstruowane PESELe do testĂłw. Powodzenia!"
   ]
  },
  {
   "cell_type": "code",
   "execution_count": null,
   "id": "694f8792",
   "metadata": {
    "tags": []
   },
   "outputs": [],
   "source": [
    "def pesel_interpretation(pesel):\n",
    "    ..."
   ]
  },
  {
   "cell_type": "code",
   "execution_count": null,
   "id": "e6d3b4cc",
   "metadata": {
    "tags": []
   },
   "outputs": [],
   "source": [
    "# Tutaj moĹĽesz testowaÄ‡ swoje rozwiÄ…zanie\n",
    "\n",
    "print(pesel_interpretation('26030836479'))\n",
    "print('\\n')\n",
    "print(pesel_interpretation(26030836479))\n",
    "print('\\n')\n",
    "print(pesel_interpretation('26033836476'))\n",
    "print('\\n')\n",
    "print(pesel_interpretation('26130836472'))\n",
    "print('\\n')\n",
    "print(pesel_interpretation('2603383647'))\n",
    "print('\\n')\n",
    "print(pesel_interpretation('2603383647a'))\n",
    "print('\\n')\n",
    "print(pesel_interpretation('26033836475'))"
   ]
  },
  {
   "cell_type": "code",
   "execution_count": null,
   "id": "165d9d16",
   "metadata": {
    "deletable": false,
    "editable": false
   },
   "outputs": [],
   "source": [
    "grader.check(\"Q8\")"
   ]
  },
  {
   "cell_type": "markdown",
   "id": "42b36ba3",
   "metadata": {},
   "source": [
    "---\n",
    "---\n",
    "# Dodatek\n",
    "\n",
    "## Koncentracja Ĺ‚aĹ„cuchĂłw innymi metodami\n",
    "\n",
    "1. **f-strings**"
   ]
  },
  {
   "cell_type": "code",
   "execution_count": null,
   "id": "0627fb46",
   "metadata": {},
   "outputs": [],
   "source": [
    "tekst = \"Liczba turystĂłw, ktĂłrzy odwiedzili TatrzaĹ„ski Park Narodowy w latach 2017-2021 (w tysiÄ…cach):\"\n",
    "rok_2021 = 4600\n",
    "rok_2020 = 3302\n",
    "rok_2019 = 3758\n",
    "rok_2018 = 3783\n",
    "rok_2017 = 3594"
   ]
  },
  {
   "cell_type": "code",
   "execution_count": null,
   "id": "cd6bb887",
   "metadata": {},
   "outputs": [],
   "source": [
    "print(tekst, f\"2021: {rok_2021}\", f\"2020: {rok_2020}\", f\"2019: {rok_2019}\", \n",
    "      f\"2018: {rok_2018}\", f\"2017: {rok_2017}\", sep = '\\n')"
   ]
  },
  {
   "cell_type": "markdown",
   "id": "d755dcb3",
   "metadata": {},
   "source": [
    "---\n",
    "f-strings pomagajÄ… polepszyÄ‡ przejrzystoĹ›Ä‡ kodu. UĹĽycie litery **f** w poprzedniej komĂłrce byĹ‚o informacjÄ… dla Pythona, ĹĽe mamy do czynienia z tym rodzajem Ĺ‚aĹ„cucha. W takim obiekcie w nawiasach klamrowych `{}` dodajemy nazwy zmiennych, ktĂłrych wartoĹ›ci chcemy wydrukowaÄ‡.\n",
    "\n",
    "3. Przy uĹĽyciu operatora `%`:"
   ]
  },
  {
   "cell_type": "code",
   "execution_count": null,
   "id": "77a0af6b",
   "metadata": {},
   "outputs": [],
   "source": [
    "print(tekst + \"\\n\" + \"2021: %d\\n2020: %d\\n2019: %d\\n2018: %d\\n2017: %d\" % (rok_2021, rok_2020, rok_2019, rok_2018, rok_2017))"
   ]
  },
  {
   "cell_type": "markdown",
   "id": "feff30ab",
   "metadata": {},
   "source": [
    "---\n",
    "Operator dziaĹ‚a nastÄ™pujÄ…co: za `%d` moĹĽemy podstawiÄ‡ liczbÄ™ caĹ‚kowitÄ…. Za `%g` liczbÄ™ zmiennoprzecinkowÄ…, natomiast za `%s` zmiennÄ… typu string. PrzykĹ‚ady:"
   ]
  },
  {
   "cell_type": "code",
   "execution_count": null,
   "id": "5884721b",
   "metadata": {},
   "outputs": [],
   "source": [
    "'W Ĺ‚aĹ„cuchu moĹĽemy zamieĹ›ciÄ‡ %s, moĹĽemy teĹĽ zamieĹ›ciÄ‡ liczbÄ™ caĹ‚kowitÄ… %d i liczbÄ™ zmiennoprzecinkowÄ… %g.' % ('sĹ‚owo', -5, 1.89)"
   ]
  }
 ],
 "metadata": {
  "kernelspec": {
   "display_name": "Python 3 (ipykernel)",
   "language": "python",
   "name": "python3"
  },
  "language_info": {
   "codemirror_mode": {
    "name": "ipython",
    "version": 3
   },
   "file_extension": ".py",
   "mimetype": "text/x-python",
   "name": "python",
   "nbconvert_exporter": "python",
   "pygments_lexer": "ipython3",
   "version": "3.8.11"
  }
 },
 "nbformat": 4,
 "nbformat_minor": 5
}
