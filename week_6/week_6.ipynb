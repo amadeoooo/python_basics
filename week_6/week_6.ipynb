{
 "cells": [
  {
   "cell_type": "markdown",
   "id": "0d6033bf",
   "metadata": {},
   "source": [
    "Na początek uruchom tę komórkę, żeby przygotować autogradera:"
   ]
  },
  {
   "cell_type": "code",
   "execution_count": null,
   "id": "2f1dd9fb",
   "metadata": {},
   "outputs": [],
   "source": [
    "%%capture\n",
    "!pip install otter-grader\n",
    "\n",
    "files = \"https://github.com/mateuszwyszynski/python_basics/raw/main/week_6/tests.zip\"\n",
    "!wget -O ./tests.zip $files && unzip -o tests.zip\n",
    "\n",
    "import otter\n",
    "grader = otter.Notebook(colab = True)"
   ]
  },
  {
   "cell_type": "markdown",
   "id": "e3b16519",
   "metadata": {},
   "source": [
    "# **Strings &ndash; łańcuchy znaków**\n",
    "---\n",
    "---\n",
    "## Wprowadzenie\n",
    "\n",
    "Lańcuch znaków (ang. *string*) wprowadzamy do Pythona przy użyciu apostrofów lub cudzysłowu. Możemy to zrobić wykorzystując:\n",
    "\n",
    "1. apostrofy"
   ]
  },
  {
   "cell_type": "code",
   "execution_count": null,
   "id": "f80921bc",
   "metadata": {},
   "outputs": [],
   "source": [
    "print('String między pojedynczymi apostrofami')"
   ]
  },
  {
   "cell_type": "markdown",
   "id": "a5d131d8",
   "metadata": {},
   "source": [
    "---\n",
    "2. cudzysłów"
   ]
  },
  {
   "cell_type": "code",
   "execution_count": null,
   "id": "8061cfab",
   "metadata": {},
   "outputs": [],
   "source": [
    "print(\"String w cudzysłowie\")"
   ]
  },
  {
   "cell_type": "markdown",
   "id": "d7e5ed47",
   "metadata": {},
   "source": [
    "---\n",
    "3. oraz przy użyciu trzech cudzysłowów. Taki sposób pozwala tworzyć wielolinijkowe ciągi znaków:"
   ]
  },
  {
   "cell_type": "code",
   "execution_count": null,
   "id": "5d91b090",
   "metadata": {},
   "outputs": [],
   "source": [
    "print(\"\"\"W taki sposób możemy tworzyć\n",
    "wielolinijkowe ciągi znaków\n",
    ".\"\"\")\n",
    "\n",
    "string = \"\"\" Mogliśmy też we wszystkich przypadkach\n",
    "        zdefiniować uprzednio łańcuchy\n",
    "    i dopiero później je wywołać.\n",
    "PS zwróć uwagę, że wcięcia też są częścią tych łańcuchów \"\"\"\n",
    "\n",
    "print(string)"
   ]
  },
  {
   "cell_type": "markdown",
   "id": "34c6ce40",
   "metadata": {},
   "source": [
    "---\n",
    "Czy Python dostrzega jakieś różnice między tymi trzema sposobami definiowania łańcuchów znaków? "
   ]
  },
  {
   "cell_type": "code",
   "execution_count": null,
   "id": "34da5879",
   "metadata": {},
   "outputs": [],
   "source": [
    "string_1 = 'kotek'\n",
    "string_2 = \"kotek\"\n",
    "\n",
    "string_1 == string_2"
   ]
  },
  {
   "cell_type": "markdown",
   "id": "2f4a2a29",
   "metadata": {},
   "source": [
    "--- \n",
    "Widzimy, że między apostrofowym a cudzysłowowym definiowaniem różnica nie występuje, dla Pythona oba stringi są równoważne. Co w przypadku stringów z potrójnym cudzysłowem? \n",
    "\n",
    "### Zadanie 1. [0 pkt.]\n",
    "\n",
    "$\\color{red}{\\text{Uwaga! Zadanie bez gradera.}}$\n",
    "\n",
    "Zweryfikuj to samodzielnie. Nazwij odpowiednią zmienną *string_3* i sprawdź, czy zmienna *string_3* jest tożsama ze zmiennymi *string_1* i *string_2*."
   ]
  },
  {
   "cell_type": "code",
   "execution_count": null,
   "id": "af03c840",
   "metadata": {},
   "outputs": [],
   "source": [
    "# Miejsce na twój kod\n",
    "\n"
   ]
  },
  {
   "cell_type": "markdown",
   "id": "56d11412",
   "metadata": {},
   "source": [
    "---\n",
    "Ważne jest, żeby pamiętać, że dla Pythona mała i duża litera to dwa rożne znaki:"
   ]
  },
  {
   "cell_type": "code",
   "execution_count": null,
   "id": "7b003bde",
   "metadata": {},
   "outputs": [],
   "source": [
    "'Kotek' == 'kotek'"
   ]
  },
  {
   "cell_type": "markdown",
   "id": "66ce3c26",
   "metadata": {},
   "source": [
    "---\n",
    "Bywa, że definiując łańcuch znaków potrzebujemy umieścić w jego wnętrzu apostrofy lub cudzysłów. Jeżeli wewnątrz łańcucha chcemy umieścić apostrofy, to do stworzenia łańcucha musimy wykorzystać cudzysłowy, a jeżeli potrzebujemy użyć wewnątrz cudzysłowu, to łańcuch powinien zostać zdefiniowany poprzez apostrofy."
   ]
  },
  {
   "cell_type": "code",
   "execution_count": null,
   "id": "aa8eea8a",
   "metadata": {},
   "outputs": [],
   "source": [
    "print('Najwięcej oscarów w historii (11) otrzymały dotychczas trzy filmy: \"Ben-Hur\", \"Titanic\" oraz \"Władca Pierścieni: Powrót króla\"')\n",
    "print(\"\\nJednak tylko 'Władca Pierścieni: Powrót króla' otrzymał 100% nagród, zdobywając statuetki we wszystkich nominacjach.\")"
   ]
  },
  {
   "cell_type": "code",
   "execution_count": null,
   "id": "0511f27d",
   "metadata": {},
   "outputs": [],
   "source": [
    "print(\"\\nCudzysłów w \"cudzysłowie wystąpić nie może\")"
   ]
  },
  {
   "cell_type": "markdown",
   "id": "166f4baf",
   "metadata": {},
   "source": [
    "---\n",
    "Zwróć uwagę, że w pierwszym zdaniu mamy cudzysłowy wewnątrz apostrofów, natomiast w drugim apostrofy wewnątrz cudzysłowu. Jak to działa w przypadku potrójnego cudzysłowu? \n",
    "\n",
    "### Zadanie 2. [0 pkt.]\n",
    "\n",
    "$\\color{red}{\\text{Uwaga! Zadanie bez gradera.}}$\n",
    "\n",
    "Czy możemy wewnątrz potrójnego cudzysłowu używać apostrofów bądź cudzysłowów? Zweryfikuj to samodzielnie."
   ]
  },
  {
   "cell_type": "code",
   "execution_count": null,
   "id": "4ab8cac3",
   "metadata": {},
   "outputs": [],
   "source": [
    "# Miejsce na twój kod\n",
    "\n"
   ]
  },
  {
   "cell_type": "markdown",
   "id": "f057f1d8",
   "metadata": {},
   "source": [
    "---\n",
    "**Uwaga!**\n",
    "\n",
    "Mimo, że w poprzednich oscarowych zdaniach cudzysłów `\"` pełni dla nas identyczną funkcję jak apstrof `'`, to dla Pythona są to oczywiście dwa różne symbole."
   ]
  },
  {
   "cell_type": "code",
   "execution_count": null,
   "id": "c5b0a3fd",
   "metadata": {},
   "outputs": [],
   "source": [
    "'\"' == \"'\""
   ]
  },
  {
   "cell_type": "markdown",
   "id": "805bab83",
   "metadata": {},
   "source": [
    "---\n",
    "W drugim oscarowym zdaniu pojawił się symbol `\\n`, który przeniósł nas do nowej linii. Istnieje także znak `\\t`, czyli znak tabulacji. Tak działa w praktyce:"
   ]
  },
  {
   "cell_type": "code",
   "execution_count": null,
   "id": "ca6bad19",
   "metadata": {},
   "outputs": [],
   "source": [
    "string_t = \"\"\" Mogliśmy też we wszystkich przypadkach\n",
    "\\t\\tzdefiniować uprzednio łańcuchy\n",
    "\\ti dopiero później je wywołać.\n",
    "PS zwróć uwagę, że wcięcia też są częścią tych łańcuchów \"\"\"\n",
    "\n",
    "print(string_t)"
   ]
  },
  {
   "cell_type": "markdown",
   "id": "2a17d9f5",
   "metadata": {},
   "source": [
    "---\n",
    "Stworzyliśmy w ten sposób zmienną typu *string* zdefiniowaną uprzednio, jednak tym razem przy użyciu znaku `\\t`.\n",
    "    \n",
    "Ukośnik `\\` nazywany jest symbolem ucieczki. Może zostać przez nas wykorzystany w celu umieszczenia samego ukośnika wewnątrz łańcucha."
   ]
  },
  {
   "cell_type": "code",
   "execution_count": null,
   "id": "5202038f",
   "metadata": {},
   "outputs": [],
   "source": [
    "print(\"Stosując symbol ucieczki możemy używać ukośnika wewnątrz łancucha '\\\\'.\\nSymbolu \\\\n używamy w celu przejścia do nowej linii, \\nnatomiast \\\\t do tabulacji.\")"
   ]
  },
  {
   "cell_type": "markdown",
   "id": "5c58e203",
   "metadata": {},
   "source": [
    "---\n",
    "---\n",
    "## Operacje na zmiennych typu string\n",
    "\n",
    "1. Sekwencje znaków możemy dodawać. Operacje polegającą na łączeniu wyrażeń nazywamy konkatenacją."
   ]
  },
  {
   "cell_type": "code",
   "execution_count": null,
   "id": "c7710fb0",
   "metadata": {},
   "outputs": [],
   "source": [
    "x = 'Ryszard'\n",
    "y = 'Lazarski'\n",
    "x + y"
   ]
  },
  {
   "cell_type": "markdown",
   "id": "ff40a7f7",
   "metadata": {},
   "source": [
    "---\n",
    "2. Skoro możemy dodawać, to możemy robić to wielokrotnie skrócając operację do mnożenia."
   ]
  },
  {
   "cell_type": "code",
   "execution_count": null,
   "id": "48923b6a",
   "metadata": {},
   "outputs": [],
   "source": [
    "y * 50"
   ]
  },
  {
   "cell_type": "markdown",
   "id": "159b5cd8",
   "metadata": {},
   "source": [
    "---\n",
    "3. Co w sytuacji, gdy mamy do czynienia z obiektami innego typu? Aby przekonwertować zmienną do typu string, wystarczy użyć funkcji **str()**, umieszczając jako parametr obiekt innego typu."
   ]
  },
  {
   "cell_type": "code",
   "execution_count": null,
   "id": "dd25dacb",
   "metadata": {},
   "outputs": [],
   "source": [
    "e = 2.72\n",
    "\n",
    "print(\"Liczba Eulera (e) w przybliżeniu do drugiego miejsca po przecinku wynosi:\" + str(e))\n",
    "print(\"Liczba Eulera (e) w przybliżeniu do drugiego miejsca po przecinku wynosi: \" + str(e))"
   ]
  },
  {
   "cell_type": "markdown",
   "id": "62646cfe",
   "metadata": {},
   "source": [
    "---\n",
    "Różnica między oboma zdaniami jest taka, że po wyświetleniu pierwszego łańcucha przypomniało mi się, że jeżeli spacji w łańcuchu nie umieścimy, to nie pojawi się znikąd. Jeżeli typ zmiennej nie zostałby przez nas zredefiniowany, otrzymalibyśmy stosowny komunikat o błędzie:"
   ]
  },
  {
   "cell_type": "code",
   "execution_count": null,
   "id": "865ff0c4",
   "metadata": {},
   "outputs": [],
   "source": [
    "string = \"Liczba Eulera (e) w przybliżeniu do drugiego miejsca po przecinku wynosi:\" \n",
    "\n",
    "print(string + e)"
   ]
  },
  {
   "cell_type": "markdown",
   "id": "047bb9a1",
   "metadata": {},
   "source": [
    "---\n",
    "Chcąc cofnąć konwersję, możemy użyć funkcji **float()**."
   ]
  },
  {
   "cell_type": "code",
   "execution_count": null,
   "id": "d0fb10a3",
   "metadata": {},
   "outputs": [],
   "source": [
    "e = str(2.72)\n",
    "e"
   ]
  },
  {
   "cell_type": "code",
   "execution_count": null,
   "id": "2269002b",
   "metadata": {},
   "outputs": [],
   "source": [
    "e = float(e)\n",
    "e"
   ]
  },
  {
   "cell_type": "markdown",
   "id": "4e008621",
   "metadata": {},
   "source": [
    "---\n",
    "**Uwaga!** Python dopuszcza konwersję stringów, które oprócz cyfr składają się także ze spacji, na liczby."
   ]
  },
  {
   "cell_type": "code",
   "execution_count": null,
   "id": "af4b2bde",
   "metadata": {},
   "outputs": [],
   "source": [
    "int('  123 ')"
   ]
  },
  {
   "cell_type": "code",
   "execution_count": null,
   "id": "d4455615",
   "metadata": {},
   "outputs": [],
   "source": [
    "float(' 1.234           ')"
   ]
  },
  {
   "cell_type": "markdown",
   "id": "bb14736f",
   "metadata": {},
   "source": [
    "---\n",
    "Jednak oprócz spacji na początku i na końcu, spacje nie mogą występować między cyframi:"
   ]
  },
  {
   "cell_type": "code",
   "execution_count": null,
   "id": "2a300aba",
   "metadata": {},
   "outputs": [],
   "source": [
    "float(' 1.23 4')"
   ]
  },
  {
   "cell_type": "markdown",
   "id": "44745823",
   "metadata": {},
   "source": [
    "---\n",
    "Z kolei, jeśli mamy do czynienia z ułamkiem dziesiętnym, Python nie potrzebuje zera poprzedzającego kropki:"
   ]
  },
  {
   "cell_type": "code",
   "execution_count": null,
   "id": "cc40304f",
   "metadata": {},
   "outputs": [],
   "source": [
    "float('.234')"
   ]
  },
  {
   "cell_type": "markdown",
   "id": "2bfcaa4c",
   "metadata": {},
   "source": [
    "---\n",
    "Należy jednak pamiętac, że stosuje notację amerykańską, stąd nie możemy używać przecinka, chcąc zapisać część dziesiętną:"
   ]
  },
  {
   "cell_type": "code",
   "execution_count": null,
   "id": "3521f25a",
   "metadata": {},
   "outputs": [],
   "source": [
    "float(',234')"
   ]
  },
  {
   "cell_type": "markdown",
   "id": "1da6c52a",
   "metadata": {},
   "source": [
    "---\n",
    "---\n",
    "## Funkcja **print()** i koncentracja stringów\n",
    "\n",
    "Jak już dowiedzieliśmy się w poprzednich tygodniach, funkcja `print()` jest w stanie łączyć argumenty przy użyciu odpowiedniego separatora. Lącząc nie trzeba przekształcać danej zmiennej do typu string! Python sam o to zadba. Poniżej krótkie przypomnienie:"
   ]
  },
  {
   "cell_type": "code",
   "execution_count": null,
   "id": "e3d5dddd",
   "metadata": {},
   "outputs": [],
   "source": [
    "print(string, e)"
   ]
  },
  {
   "cell_type": "markdown",
   "id": "207cf0bd",
   "metadata": {},
   "source": [
    "---\n",
    "W tym przypadku o separatorze pamiętać nie musieliśmy."
   ]
  },
  {
   "cell_type": "code",
   "execution_count": null,
   "id": "1b0ca9ac",
   "metadata": {},
   "outputs": [],
   "source": [
    "print(string, e, sep ='')\n",
    "print(string, e, sep ='\\n')\n",
    "print(string, e, sep ='\\t')"
   ]
  },
  {
   "cell_type": "markdown",
   "id": "93a40842",
   "metadata": {},
   "source": [
    "---\n",
    "Oczywiście mogliśmy dodać do funkcji kilka argumentów. Jednak w sytuacjach, gdy liczb lub innych obiektów jest dużo, dużo trudniej jest w ten sposób konstruować napisy, dlatego wymyślono też inne metody. Poniżej przedstawiny w jaki sposób przy użyciu funkcji `.format()` możemy koncentrować stringi z obiektami innego typu, natomiast w sekcji **Dodatek** można znaleźć informacje jak wykorzystać w tym celu inne metody.\n",
    "\n",
    "Przykład na użycie metody `.format()`:"
   ]
  },
  {
   "cell_type": "code",
   "execution_count": null,
   "id": "ddd72608",
   "metadata": {},
   "outputs": [],
   "source": [
    "tekst = \"Liczba turystów, którzy odwiedzili Tatrzański Park Narodowy w latach 2017-2021 (w tysiącach):\"\n",
    "rok_2021 = 4600\n",
    "rok_2020 = 3302\n",
    "rok_2019 = 3758\n",
    "rok_2018 = 3783\n",
    "rok_2017 = 3594"
   ]
  },
  {
   "cell_type": "markdown",
   "id": "a03642cc",
   "metadata": {},
   "source": [
    "a) Pierwszy sposób:"
   ]
  },
  {
   "cell_type": "code",
   "execution_count": null,
   "id": "3bb51416",
   "metadata": {},
   "outputs": [],
   "source": [
    "print(tekst, \"2021: {}\".format(rok_2021), \"2020: {}\".format(rok_2020), \n",
    "      \"2019: {}\".format(rok_2019), \"2018: {}\".format(rok_2018), \n",
    "      \"2017: {}\".format(rok_2017), sep = '\\n')"
   ]
  },
  {
   "cell_type": "markdown",
   "id": "a5c748c1",
   "metadata": {},
   "source": [
    "b) Drugi sposób:"
   ]
  },
  {
   "cell_type": "code",
   "execution_count": null,
   "id": "f3d8de20",
   "metadata": {},
   "outputs": [],
   "source": [
    "print(tekst + \"\\n\" + \"2021: {}\\n2020: {}\\n2019: {}\\n2018: {}\\n2017: {}\".format(rok_2021, rok_2020, rok_2019, rok_2018, rok_2017))"
   ]
  },
  {
   "cell_type": "markdown",
   "id": "299e9dde",
   "metadata": {},
   "source": [
    "c) Trzeci:"
   ]
  },
  {
   "cell_type": "code",
   "execution_count": null,
   "id": "b17400ce",
   "metadata": {},
   "outputs": [],
   "source": [
    "print(tekst, \"2021: {}\\n2020: {}\\n2019: {}\\n2018: {}\\n2017: {}\".format(rok_2021, rok_2020, rok_2019, rok_2018, rok_2017), sep = '\\n')"
   ]
  },
  {
   "cell_type": "markdown",
   "id": "39ebe029",
   "metadata": {},
   "source": [
    "---\n",
    "Oczywiście sposobów jest więcej. Powyższa metoda polega na dodawaniu nawiasów klamrowych `{}` w miejscach, w których chcemy wydrukować wartości danych zmiennych. Następnie w metodzie `.format()` kolejno te zmienne wypisujemy. Oprócz tej funkcji istnieją także metody wykorzystujące *f--strings* oraz wykorzystujące operator `%`. Więcej informacji na ten temat można znaleźć w sekcji **Dodatek** na końcu notebooka."
   ]
  },
  {
   "cell_type": "markdown",
   "id": "e034ed6a",
   "metadata": {},
   "source": [
    "---\n",
    "Przećwiczmy powyższą metodę.\n",
    "\n",
    "### Zadanie 3. [0 pkt.]\n",
    "\n",
    "Zdefiniuj zmienną *information_about_patron*, w której przechowywane będą informacje na temat patrona naszej uczelni z wikipedii https://pl.wikipedia.org/wiki/Ryszard_%C5%81azarski. Definiowanie powinno zostać przeprowadzone przy użyciu metody `.format()`, wykorzystując f-string lub operator `%` (z sekcji **Dodatek**) i powinien być postaci:\n",
    "\n",
    "Imie:\n",
    "\n",
    "Nazwisko:\n",
    "\n",
    "Miejsce urodzenia:\n",
    "\n",
    "Wiek:\n",
    "\n",
    "Zawod:\n",
    "\n",
    "Przypisz poniższym zmiennym odpowiednie informacje i stwórz przy ich użyciu zmienną *information_about_patron*.\n",
    "\n",
    "**Uwaga!** Nie używaj polskich znaków!"
   ]
  },
  {
   "cell_type": "code",
   "execution_count": null,
   "id": "55db85ab",
   "metadata": {
    "tags": []
   },
   "outputs": [],
   "source": [
    "name = ...\n",
    "surname = ...\n",
    "place_of_birth = ...\n",
    "age = ...\n",
    "occupation = ...\n",
    "\n",
    "information_about_patron = ..."
   ]
  },
  {
   "cell_type": "code",
   "execution_count": null,
   "id": "2cc44eae",
   "metadata": {
    "tags": []
   },
   "outputs": [],
   "source": [
    "# Tutaj możesz przetestować rozwiązanie\n",
    "\n",
    "print(information_about_patron)"
   ]
  },
  {
   "cell_type": "code",
   "execution_count": null,
   "id": "01eadaca",
   "metadata": {
    "deletable": false,
    "editable": false
   },
   "outputs": [],
   "source": [
    "grader.check(\"Q3\")"
   ]
  },
  {
   "cell_type": "markdown",
   "id": "6b292031",
   "metadata": {},
   "source": [
    "---\n",
    "---\n",
    "## Indeksowanie i wycinki stringów\n",
    "\n",
    "Jak już wspomnieliśmy, string to łańcuch, sekwencja znaków. Skoro tak, to można się spodziewać, że jesteśmy w stanie wywołać znak z konkretnego miejsca takiego łańcucha."
   ]
  },
  {
   "cell_type": "code",
   "execution_count": null,
   "id": "59244746",
   "metadata": {},
   "outputs": [],
   "source": [
    "movie = \"interstellar\"\n",
    "letter = movie[1]"
   ]
  },
  {
   "cell_type": "markdown",
   "id": "d117162a",
   "metadata": {},
   "source": [
    "---\n",
    "W powyższej komórce najpierw zapisaliśmy łańcuch w zmiennej *movie*, a następnie literę o indeksie 1 w zmiennej *letter*. Wywołajmy ją."
   ]
  },
  {
   "cell_type": "code",
   "execution_count": null,
   "id": "78061cb9",
   "metadata": {},
   "outputs": [],
   "source": [
    "letter"
   ]
  },
  {
   "cell_type": "markdown",
   "id": "3846f089",
   "metadata": {},
   "source": [
    "---\n",
    "Jak widać, być może niezgodnie z przypuszczeniami, znakiem o indeskie 1 jest litera *n*, a nie *i*. Tę regułę należy zapamiętać &ndash; w Pythonie indeksowanie zaczyna się od 0, a nie 1!"
   ]
  },
  {
   "cell_type": "code",
   "execution_count": null,
   "id": "b4d88228",
   "metadata": {},
   "outputs": [],
   "source": [
    "first_letter = movie[0]\n",
    "first_letter"
   ]
  },
  {
   "cell_type": "markdown",
   "id": "71dc6635",
   "metadata": {},
   "source": [
    "W celu podkreślena, indeksowanie łańcuchów wygląda następująco:\n",
    "\n",
    "| indeksy | 0 | 1 | 2 | 3 | 4 | 5 | 6 | 7 | 8 | 9 | 10 | 11 |\n",
    "| --- | --- | --- | --- | --- | --- | --- | --- | --- | --- | --- | --- | --- |\n",
    "| litery | i | n | t | e | r | s | t | e | l | l | a | r |"
   ]
  },
  {
   "cell_type": "markdown",
   "id": "8b253f81",
   "metadata": {},
   "source": [
    "---\n",
    "Jeżeli chcielibyśmy wyciąć część łańcucha, możemy w indeksie używać dwukropków. Znak z miejsca poprzedzającego dwukropek będzie uwzględniony, znak po dwukropku już nie. Przykłady użycia:"
   ]
  },
  {
   "cell_type": "code",
   "execution_count": null,
   "id": "f492f403",
   "metadata": {},
   "outputs": [],
   "source": [
    "print(\"Lańcuch od trzeciego znaku: \", movie[2:])\n",
    "print(\"Lańcuch do trzeciego znaku wyłącznie: \", movie[:2])\n",
    "print(\"Lańcuch między 4 a 8 znakiem: \", movie[3:7])\n",
    "print(\"Słowo z wyłączniem znaku ostatniego \", movie[:-1])\n",
    "print(\"Znaki ze słowa z miejsc o parzystych indeksach \", movie[::2])"
   ]
  },
  {
   "cell_type": "markdown",
   "id": "589da4cc",
   "metadata": {},
   "source": [
    "---\n",
    "Jak widzimy w przedostatniej linijce, indeksy mają swoje ujemne odpowiedniki. Aby wyznaczyć ostatni znak łańcucha, wystarczy w indeksie wpisać -1, a jeżeli chcielibyśmy zorientować się, jaki znak występuje na przedostatnim miejscu, użylibyśmy -2. Nie musimy na palcach liczyć znaków ani uprzednio wyznaczać długości łańcucha. Jak widać jesteśmy też w stanie okreslić krok, aby np. wyciągnąć tylko znaki, które znajdują się na parzystych miejscach. Konwencja jest następująca: **str[start:end[:step]]**. Umieszczenie **step** w drugim prostokątnym nawiasie oznacza, że jest to argument opcjonalny.\n",
    "\n",
    "**Uwaga!** Stringów nie da się nadpisywać, wykorzystując w tym celu indeksy. Gdybyśmy chcieli podstawić za pierwszą literę łancucha *movie* jakąś inną, Python by nam na to nie pozwolił:"
   ]
  },
  {
   "cell_type": "code",
   "execution_count": null,
   "id": "481e0af7",
   "metadata": {},
   "outputs": [],
   "source": [
    "movie[0] = 'p'"
   ]
  },
  {
   "cell_type": "markdown",
   "id": "022488ba",
   "metadata": {},
   "source": [
    "---\n",
    "Aby przekształcić w ten sposób łańcuch, musimy do nowej litery dodać łańcuch *movie* bez pierwszej:"
   ]
  },
  {
   "cell_type": "code",
   "execution_count": null,
   "id": "67745c96",
   "metadata": {},
   "outputs": [],
   "source": [
    "'p' + movie[1:]"
   ]
  },
  {
   "cell_type": "markdown",
   "id": "5ba598c1",
   "metadata": {},
   "source": [
    "---\n",
    "---\n",
    "## Iterowanie po stringach\n",
    "\n",
    "Ze względu na fakt, że stringi są łańcuchami, możemy iterować po znakach w nich występujących. Poniżej znajduje się kod, który wykorzystuje pętle **while** w celu przeliterowania naszego słowa. W kolejnej komórce, wykorzystując pętle **for**, wykorzystaliśmy możliwość iterowania bezpośrednio po znakach."
   ]
  },
  {
   "cell_type": "code",
   "execution_count": null,
   "id": "91ded872",
   "metadata": {},
   "outputs": [],
   "source": [
    "index = 0\n",
    "while index < len(movie):\n",
    "    print(movie[index])\n",
    "    index += 1"
   ]
  },
  {
   "cell_type": "code",
   "execution_count": null,
   "id": "51cc4153",
   "metadata": {},
   "outputs": [],
   "source": [
    "for letter in movie:\n",
    "    print(letter)"
   ]
  },
  {
   "cell_type": "markdown",
   "id": "f662592f",
   "metadata": {},
   "source": [
    "### Zadanie 4. [0 pkt.]\n",
    "\n",
    "Napisz funkcję o nazwie **length**, która będzie zwracać długość wprowadzanego łańcucha znaków. Wykorzystaj w tym celu pętle. Na przykład: **length('kotek') = 5**."
   ]
  },
  {
   "cell_type": "code",
   "execution_count": null,
   "id": "708d249e",
   "metadata": {
    "tags": []
   },
   "outputs": [],
   "source": [
    "def length(string):\n",
    "    \n",
    "    "
   ]
  },
  {
   "cell_type": "code",
   "execution_count": null,
   "id": "f2992106",
   "metadata": {
    "tags": []
   },
   "outputs": [],
   "source": [
    "# Tutaj możesz przetestować swoje rozwiązanie\n",
    "\n",
    "print(length(movie))\n",
    "print(length('Hello world!'))"
   ]
  },
  {
   "cell_type": "code",
   "execution_count": null,
   "id": "6b482572",
   "metadata": {
    "deletable": false,
    "editable": false
   },
   "outputs": [],
   "source": [
    "grader.check(\"Q4\")"
   ]
  },
  {
   "cell_type": "markdown",
   "id": "25205c38",
   "metadata": {},
   "source": [
    "---\n",
    "Spróbujmy teraz przeliterować słowo od tyłu. Poniżej przedstawimy w jaki sposób przeliterować słowo od tyłu przy użyciu **for**, a następnie poprosimy Ciebie o napisanie kodu wykonującego identyczną operację, wykorzystując jednak pętlę **while**."
   ]
  },
  {
   "cell_type": "code",
   "execution_count": null,
   "id": "acd8f0ae",
   "metadata": {},
   "outputs": [],
   "source": [
    "word_length = len(movie)\n",
    "for index in range(word_length):\n",
    "    print(movie[- index - 1])"
   ]
  },
  {
   "cell_type": "markdown",
   "id": "7454d23f",
   "metadata": {},
   "source": [
    "### Zadanie 5. [0 pkt.]\n",
    "\n",
    "$\\color{red}{\\text{Uwaga! Zadanie bez gradera.}}$\n",
    "\n",
    "Napisz program, który będzie literował słowo od tyłu. Użyj tym razem pętli *while*."
   ]
  },
  {
   "cell_type": "code",
   "execution_count": null,
   "id": "5e453a1c",
   "metadata": {},
   "outputs": [],
   "source": [
    "# Miejsce na twój kod\n",
    "\n"
   ]
  },
  {
   "cell_type": "markdown",
   "id": "1e52f718",
   "metadata": {},
   "source": [
    "---\n",
    "Gdybyśmy postanowili zapisać słowo od tyłu, moglibyśmy zrobić to następująco:"
   ]
  },
  {
   "cell_type": "code",
   "execution_count": null,
   "id": "59f3c5d1",
   "metadata": {},
   "outputs": [],
   "source": [
    "word_length = len(movie)\n",
    "word_backwards = ''\n",
    "for index in range(word_length):\n",
    "    word_backwards += movie[- index - 1]\n",
    "print(word_backwards)"
   ]
  },
  {
   "cell_type": "markdown",
   "id": "bd530897",
   "metadata": {},
   "source": [
    "### Zadanie 6. [0 pkt.]\n",
    "\n",
    "Napisz funkcję o nazwie **word_backwards**, która będzie zwracać słowo od tyłu. Dla przykładu: **word_backwards('kotek') = 'ketok'**. Wykorzystaj w tym celu pętlę *while*."
   ]
  },
  {
   "cell_type": "code",
   "execution_count": null,
   "id": "81c482da",
   "metadata": {
    "tags": []
   },
   "outputs": [],
   "source": [
    "def word_backwards(string):\n",
    "\n"
   ]
  },
  {
   "cell_type": "code",
   "execution_count": null,
   "id": "d1bf3203",
   "metadata": {
    "tags": []
   },
   "outputs": [],
   "source": [
    "# Tutaj możesz przetestować swoje rozwiązanie\n",
    "\n",
    "print(word_backwards(movie))\n",
    "print(word_backwards('Hello world!'))"
   ]
  },
  {
   "cell_type": "code",
   "execution_count": null,
   "id": "cf8f249d",
   "metadata": {
    "deletable": false,
    "editable": false
   },
   "outputs": [],
   "source": [
    "grader.check(\"Q6\")"
   ]
  },
  {
   "cell_type": "markdown",
   "id": "ccda13e5",
   "metadata": {},
   "source": [
    "---\n",
    "Możemy jednak postąpić nieco inaczej, wykorzystując indeksowanie z krokiem:"
   ]
  },
  {
   "cell_type": "code",
   "execution_count": null,
   "id": "6872c080",
   "metadata": {},
   "outputs": [],
   "source": [
    "movie[::-1]"
   ]
  },
  {
   "cell_type": "markdown",
   "id": "202e3fdb",
   "metadata": {},
   "source": [
    "---\n",
    "Gdybyśmy byli zainteresowani nie tyle długością łańcucha, co liczbą wystąpień konkretnego elementu, to moglibyśmy napisać funkcję, która zliczać nam będzie liczbę wystąpień elementu **s** w łańcuchu **string**."
   ]
  },
  {
   "cell_type": "code",
   "execution_count": null,
   "id": "cdd573a0",
   "metadata": {},
   "outputs": [],
   "source": [
    "def occurences(string, s):\n",
    "    count = 0\n",
    "    for letter in string:\n",
    "        if s == letter:\n",
    "            count += 1\n",
    "    return count"
   ]
  },
  {
   "cell_type": "markdown",
   "id": "d81f6120",
   "metadata": {},
   "source": [
    "---\n",
    "Zweryfikujmy jej działanie:"
   ]
  },
  {
   "cell_type": "code",
   "execution_count": null,
   "id": "922039c2",
   "metadata": {},
   "outputs": [],
   "source": [
    "occurences('interstellar', 'l')"
   ]
  },
  {
   "cell_type": "markdown",
   "id": "98763489",
   "metadata": {},
   "source": [
    "---\n",
    "---\n",
    "## Operacje logiczne na stringach\n",
    "\n",
    "Gdybyśmy chcieli tylko sprawdzić, czy dany znak w łańcuchu występuje albo nie występuje, moglibyśmy użyć operatora **in**:"
   ]
  },
  {
   "cell_type": "code",
   "execution_count": null,
   "id": "93b96d42",
   "metadata": {},
   "outputs": [],
   "source": [
    "print('l' in movie)\n",
    "print('i' not in movie)\n",
    "print('x' not in movie)"
   ]
  },
  {
   "cell_type": "markdown",
   "id": "997c864a",
   "metadata": {},
   "source": [
    "---\n",
    "W ciekawy sposób możemy wykorzystywać znaki nierówności, podpytując Pythona, który z łańcuchów jest pierwszy alfabetycznie. W taki sposób możemy zapytać się, czy litera `a` występuje w alfabecie przed `b`:"
   ]
  },
  {
   "cell_type": "code",
   "execution_count": null,
   "id": "97aa02f3",
   "metadata": {},
   "outputs": [],
   "source": [
    "'a' < 'b'"
   ]
  },
  {
   "cell_type": "markdown",
   "id": "e2005ae8",
   "metadata": {},
   "source": [
    "---\n",
    "Należy jednak podkreślić, że konwencja jest taka, że duże litery występują w alfabecie przed swoimi mniejszymi odpowiednikami, dlatego to `B` występuje przed `a`:"
   ]
  },
  {
   "cell_type": "code",
   "execution_count": null,
   "id": "e4976d05",
   "metadata": {},
   "outputs": [],
   "source": [
    "'a' < 'B'"
   ]
  },
  {
   "cell_type": "markdown",
   "id": "4329209c",
   "metadata": {},
   "source": [
    "---\n",
    "---\n",
    "## Wbudowane funkcje i metody dla stringów\n",
    "\n",
    "Oczywiście, aby wyznaczyć długość łańcucha, nie musieliśmy sami definiować funkcji wykonującej tę operację. Python posiada dużo wbudowanych funkcji, których wykorzystywanie zalecamy, ponieważ są napisane w zoptymalizowany sposób, obciążając naszą pamięć w możliwie najmniejszym stopniu. Chcąc poznać długość stringa, możemy po prostu użyć funkcji **len()**, która bardzo prosta w użyciu:"
   ]
  },
  {
   "cell_type": "code",
   "execution_count": null,
   "id": "0cb4df51",
   "metadata": {},
   "outputs": [],
   "source": [
    "movie = 'the french dispatch'\n",
    "len(movie)"
   ]
  },
  {
   "cell_type": "markdown",
   "id": "9cb7fec4",
   "metadata": {},
   "source": [
    "---\n",
    "Gdybyśmy jednak chcieli wyznaczyć ostatni znak wykorzystując długość łańcucha, nie moglibyśmy tego zrobić tak:"
   ]
  },
  {
   "cell_type": "code",
   "execution_count": null,
   "id": "c643d8d5",
   "metadata": {},
   "outputs": [],
   "source": [
    "movie[len(movie)]"
   ]
  },
  {
   "cell_type": "markdown",
   "id": "94b6ffa5",
   "metadata": {},
   "source": [
    "---\n",
    "Pytanie brzmi, dlaczego? Spróbuj naprawić poniżej powyższy kod, tak aby przy użyciu funkcji **len()** jednak znak znajdujący się na ostatnim miejscu wyznaczyć."
   ]
  },
  {
   "cell_type": "code",
   "execution_count": null,
   "id": "6eb38a6d",
   "metadata": {},
   "outputs": [],
   "source": [
    "#Miejsce na twój kod\n",
    "\n"
   ]
  },
  {
   "cell_type": "markdown",
   "id": "8d087a13",
   "metadata": {},
   "source": [
    "---\n",
    "Tak jak w przypadku funkcji *length* tak i w przypadku *occurences*, nie trzeba było żadnej funkcji definiować, wystarczyło wykorzystać metodę *.count()*."
   ]
  },
  {
   "cell_type": "code",
   "execution_count": null,
   "id": "5dbe8a74",
   "metadata": {},
   "outputs": [],
   "source": [
    "movie = 'niewinni czarodzieje'\n",
    "movie.count('n')"
   ]
  },
  {
   "cell_type": "markdown",
   "id": "eab7bd7e",
   "metadata": {},
   "source": [
    "---\n",
    "Metodami nazywami funkcje, które pozwalają nam na wykonywaniu operacji na zmiennych konkretnego typu, wykorzystując składnię: zmienna`.metoda([opcjonalne_argumenty])`. Jeżeli chcemy zweryfikować jakie metody są dostępne w odniesieniu do konkretnej zmiennej, możemy użyć w tym celu funkcji `dir`, wpisując jako argument typ zmiennej `str` albo wykorzystując jako argument obiekt konkretnego typu, która zwróci nam listę z dostępnymi metodami:"
   ]
  },
  {
   "cell_type": "code",
   "execution_count": null,
   "id": "a66073e2",
   "metadata": {},
   "outputs": [],
   "source": [
    "print(dir(str))"
   ]
  },
  {
   "cell_type": "code",
   "execution_count": null,
   "id": "fdaaaa4e",
   "metadata": {},
   "outputs": [],
   "source": [
    "print(dir(movie))"
   ]
  },
  {
   "cell_type": "markdown",
   "id": "febc9665",
   "metadata": {},
   "source": [
    "---\n",
    "Jak widać, metod jest wiele. Poniżej przedstawiamy tabelę z naszym zdaniem najczęściej wykorzystywanymi, a następnie przykłady ich użycia. Pod linkiem https://docs.python.org/3/library/stdtypes.html#string-methods można znaleźć bardziej szczegółowe opisy wszystkich dostępnych metod. Parametry w nawiasach prostokątnych są opcjonalne.\n",
    "\n",
    "|  | Metoda | Opis |\n",
    "| --- | --- | --- |\n",
    "| 1. | **.capitalize()** | Zwraca kopię łańcucha zapisaną z pierwszej dużej litery i z resztą liter sprowadzoną do ich małych odpowiedników. |\n",
    "| 2. | **.count(sub[, start[, end]])** | Pozwala wyznaczyć liczbę wystąpień określonego łańcucha w danym łańcuchu. Możemy ograniczyć się do podłańcucha przeszukiwanego łańcucha. |\n",
    "| 3. | **.endswith(suffix[, start[, end]])** | Zwraca `True` jeśli dany łańcuch występuje na końcu przeszukiwanego łańcucha. |\n",
    "| 4. | **.find(sub[, start[ ,end]])** | Zwraca indeks od którego zaczyna się pierwszy odnaleziony podłańcuch w łańcuchu. |\n",
    "| 5. | **.isnumeric()** | Zwraca `True`, jeśli wszystkie znaki w łańcuchu są cyframi. |\n",
    "| 6. | **.lower()** | Zwraca kopię łancucha sprowadzając wszystkie litery do małych. |\n",
    "| 7. | **.replace(old, new[, count])** | Zwraca kopię przekształconego łańcucha, w którym za łańcuch `old` podstawiony jest `new`. |\n",
    "| 8. | **.split(sep=None, maxsplit=- 1)** | Zwraca listę z elementami łańcucha podzielonymi względem parametru `sep`. Elementy z listy wywołujemy tak samo jak z ze zmiennej typu string. |\n",
    "| 9. | **.startswith(prefix[, start[, end]])** | Zwraca `True` jeśli dany łańcuch występuje na początku przeszukiwanego łańcucha. |\n",
    "| 10. | **.upper()** | Zwraca kopię łancucha sprowadzając wszystkie litery do wielkich. |\n",
    "\n",
    "**Uwaga!** Metody przekształcające w jakiś sposób łańcuch nie robią tego trwale, tworzą kopię naszego łańcucha, więc jeśli chcesz zapisac dane zmiany, to musisz nadpisać jakąś zmienną albo stworzyć nową."
   ]
  },
  {
   "cell_type": "markdown",
   "id": "58c9f676",
   "metadata": {},
   "source": [
    "---\n",
    "**1. capitalize()**"
   ]
  },
  {
   "cell_type": "code",
   "execution_count": null,
   "id": "f411f845",
   "metadata": {},
   "outputs": [],
   "source": [
    "# (Gdyby ktoś się zastanawiał &ndash; poniższe zdanie ma w istocie pełny logiczny sens, informuje o zamiarze małej wydry wydarcia innej wydrze małej wydry)\n",
    "sentence = 'wydrze wydrzę wydrze wydrze wydrze wydrzę'"
   ]
  },
  {
   "cell_type": "code",
   "execution_count": null,
   "id": "d9a18100",
   "metadata": {},
   "outputs": [],
   "source": [
    "sentence.capitalize()"
   ]
  },
  {
   "cell_type": "code",
   "execution_count": null,
   "id": "5971dd77",
   "metadata": {},
   "outputs": [],
   "source": [
    "'wydRzE wYdrzE wYdrze wydrzE Wydrze wydrZę'.capitalize()"
   ]
  },
  {
   "cell_type": "markdown",
   "id": "77c0cd8c",
   "metadata": {},
   "source": [
    "---\n",
    "**2. count(sub[, start[, end]])**"
   ]
  },
  {
   "cell_type": "code",
   "execution_count": null,
   "id": "df1b520f",
   "metadata": {},
   "outputs": [],
   "source": [
    "# liczba liter 'w' w zdaniu\n",
    "sentence.count('w')"
   ]
  },
  {
   "cell_type": "code",
   "execution_count": null,
   "id": "9dfb2025",
   "metadata": {},
   "outputs": [],
   "source": [
    "# liczba liter 'w' w zdaniu między 5 i 10 znakiem\n",
    "sentence.count('w', 5, 10)"
   ]
  },
  {
   "cell_type": "markdown",
   "id": "f08034dd",
   "metadata": {},
   "source": [
    "---\n",
    "**3. endswith(suffix[, start[, end]])**"
   ]
  },
  {
   "cell_type": "code",
   "execution_count": null,
   "id": "5040d88b",
   "metadata": {},
   "outputs": [],
   "source": [
    "sentence.endswith('wydrzę')"
   ]
  },
  {
   "cell_type": "code",
   "execution_count": null,
   "id": "becb617d",
   "metadata": {},
   "outputs": [],
   "source": [
    "sentence.endswith('wydrze')"
   ]
  },
  {
   "cell_type": "markdown",
   "id": "075a8f78",
   "metadata": {},
   "source": [
    "---\n",
    "**4. find(sub[, start[ ,end]])**"
   ]
  },
  {
   "cell_type": "code",
   "execution_count": null,
   "id": "80a5b530",
   "metadata": {},
   "outputs": [],
   "source": [
    "sentence.find('wydrze')"
   ]
  },
  {
   "cell_type": "code",
   "execution_count": null,
   "id": "600f4a70",
   "metadata": {},
   "outputs": [],
   "source": [
    "# Gdybyśmy chcieli znaleźć indeks drugiego wystąpienia słowa 'wydrze', moglibyśmy postąpić tak:\n",
    "first_occurence = sentence.find('wydrze')\n",
    "sentence.find('wydrze', first_occurence + 1)"
   ]
  },
  {
   "cell_type": "markdown",
   "id": "511b16d1",
   "metadata": {},
   "source": [
    "---\n",
    "**5. isnumeric()**"
   ]
  },
  {
   "cell_type": "code",
   "execution_count": null,
   "id": "44bc5555",
   "metadata": {},
   "outputs": [],
   "source": [
    "'0123'.isnumeric()"
   ]
  },
  {
   "cell_type": "code",
   "execution_count": null,
   "id": "dc0f7a1f",
   "metadata": {},
   "outputs": [],
   "source": [
    "'123'.isnumeric()"
   ]
  },
  {
   "cell_type": "markdown",
   "id": "0d9c4da3",
   "metadata": {},
   "source": [
    "---\n",
    "**6. lower()**"
   ]
  },
  {
   "cell_type": "code",
   "execution_count": null,
   "id": "222df0cc",
   "metadata": {},
   "outputs": [],
   "source": [
    "'WYDRZE WYDRZę WYDRZE WYDRZE WYDRZE WYDRZę'.lower()"
   ]
  },
  {
   "cell_type": "markdown",
   "id": "7898bec8",
   "metadata": {},
   "source": [
    "---\n",
    "**7. replace(old, new[, count])**"
   ]
  },
  {
   "cell_type": "code",
   "execution_count": null,
   "id": "43a4360b",
   "metadata": {},
   "outputs": [],
   "source": [
    "sentence.replace('w', 'x')"
   ]
  },
  {
   "cell_type": "markdown",
   "id": "8cf78250",
   "metadata": {},
   "source": [
    "---\n",
    "**8. split(sep=None, maxsplit=- 1)**"
   ]
  },
  {
   "cell_type": "code",
   "execution_count": null,
   "id": "3b68ba62",
   "metadata": {},
   "outputs": [],
   "source": [
    "sentence.split(' ')"
   ]
  },
  {
   "cell_type": "code",
   "execution_count": null,
   "id": "8b067ddb",
   "metadata": {},
   "outputs": [],
   "source": [
    "# Podzieliliśmy zdanie na słowa. Gdybyśmy chcieli odwołać się do konkretnego elementu:\n",
    "\n",
    "sentence_splitted = sentence.split(' ')\n",
    "sentence_splitted[-1]"
   ]
  },
  {
   "cell_type": "markdown",
   "id": "57796c89",
   "metadata": {},
   "source": [
    "---\n",
    "**8. startswith(prefix[, start[, end]])**"
   ]
  },
  {
   "cell_type": "code",
   "execution_count": null,
   "id": "82f32ddf",
   "metadata": {},
   "outputs": [],
   "source": [
    "sentence.startswith('w')"
   ]
  },
  {
   "cell_type": "markdown",
   "id": "f040bbfc",
   "metadata": {},
   "source": [
    "---\n",
    "**8. upper()**"
   ]
  },
  {
   "cell_type": "code",
   "execution_count": null,
   "id": "dd6773cc",
   "metadata": {},
   "outputs": [],
   "source": [
    "sentence.upper()"
   ]
  },
  {
   "cell_type": "markdown",
   "id": "5715b970",
   "metadata": {},
   "source": [
    "---\n",
    "**Uwaga!** Możemy wykorzystywać kilka metod na raz."
   ]
  },
  {
   "cell_type": "code",
   "execution_count": null,
   "id": "089edcfa",
   "metadata": {},
   "outputs": [],
   "source": [
    "sentence.upper().replace('W','x').replace('E','e')"
   ]
  },
  {
   "cell_type": "markdown",
   "id": "efc43e73",
   "metadata": {},
   "source": [
    "---\n",
    "---\n",
    "# Zadania domowe\n",
    "\n",
    "Teoria za nami, przejdziemy teraz do zadań punktowanych."
   ]
  },
  {
   "cell_type": "markdown",
   "id": "e0d27905",
   "metadata": {},
   "source": [
    "### **Zadanie 7. [0.5 pkt]**\n",
    "\n",
    "Arkusz kalkulacyjny Excel ma opcję zapisania pliku w postaci csv (comma-separated values). Gdybyśmy dysponowali tabelą, w której przechowywalibyśmy informacje na temat imienia, nazwiska oraz wieku danej osoby, na przykład taką:\n",
    "\n",
    "| Imię | Nazwisko | Wiek |\n",
    "| --- | --- | --- |\n",
    "| Jan | Kowalski | 24 |\n",
    "| Maria | Nowak | 30 |\n",
    "| Stefan | Banach | 130 |\n",
    "\n",
    "i zapisalibyśmy taki plik przy użyciu rozszerzenia .csv, to otrzymalibyśmy w rezultacie plik o następującej strukturze:\n",
    "\n",
    "Imię, Nazwsiko, Wiek\n",
    "\n",
    "Jan,Kowalski,24\n",
    "\n",
    "Maria,Nowak,30\n",
    "\n",
    "Stefan,Banach,130\n",
    "\n",
    "Pliki w postaci formatu .csv są bardzo wygodne do przechowyania danych, ponieważ nie zajmują tak dużo miejsca jak np. xslx i są dużo uniwersalniejsze.\n",
    "\n",
    "W zadaniu rozważamy łańcuchy znaków w postaci imię,nazwisko,wiek. Napisz funkcję o nazwie *age_from_string*, która zwracać będzie wiek w typie int, z łańcuchów takiej postaci, np. **age_from_string('Stefan,Banach,130') = 130**. Zadbaj o to, żeby użytkownik wpisywał łańcuchy odpowiednieogo typu. Jeżeli użytkownik nie podstawi za parametr *string* zmiennej typu str, to funkcja powinna zwrócić informację: `Parametr powinien byc typu str`. Z kolei, jeśli okaże się, że łańcuch jednak nie będzie imieniem, nazwiskiem i wiekiem oddzielonymi przecinkami, to powinna zwrócić infromację: `Lancuch powinien byc postaci \"Imie,Nazwisko,Wiek\"`. Oczywiście nie chodzi tutaj o weryfikowanie, czy pierwsza sekwencja znaków rzeczywiście jest imieniem, a druga nazwiskiem, wystarczy, że w łańcuchu będziemy mieć wyraźny podział przecinkami na 3 stringi i że ostatni string będzie liczbą. Dopuść możliwość występowania w łańcuchu spacji, np. dla łańcucha `'Jan, Kowalski, 24'` funkcja także powinna zwracać `24`. Powodzenia!"
   ]
  },
  {
   "cell_type": "code",
   "execution_count": null,
   "id": "c7cf8996",
   "metadata": {
    "tags": []
   },
   "outputs": [],
   "source": [
    "def age_from_string(string):\n",
    "    ..."
   ]
  },
  {
   "cell_type": "code",
   "execution_count": null,
   "id": "cc70c994",
   "metadata": {
    "tags": []
   },
   "outputs": [],
   "source": [
    "# Tutaj możesz testować swoje rozwiązanie\n",
    "\n",
    "print(age_from_string('Stefan,Banach,130'))\n",
    "print('\\n')\n",
    "print(age_from_string('Maria, Nowak, 24'))\n",
    "print('\\n')\n",
    "print(age_from_string('interstellar'))\n",
    "print('\\n')\n",
    "print(age_from_string(100))"
   ]
  },
  {
   "cell_type": "code",
   "execution_count": null,
   "id": "e4ff6d8e",
   "metadata": {
    "deletable": false,
    "editable": false
   },
   "outputs": [],
   "source": [
    "grader.check(\"Q7\")"
   ]
  },
  {
   "cell_type": "markdown",
   "id": "4fc98f1b",
   "metadata": {},
   "source": [
    "### **Zadanie 8. [1.5 pkt]**\n",
    "\n",
    "Napisz funkcję o nazwie **pesel_interpretation**, która będzie analizowała numemry PESEL. Prace nad numerami PESEL (Powszechny Elektroniczny System Ewidencji Ludności) rozpoczęły się w roku 1972. Są to 11-cyfrowe identyfikatory numeryczne jednoznacznie identyfikujące określoną osobę fizyczną (więcej informacji pod linkiem: https://pl.wikipedia.org/wiki/PESEL). Jest kilka zasad ich tworzenia, my jednak ograniczymy się do części. Przede wszystkim ograniczymy się do numerów PESEL osób, które urodziły się w stuleciu 1900-1999. Najistotniejszą z zasad, którą należy uwzględnić, jest wyznaczenie następującej liczby kontrolnej:\n",
    "\n",
    "$$\n",
    "c_1\\cdot1 + c_2\\cdot3 + c_3\\cdot7 + c_4\\cdot9 + c_5\\cdot1 + c_6\\cdot3 + c_7\\cdot7 + c_8\\cdot9 + c_9\\cdot1+c_{10}\\cdot3+c_{11}\\cdot1,\n",
    "$$\n",
    "\n",
    "gdzie:\n",
    "\n",
    "| $2$ | $6$ | $0$ | $3$ | $0$ | $8$ | $3$ | $6$ | $4$ | $7$ | $9$ |\n",
    "| --- | --- | --- | --- | --- | --- | --- | --- | --- | --- | --- |\n",
    "| $c_1$ | $c_2$ | $c_3$ | $c_4$ | $c_5$ | $c_6$ | $c_7$ | $c_8$ | $c_9$ | $c_{10}$ | $c_{11}$ |\n",
    "\n",
    "i zweryfikowanie, czy ostatnia cyfra tej liczby jest zerem. Możemy to zrobić sprawdzając, czy liczba dzieli się przez 10 bez reszty lub zmieniając typ wyniku na zmienną string i wyznaczając ostatnią cyfrę. W rozważanym dalej przypadku PESELu `26030836479` liczba kontrolna jest równa: 180, więc dzieli się przez 10. Jednak liczba kontrolna nie weryfikuje, czy początkowa data zapisana jest prawidłowo. Na datę sklada się 6 cyfr. Pesel zaczynający się na `260308...` koduje nam 8 marca 1926, a więc pierwsze dwie cyfry są rokiem, kolejne miesiącem i ostatnie dniem. Funkcja, którą nazwiemy **pesel_interpretation()** powinna działać tak, że jeżeli trzecia i czwarta cyfra wskazuje na miesiąc powyżej 12, powinniśmy otrzymać komunikat `Miesiac niepoprawny`. Natomiast jeśli dzień będzie liczbą powyżej 31, to `Dzień niepooprawny`. Oczywiście problemów może być więcej, np. zakodowanie 31 kwietnia albo 29 lutego 1901 roku, kiedy rok nie był przestępny, jednak w takie szczegóły już wchodzić nie będziemy. W PESELu kodowana jest także płeć osoby w cyfrze $c_{10}$. Jeżeli cyfra jest parzysta, osoba jest kobietą, jeśli parzysta &ndash; mężczyzną. Funkcja ma zwracać następujące komunikaty dla danych parametrów:\n",
    "\n",
    "1. Jeżeli wprowadzony zostanie nieprawidłowy numer ze względu na typ, np. `26030836479` zamiast `'26030836479'` funkcja wyświetli tekst: `'Wprowadzany PESEL powinien byc typu str'`,\n",
    "2. Jeżeli liczba cyfr będzie nieodpowiednia `'2603383647'` albo jeśli zamiast jakiejś cyfry będzie inny znak `'2603383647a'`  funkcja wyświetli tekst: `'PESEL powinien skladac sie z 11 cyfr'`,\n",
    "3. Jeżeli warunek kontrolny nie będzie spełniony funkcja wyświetli tekst `'PESEL niepoprawny'`,\n",
    "4. Jeźeli miesiąc nie będzie poprawny `'Miesiac niepoprawny'`,\n",
    "5. Jeżeli dzień nie będzie poprawny `'Dzien niepoprawny'`,\n",
    "6. Jeżeli wprowadzony zostanie prawidłowo, funkcja wyświetli tekst z informacjami: Rok urodzenia, Miesiąc, Dzień, Płeć. Na przykład dla numeru `26030836479` powinniśmy otrzymać:\n",
    "\n",
    "     - Rok urodzenia: 1926\n",
    "     - Miesiac: 3\n",
    "     - Dzien: 8\n",
    "     - Plec: Mezczyzna\n",
    "     \n",
    "Na stronie https://pesel.cstudios.pl/o-generatorze/generator-on-line możesz generować prawidłowo skonstruowane PESELe do testów. Powodzenia!"
   ]
  },
  {
   "cell_type": "code",
   "execution_count": null,
   "id": "9b4a9d88",
   "metadata": {
    "tags": []
   },
   "outputs": [],
   "source": [
    "def pesel_interpretation(pesel):\n",
    "    ..."
   ]
  },
  {
   "cell_type": "code",
   "execution_count": null,
   "id": "819a7bdf",
   "metadata": {
    "tags": []
   },
   "outputs": [],
   "source": [
    "# Tutaj możesz testować swoje rozwiązanie\n",
    "\n",
    "print(pesel_interpretation('26030836479'))\n",
    "print('\\n')\n",
    "print(pesel_interpretation(26030836479))\n",
    "print('\\n')\n",
    "print(pesel_interpretation('26033836476'))\n",
    "print('\\n')\n",
    "print(pesel_interpretation('26130836472'))\n",
    "print('\\n')\n",
    "print(pesel_interpretation('2603383647'))\n",
    "print('\\n')\n",
    "print(pesel_interpretation('2603383647a'))\n",
    "print('\\n')\n",
    "print(pesel_interpretation('26033836475'))"
   ]
  },
  {
   "cell_type": "code",
   "execution_count": null,
   "id": "ae3f5017",
   "metadata": {
    "deletable": false,
    "editable": false
   },
   "outputs": [],
   "source": [
    "grader.check(\"Q8\")"
   ]
  },
  {
   "cell_type": "markdown",
   "id": "40b84863",
   "metadata": {},
   "source": [
    "---\n",
    "---\n",
    "# Dodatek\n",
    "\n",
    "## Koncentracja stringów innymi metodami\n",
    "\n",
    "1. **f-strings**"
   ]
  },
  {
   "cell_type": "code",
   "execution_count": null,
   "id": "bcbc3053",
   "metadata": {},
   "outputs": [],
   "source": [
    "tekst = \"Liczba turystów, którzy odwiedzili Tatrzański Park Narodowy w latach 2017-2021 (w tysiącach):\"\n",
    "rok_2021 = 4600\n",
    "rok_2020 = 3302\n",
    "rok_2019 = 3758\n",
    "rok_2018 = 3783\n",
    "rok_2017 = 3594"
   ]
  },
  {
   "cell_type": "code",
   "execution_count": null,
   "id": "5544129f",
   "metadata": {},
   "outputs": [],
   "source": [
    "print(tekst, f\"2021: {rok_2021}\", f\"2020: {rok_2020}\", f\"2019: {rok_2019}\", \n",
    "      f\"2018: {rok_2018}\", f\"2017: {rok_2017}\", sep = '\\n')"
   ]
  },
  {
   "cell_type": "markdown",
   "id": "2a80ecda",
   "metadata": {},
   "source": [
    "---\n",
    "f-strings pomagają polepszyć przejrzystość kodu. Użycie litery **f** w poprzedniej komórce było informacją dla Pythona, że mamy do czynienia z tym rodzajem łańcucha. W takim obiekcie w nawiasach klamrowych `{}` dodajemy nazwy zmiennych, których wartości chcemy wydrukować.\n",
    "\n",
    "3. Przy użyciu operatora `%`:"
   ]
  },
  {
   "cell_type": "code",
   "execution_count": null,
   "id": "bdefff5b",
   "metadata": {},
   "outputs": [],
   "source": [
    "print(tekst + \"\\n\" + \"2021: %d\\n2020: %d\\n2019: %d\\n2018: %d\\n2017: %d\" % (rok_2021, rok_2020, rok_2019, rok_2018, rok_2017))"
   ]
  },
  {
   "cell_type": "markdown",
   "id": "d3f22553",
   "metadata": {},
   "source": [
    "---\n",
    "Operator działa następująco: za `%d` możemy podstawić liczbę całkowitą. Za `%g` liczbę zmiennoprzecinkową, natomiast za `%s` zmienną typu string. Przykłady:"
   ]
  },
  {
   "cell_type": "code",
   "execution_count": null,
   "id": "4f42256a",
   "metadata": {},
   "outputs": [],
   "source": [
    "'W łańcuchu możemy zamieścić %s, możemy też zamieścić liczbę całkowitą %d i liczbę zmiennoprzecinkową %g.' % ('słowo', -5, 1.89)"
   ]
  }
 ],
 "metadata": {
  "kernelspec": {
   "display_name": "Python 3 (ipykernel)",
   "language": "python",
   "name": "python3"
  },
  "language_info": {
   "codemirror_mode": {
    "name": "ipython",
    "version": 3
   },
   "file_extension": ".py",
   "mimetype": "text/x-python",
   "name": "python",
   "nbconvert_exporter": "python",
   "pygments_lexer": "ipython3",
   "version": "3.8.11"
  }
 },
 "nbformat": 4,
 "nbformat_minor": 5
}
