{
 "cells": [
  {
   "cell_type": "code",
   "execution_count": 1,
   "id": "fe658e33",
   "metadata": {},
   "outputs": [],
   "source": [
    "# %matplotlib inline\n",
    "import numpy as np\n",
    "import time\n",
    "import matplotlib.pyplot as plt\n",
    "import random\n",
    "from IPython import display"
   ]
  },
  {
   "cell_type": "markdown",
   "id": "1c340df3",
   "metadata": {},
   "source": [
    "# Wyniki wielu gier\n",
    "\n",
    "## Rozkład wyników dla wskazanej liczby gier\n",
    "\n",
    "Poniżej możesz wybrać:\n",
    "\n",
    " - ile razy Python ma zagrać w grę\n",
    " - jaka jest cena gry\n",
    " - jaka jest stawka początkowa"
   ]
  },
  {
   "cell_type": "code",
   "execution_count": 15,
   "id": "d3c6f560",
   "metadata": {},
   "outputs": [],
   "source": [
    "liczba_gier = 100\n",
    "cena_gry = 7\n",
    "stawka_poczatkowa = 2"
   ]
  },
  {
   "cell_type": "code",
   "execution_count": 3,
   "id": "1e0b56df",
   "metadata": {},
   "outputs": [],
   "source": [
    "def game_simulator(n_throws, starting_score):\n",
    "    score = starting_score\n",
    "    coin_results = random.choices([0, 1], k = 5)\n",
    "    for coin_result in coin_results:\n",
    "        if coin_result == 1:\n",
    "            break\n",
    "        else:\n",
    "            score = score*2\n",
    "    return score"
   ]
  },
  {
   "cell_type": "code",
   "execution_count": 4,
   "id": "69d7a45f",
   "metadata": {},
   "outputs": [
    {
     "data": {
      "image/png": "[encoded data removed]",
      "text/plain": [
       "<Figure size 720x576 with 1 Axes>"
      ]
     },
     "metadata": {},
     "output_type": "display_data"
    }
   ],
   "source": [
    "game_results = dict()\n",
    "\n",
    "figure, ax = plt.subplots(figsize=(10, 8))\n",
    "\n",
    "account_balance = 0\n",
    "\n",
    "for i in range(liczba_gier+1):\n",
    "    if (i+1)%5 == 0:\n",
    "        ax.clear()\n",
    "    ax.texts = []\n",
    "    ax.set_ylim(bottom = 0, top = liczba_gier)\n",
    "    ax.set_xlim(left = stawka_poczatkowa-1, right = stawka_poczatkowa*2**5+1)\n",
    "    game_result = game_simulator(5, stawka_poczatkowa)\n",
    "    account_balance += (game_result - cena_gry)\n",
    "    if game_results.get(game_result) is None:\n",
    "        game_results[game_result] = 1\n",
    "    else:\n",
    "        game_results[game_result] += 1\n",
    "    hist1 = ax.bar(list(game_results.keys()), list(game_results.values()), width=1, edgecolor=\"white\", linewidth=0.7, color = 'blue')\n",
    "    account_balance_text = ax.text(x = min(list(game_results.keys())), y = liczba_gier*0.95, s = 'Account balance: ' + str(account_balance), \n",
    "             bbox=dict(facecolor='white', alpha=1), fontsize = 'x-large')\n",
    "    games_n_text = ax.text(x = min(list(game_results.keys())), y = liczba_gier*0.85, s = '# Games: ' + str(i), \n",
    "             bbox=dict(facecolor='white', alpha=1), fontsize = 'x-large')\n",
    "    display.clear_output(wait=True)\n",
    "    display.display(figure)\n",
    "    time.sleep(0.02)\n",
    "plt.close()"
   ]
  },
  {
   "cell_type": "markdown",
   "id": "09d385e9",
   "metadata": {},
   "source": [
    "## Rozkład środków na koncie dla wielu osób grających wiele razy\n",
    "\n",
    "Poniżej możesz wybrać, ile osób gra w grę. Każda osoba będzie grała liczbę razy wskazaną w poprzednim podrozdziale."
   ]
  },
  {
   "cell_type": "code",
   "execution_count": 5,
   "id": "d63231d2",
   "metadata": {},
   "outputs": [],
   "source": [
    "liczba_osob = 10000"
   ]
  },
  {
   "cell_type": "code",
   "execution_count": 6,
   "id": "6cbf4d57",
   "metadata": {},
   "outputs": [],
   "source": [
    "def account_balance_simulator(n_games, n_throws, game_price, starting_price):\n",
    "    account_balance = 0\n",
    "    for i in range(n_games):\n",
    "        game_result = game_simulator(n_throws, starting_price)\n",
    "        account_balance += (game_result - game_price)\n",
    "    return account_balance"
   ]
  },
  {
   "cell_type": "code",
   "execution_count": 16,
   "id": "4807f254",
   "metadata": {},
   "outputs": [],
   "source": [
    "account_results = dict()\n",
    "for i in range(liczba_osob):\n",
    "    account_balance = account_balance_simulator(liczba_gier, 5, cena_gry, stawka_poczatkowa)\n",
    "    if account_results.get(account_balance) is None:\n",
    "        account_results[account_balance] = 1\n",
    "    else:\n",
    "        account_results[account_balance] += 1"
   ]
  },
  {
   "cell_type": "code",
   "execution_count": 17,
   "id": "970872c5",
   "metadata": {},
   "outputs": [
    {
     "data": {
      "image/png": "[encoded data removed]",
      "text/plain": [
       "<Figure size 720x576 with 1 Axes>"
      ]
     },
     "metadata": {},
     "output_type": "display_data"
    }
   ],
   "source": [
    "fig_normal, ax_normal = plt.subplots(figsize=(10, 8))\n",
    "hist_normal = ax_normal.bar(list(account_results.keys()), list(account_results.values()), width=1, edgecolor=\"blue\", linewidth=0.7, color = 'blue')\n",
    "display.display(fig_normal)\n",
    "plt.close()"
   ]
  },
  {
   "cell_type": "code",
   "execution_count": null,
   "id": "225081d1",
   "metadata": {},
   "outputs": [],
   "source": []
  }
 ],
 "metadata": {
  "kernelspec": {
   "display_name": "Python 3",
   "language": "python",
   "name": "python3"
  },
  "language_info": {
   "codemirror_mode": {
    "name": "ipython",
    "version": 3
   },
   "file_extension": ".py",
   "mimetype": "text/x-python",
   "name": "python",
   "nbconvert_exporter": "python",
   "pygments_lexer": "ipython3",
   "version": "3.9.5"
  }
 },
 "nbformat": 4,
 "nbformat_minor": 5
}
