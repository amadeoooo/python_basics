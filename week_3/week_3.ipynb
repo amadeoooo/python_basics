{
 "cells": [
  {
   "cell_type": "code",
   "execution_count": null,
   "metadata": {},
   "outputs": [],
   "source": [
    "%%capture\n",
    "!pip install otter-grader\n",
    "\n",
    "files = \"https://github.com/mateuszwyszynski/python_basics/raw/main/week_3/tests.zip\"\n",
    "!wget -O ./tests.zip $files && unzip -o tests.zip\n",
    "\n",
    "import otter\n",
    "grader = otter.Notebook(colab = True)"
   ]
  },
  {
   "cell_type": "markdown",
   "metadata": {
    "id": "O8HXdU4manGX"
   },
   "source": [
    "# Instrukcje warunkowe\n",
    "\n",
    "***"
   ]
  },
  {
   "cell_type": "markdown",
   "metadata": {
    "id": "fUH8dEZWH9hl"
   },
   "source": [
    "Instrukcja warunkowa umożliwia programowi zachowywać się w różny sposób w zależności od sytuacji. Dzięki temu może na przykład działać system płatności:\n",
    "\n",
    "* jeśli suma środków na koncie jest większa niż kwota do zapłacenia, zatwierdź płatność\n",
    "* w przeciwnym wypadku odrzuć płatność\n",
    "\n",
    "Inaczej mówiąc, w zależności od postawionych warunków logicznych, dokonywane są różne operacje. Instrukcje tego typu ujęte są w bloki, które będą wykonywane lub nie w zależności od spełnienia podanych kryteriów. W Pythonie możliwe jest użycie nastęþujacych warunków logicznych:\n",
    "\n",
    "\n",
    "```Python\n",
    "a == b   # a równe b\n",
    "a != b   # a różne od b\n",
    "a < b    # a mniejsze od  b\n",
    "a <= b   # a mniejsze równe b\n",
    "a > b    # a większe od b\n",
    "a >= b   # a większe równe b\n",
    "```\n",
    "\n",
    "Aby utworzyć instrukcję warunkową konieczne jest wykorzystanie odpowiedniej struktury. Za chwilę nauczymy się jej krok po kroku. Poniżej przedstawiamy ogólny schemat instrukcji warunkowej. Opisuje on schemat działania:\n",
    "\n",
    "* jeśli spełniony jest `warunek_logiczny_1`, wykonaj `operacja_1`\n",
    "* jeśli spełniony jest `warunek_logiczny_2`, wykonaj `operacja_2`\n",
    "* w przeciwnym wypadku wykonaj `operacja_3`\n",
    "\n"
   ]
  },
  {
   "cell_type": "markdown",
   "metadata": {},
   "source": [
    "## Pojedyncza instrukcja warunkowa `if`\n",
    "\n",
    "Pojedyncza instrukcja warunkowa w swojej najprostszej formie sprawdza tylko jeden warunek logiczny. Jej budowa wygląda w sposób następujący:\n",
    "\n",
    "```Python\n",
    "if warunek_logiczny:\n",
    "    jeśli warunek był prawdziwy Python wykona ten kod # Wcięcie - odsunięcie słów lewej krawędzi ekranu.\n",
    "```\n",
    "\n",
    "Powyższa struktura powtarza się za każdym razem, gdy chcemy skorzystać z instrukcji warunkowej `if`. Zwróć uwagę na `:` występujący po warunku logicznym oraz na wcięcie widoczne w 2 linijce instrukcji warunkowej.\n",
    "\n",
    "\n",
    "Wróćmy teraz do przykładu z systemem płatności. Poniżej możesz wypróbować prosty program, który:\n",
    "\n",
    " - pyta, ile masz środków na koncie\n",
    " - pyta, jaka jest cena produktu, który chcesz kupić\n",
    " - wyświetla informację, jeśli nie masz wystarczających środków.\n",
    "\n",
    "**UWAGA:** Zwróć uwagę na zastosowane wcięcie! Jest ono niezbędne do poprawnego działania instrukcji warunkowej.  "
   ]
  },
  {
   "cell_type": "code",
   "execution_count": null,
   "metadata": {},
   "outputs": [],
   "source": [
    "kapital = float(input('Ile masz na koncie: '))\n",
    "cena = float(input('Podaj cenę produktu: '))\n",
    "\n",
    "if cena > kapital:\n",
    "    print('Brak srodkow na koncie.')"
   ]
  },
  {
   "cell_type": "markdown",
   "metadata": {},
   "source": [
    "Uruchom powyższy program kilka razy. Zastanów się, jaka jest zasada jego działania. Czy jest jakaś naturalna rzecz, której brakuje naszemu programowi? Co się dzieje, gdy mamy wystarczająco pieniędzy na zakup produktu?"
   ]
  },
  {
   "cell_type": "markdown",
   "metadata": {},
   "source": [
    "## Instrukcja `if` - `else`\n",
    "\n",
    "Jak już mamy nadzieję zauważyłeś, nasz program nie daje nam żadnej informacji zwrotnej, gdy mamy wystarczającą ilość pieniędzy na koncie. Jest to nienaturalne. Oczekiwalibyśmy raczej, że program powie nam zarówno kiedy stać i nie stać nas na jakiś produkt. Efekt taki możemy uzyskać korzystając ze struktury `if` - ` else`:"
   ]
  },
  {
   "cell_type": "code",
   "execution_count": null,
   "metadata": {},
   "outputs": [],
   "source": [
    "kapital = float(input('Ile masz na koncie: '))\n",
    "cena = float(input('Podaj cenę produktu: '))\n",
    "\n",
    "if cena > kapital:\n",
    "    print('Brak srodkow na koncie.')\n",
    "else:\n",
    "    print('Platnosc zaakceptowana.')"
   ]
  },
  {
   "cell_type": "markdown",
   "metadata": {},
   "source": [
    "Wypróbuj teraz kilka razy nasz ulepszony program i zobacz, co się zmieniło. Czy potrafisz rozszyfrować, jak działa struktura `if` - `else`?\n",
    "\n",
    "Działa ona w następujący sposób:\n",
    "```Python\n",
    "if warunek_logiczny:\n",
    "    jeśli warunek był prawdziwy Python wykona ten kod\n",
    "else:\n",
    "    jeśli warunek nie został spełniony Python wykona ten kod\n",
    "```\n",
    "\n",
    "Właśnie dlatego działanie naszego programu jest różne w zależności od sytuacji - w jednych warunkach Python wykonuje kod z pierwszego wcięcia, a w innych z drugiego. Bez możliwości pisania instrukcji warunkowych, komputery nie różniłyby się znacząco od kalkulatorów!"
   ]
  },
  {
   "cell_type": "markdown",
   "metadata": {},
   "source": [
    "## Więcej warunków, czyli jak używać `elif`.\n",
    "\n",
    "Bardzo często mamy do czynienia z sytuacjami, gdzie mogą wydarzyć się więcej niż dwa scenariusze. Pomaga nam wtedy słowo kluczowe `elif`. Na przykład:"
   ]
  },
  {
   "cell_type": "code",
   "execution_count": null,
   "metadata": {},
   "outputs": [],
   "source": [
    "print('Mozliwe subskrybcje to: ')\n",
    "print(' - A: miesieczna: 40 PLN')\n",
    "print(' - B: roczna: 400 PLN')\n",
    "print(' - C: unlimited: 1000 PLN')\n",
    "rodzaj_subskrybcji = input('Wybierz rodzaj subskrybcji (A, B lub C): ')\n",
    "\n",
    "if rodzaj_subskrybcji == 'A':\n",
    "    print('Wybrales subskrybcje miesieczna.')\n",
    "elif rodzaj_subskrybcji == 'B':\n",
    "    print('Wybrales subskrybcje roczna.')\n",
    "elif rodzaj_subskrybcji == 'C':\n",
    "    print('Wybrales subskrybcje unlimited')\n",
    "else:\n",
    "    print('Podales nieprawidlowa opcje. Sprobuj jeszcze raz.')"
   ]
  },
  {
   "cell_type": "markdown",
   "metadata": {},
   "source": [
    "Spróbuj uruchomić powyższy program kilka razy i zobacz, jak się zachowuje. Czy rozumiesz, jak dziala komenda `elif`?\n",
    "\n",
    "Słowo kluczowe `elif` pozwala rozbić działanie programu na więcej niż dwa scenariusze:\n",
    "\n",
    "```Python\n",
    "\n",
    "if warunek_logiczny_1 :\n",
    "    jeśli warunek_logiczny_1 był prawdziwy Python wykona ten kod\n",
    "elif warunek_logiczny_2:\n",
    "    jeśli warunek_logiczny_1 był fałszywy i warunek_logiczny_2 był prawdziwy, Python wykona ten kod\n",
    "elif warunek_logiczny_3:\n",
    "    jeśli warunki 1 i 2 były fałszywe oraz warunek_logiczny_3 był prawdziwy Python wykona ten kod\n",
    "*\n",
    "*\n",
    "*\n",
    "elif warunek_logiczny_n:\n",
    "    jeśli warunki 1, 2, ..., n-1 były fałszywe oraz warunek_logiczny_n był prawdziwy Python wykona ten kod\n",
    "else:\n",
    "    wykonaj tą linię kodu jeśli wszystkie warunki były fałszywe\n",
    "```\n",
    "\n",
    "Zastanów się, jakie są konsekwencje powyższej logiki działania. Bardzo ważne jest to, że Python będzie sprawdzał warunki logiczne jedynie do momentu, aż znajdzie jakiś prawdziwy. Jeśli tak się stanie, wykona odpowiedni kod i __nie będzie sprawdzał dalej__. Możesz to zobaczyć na poniższym przykładzie:"
   ]
  },
  {
   "cell_type": "code",
   "execution_count": null,
   "metadata": {},
   "outputs": [],
   "source": [
    "x = 5\n",
    "\n",
    "if x < 10:\n",
    "    print(\"Liczba mniejsza od 10.\")\n",
    "elif x < 7:\n",
    "    print('Liczba mniejsza od 7.')"
   ]
  },
  {
   "cell_type": "markdown",
   "metadata": {},
   "source": [
    "Nasza zmienna `x` jest aktualnie mniejsza od 7, a mimo tego Python nie wynuje kodu: `print('Liczba mniejsza od 7.')`. Dzieje się tak dlatego, że spełniony został już warunek logiczny `x < 10`. W związku z tym Python __w ogóle nie sprawdza kolejnych warunków__ i wykonuje tylko kod przypisany do tego warunku, czyli `print(\"Liczba mniejsza od 10.\")`.\n",
    "\n",
    "**UWAGA:** Zwróć uwagę na zastosowane wcięcia! Są one niezbędne do poprawnego działania instrukcji warunkowych. "
   ]
  },
  {
   "cell_type": "markdown",
   "metadata": {},
   "source": [
    "__Zadanie 1. [0.5 pkt.]__ Rozwijamy nasz system płatności o możliwość zaciągnięcia kredytu. Uzupełnij poniższy kod w miejscach oznaczonych `...` wykorzystując zmienne `kapital`, `zdolnosc_kredytowa` oraz `cena_produktu`. Zmienne traktuj tak, jakby zostały już dla Ciebie zdeifiniowane. Program powinien działać tak, aby klient z odpowiednim kapitałem lub zdolnością kredytową mógł kupić produkt o wskazanej cenie. "
   ]
  },
  {
   "cell_type": "code",
   "execution_count": null,
   "metadata": {
    "tags": []
   },
   "outputs": [],
   "source": [
    "def system_platnosci(kapital, zdolnosc_kredytowa, cena_produktu):\n",
    "    ...\n",
    "        informacja_zwrotna_do_klienta = 'Platnosc zaakceptowana.'\n",
    "    ...\n",
    "        wysokosc_kredytu = ...\n",
    "        informacja_zwrotna_do_klienta = f'Platnosc zaakceptowana. Twoj kredyt wynosi {wysokosc_kredytu} PLN.'\n",
    "    else:\n",
    "        informacja_zwrotna_do_klienta = 'Platnosc odrzucona.'\n",
    "    return informacja_zwrotna_do_klienta"
   ]
  },
  {
   "cell_type": "code",
   "execution_count": null,
   "metadata": {
    "tags": []
   },
   "outputs": [],
   "source": [
    "# W tej komórce możesz samemu testować swoje rozwiązanie:\n",
    "\n",
    "kapital = float(input('Ile masz na koncie: '))\n",
    "zdolnosc_kredytowa = float(input('Podaj swoja zdolnosc kredytowa: '))\n",
    "cena_produktu = float(input('Podaj cene produktu: '))\n",
    "\n",
    "print(system_platnosci(kapital, zdolnosc_kredytowa, cena_produktu))"
   ]
  },
  {
   "cell_type": "code",
   "execution_count": null,
   "metadata": {
    "deletable": false,
    "editable": false
   },
   "outputs": [],
   "source": [
    "grader.check(\"Q1\")"
   ]
  },
  {
   "cell_type": "markdown",
   "metadata": {},
   "source": [
    "## Zagnieżdżanie instrukcji.\n",
    "\n",
    "Często zdarza się tak, że nasz program ma sprawdzać dwie lub więcej rzeczy po kolei. Na przykład, gdy sprzedajemy alkohol, oprócz sprawdzania ceny produktu musimy też sprawdzić wiek kupującego. Możemy wtedy wykorzystać zagnieżdżone instrukcje warunkowe:"
   ]
  },
  {
   "cell_type": "code",
   "execution_count": null,
   "metadata": {},
   "outputs": [],
   "source": [
    "kapital = float(input('Ile masz na koncie: '))\n",
    "cena = float(input('Podaj cenę produktu: '))\n",
    "wiek = int(input('Podaj swoj wiek: '))\n",
    "\n",
    "if wiek < 18:\n",
    "    print('Nie wolno Ci kupowac alkoholu! Wracaj do domu sie uczyc!')\n",
    "else:\n",
    "    if cena > kapital:\n",
    "        print('Brak srodkow na koncie.')\n",
    "    else:\n",
    "        print('Platnosc zaakceptowana.')"
   ]
  },
  {
   "cell_type": "markdown",
   "metadata": {},
   "source": [
    "Instrukcje warunkowe możemy zagnieżdżać w dowolnie skomplikowany sposób. Ogólna struktura wyglądałaby mniej więcej tak:\n",
    "\n",
    "```python\n",
    "if warunek_logiczny_1:\n",
    "    if warunek_logiczny_1_1: # Wcięcie \n",
    "        operacja_1_1  # Podwójne wcięcie \n",
    "    elif warunek_logiczny_1_2:\n",
    "        operacja_1_2  # Podwójne wcięcie \n",
    "    else :\n",
    "        operacja_1_3  # Podwójne wcięcie \n",
    "elif warunek_logiczny_2:\n",
    "    operacja_2 # moze zawierac kolejne instrukcje warunkowe\n",
    "...\n",
    "else:       \n",
    "    operacja_n # moze zawierac kolejne instrukcje warunkowe\n",
    "```"
   ]
  },
  {
   "cell_type": "markdown",
   "metadata": {},
   "source": [
    "__Zadanie 2. [0.5 pkt.]__ Uzupełnij poniższy kod w miejscach oznaczonych `...` wykorzystując zmienną `liczba`. Zmienną traktuj tak, jakby została już dla Ciebie zdeifiniowana. Program powinien wyświetlać odpowiedni napis w zależności od znaku liczby przechowywanej w zmiennej `liczba`. "
   ]
  },
  {
   "cell_type": "code",
   "execution_count": null,
   "metadata": {
    "colab": {
     "base_uri": "https://localhost:8080/"
    },
    "id": "RYGfE-QvQ_qd",
    "outputId": "e5f4efd2-eccb-425a-a1a2-22034e10e6db",
    "tags": []
   },
   "outputs": [],
   "source": [
    "def sprawdz_znak(liczba):\n",
    "    ...\n",
    "            napis_do_wyswietlenia = \"Podana liczba to zero\"\n",
    "        else:\n",
    "            napis_do_wyswietlenia = \"Liczba \" + str(liczba) + \" jest dodatnia\"\n",
    "    else:\n",
    "        napis_do_wyswietlenia = \"Liczba \" + str(liczba) + \" jest ujemna\"\n",
    "    return napis_do_wyswietlenia"
   ]
  },
  {
   "cell_type": "code",
   "execution_count": null,
   "metadata": {
    "tags": []
   },
   "outputs": [],
   "source": [
    "# Tutaj możesz przetestować działanie swojego rozwiązania:\n",
    "\n",
    "liczba = float(input(\"Podaj liczbę: \")) # Prosimy użytkownika o podanie dowolnej liczby\n",
    "print(sprawdz_znak(liczba))"
   ]
  },
  {
   "cell_type": "code",
   "execution_count": null,
   "metadata": {
    "deletable": false,
    "editable": false
   },
   "outputs": [],
   "source": [
    "grader.check(\"Q2\")"
   ]
  },
  {
   "cell_type": "markdown",
   "metadata": {
    "id": "_HAsMgYv277o"
   },
   "source": [
    "## Warunki złożone\n",
    "\n",
    "Często zdarza się tak, że jednocześnie chcemy sprawdzić dwa warunki logiczne. Dobrym przykładem tej czynności jest sprawdzenie, czy dana liczba należy do określonego przedziału. Można to zweryfikować poprzez dwa kolejne warunki logiczne, ale można też zrobić to w jednej linii. \n",
    "\n",
    "W Pythonie dozwolone jest tworzenie **warunków złożonych** gdzie wyrażenie logiczne posiada spójnik **\"i\"** lub **\"lub\"**. Zapis takiego warunku wygląda w sposób następujący:\n",
    "\n",
    "\n",
    "```python\n",
    "if (a < 3) and (a > -4):  # \"i\"\n",
    "  ...\n",
    "elif (a > 3) or (a < -3): # \"lub\"\n",
    "  ...\n",
    "elif (a < 2) & (a > -3):  # \"i\"\n",
    "  ...\n",
    "elif (a > 2) | (a < -2):  # \"lub\"\n",
    "  ...\n",
    "```\n",
    "\n",
    "Sprawdź poniżej, jaką wartość liczbową należy podać z klawiatury, aby wyświetliły się poszczególne napisy. Zastanów się, czy możliwe jest wyświetlenie każdego z tych napisów osobno. Czy tak przygotowany program ma sens?"
   ]
  },
  {
   "cell_type": "code",
   "execution_count": null,
   "metadata": {
    "colab": {
     "base_uri": "https://localhost:8080/"
    },
    "id": "g31XJx_sR1fF",
    "outputId": "a6f5f9a3-1be2-4cb4-8713-22554545c9e0"
   },
   "outputs": [],
   "source": [
    "a = float(input(\"Podaj liczbę a: \"))\n",
    "if (a < 3) and (a > -4):\n",
    "    print(\"scenariusz 1\")\n",
    "elif (a > 3) or (a < -3):\n",
    "    print(\"scenariusz 2\")\n",
    "elif (a < 2) & (a > -3):\n",
    "    print(\"scenariusz 3\")\n",
    "elif (a > 2) | (a < -2):\n",
    "    print(\"scenariusz 4\")\n",
    "else:\n",
    "    print(\"scenariusz 5\")"
   ]
  },
  {
   "cell_type": "markdown",
   "metadata": {},
   "source": [
    "Czy udało Ci się wyświetlić `\"scenariusz 3\"`? Dlaczego nie da się tego zrobić? Spróbuj sobie przypomnieć - odpowiedź znajduje się gdzieś wcześniej w notebooku. "
   ]
  },
  {
   "cell_type": "markdown",
   "metadata": {
    "id": "uhsqjTnys1Hs"
   },
   "source": [
    "## Wartości `True` oraz `False`\n",
    "\n",
    "W Pythonie, podobnie jak i w większości języków programowania, istnieją dwie specjalne wartości `True` (prawda) oraz `False` (fałsz). To właśnie przy pomocy tych wartości Python ocenia, czy dany warunek logiczny jest spełniony czy nie. Aby określić, czy dane wyrażenie logiczne jest prawdziwe, Python _ewaluuje_ jego wartość.\n",
    "\n",
    "Na początek spójrzmy na inną ewaluację - zwykłe dodawanie:\n",
    "\n",
    "```Python\n",
    "x = 15 + 5 * 7\n",
    "```\n",
    "\n",
    "Aby znaleźć wartość zmiennej `x`, Python najpierw _ewaluuje_ wyrażenie po prawej. W związku z tym oblicza, ile to jest `5*7` (35), a następnie dodaje `15`. W efekcie otrzymujemy wynik: `50`.\n",
    "\n",
    "Tak samo Python ewaluuje wyrażenia logiczne. Mamy tam jedynie inne operacje. Na przykład w poniższym kodzie:\n",
    "\n",
    "```Python\n",
    "x = 5\n",
    "y = x > 4 and x > 10\n",
    "```\n",
    "\n",
    "Python najpierw ewaluuje wyrażenie `x > 4`, które dla `x = 5` jest prawdziwe. W związku z tym Python przypisuje temu wyrażeniu wartość `True`. Następnie Python ewaluuje `x < 10`. Tutaj wynikiem jest `False`. Na koniec Python sprawdza, czy jest prawdą, że `x` jest większy od `4` __i równocześnie__ `x` jest większe od `10`. Ponieważ tak nie jest, Python przypisuje zmiennej `y` wartość `False`. Możemy to zobaczyć na żywo w kodzie:"
   ]
  },
  {
   "cell_type": "code",
   "execution_count": null,
   "metadata": {},
   "outputs": [],
   "source": [
    "x = 5\n",
    "y = x > 4 and x > 10\n",
    "print(y)"
   ]
  },
  {
   "cell_type": "markdown",
   "metadata": {},
   "source": [
    "Możemy też sprawdzić, jaką wartość miały poszczególne fragmenty naszego wyrażenia:"
   ]
  },
  {
   "cell_type": "code",
   "execution_count": null,
   "metadata": {},
   "outputs": [],
   "source": [
    "print(x > 4)"
   ]
  },
  {
   "cell_type": "code",
   "execution_count": null,
   "metadata": {},
   "outputs": [],
   "source": [
    "print(x > 10)"
   ]
  },
  {
   "cell_type": "markdown",
   "metadata": {
    "id": "rfPnjddr951T"
   },
   "source": [
    "# Struktura `try` and `except`\n",
    "\n",
    "Jest to konstrukcja pozwalająca na zabezpieczenie newralgicznych miejsc kodu, w których możemy się spodziewać \"niebezpieczeństwa\". Stosując konstrukcję ``` try:  except: ```  umieszczamy w ```try: ``` \"niebezpieczny\" fragment kodu, a w ```except:``` umieszczamy kod, który ma się wykonać w sytuacji kiedy pierwsza część okaże się być błędna. Co to znaczy niebezpieczny fragment kodu? Jest to kod, którego wykonanie może się zakończyć błędem. Na przykład poniższy kod:\n",
    "\n",
    "```Python\n",
    "liczba_km = float(input('Podaj liczbe przejechanych kilometrow: '))\n",
    "predkosc = float(input('Podaj srednia predkosc: '))\n",
    "czas_jazdy = liczba_km / predkosc\n",
    "```\n",
    "\n",
    "został napisany przy założeniu, że użytkownik poda obie wartości przy pomocy cyfr. Zobacz, co się stanie, jeśli udzielisz odpowiedzi słownej (np. `trzydziesci`)"
   ]
  },
  {
   "cell_type": "code",
   "execution_count": null,
   "metadata": {},
   "outputs": [],
   "source": [
    "liczba_km = input('Podaj liczbe przejechanych kilometrow: ')\n",
    "predkosc = input('Podaj srednia predkosc: ')\n",
    "czas_jazdy = float(liczba_km) / float(predkosc)\n",
    "print('Czas jazdy to: ' + str(czas_jazdy) + ' h')"
   ]
  },
  {
   "cell_type": "markdown",
   "metadata": {
    "id": "rfPnjddr951T"
   },
   "source": [
    "Program wyrzuca wtedy błąd:\n",
    "\n",
    "```\n",
    "ValueError: could not convert string to float: 'trzydziesci'\n",
    "```\n",
    "\n",
    "Dzieje się tak dlatego, że Python nie wie, jak zamienić `string` na liczbę. Możemy użyć tutaj struktury `try` and `except`, aby uświadomić użytkownika, że podał wartości w złej formie:"
   ]
  },
  {
   "cell_type": "code",
   "execution_count": null,
   "metadata": {},
   "outputs": [],
   "source": [
    "liczba_km = input('Podaj liczbe przejechanych kilometrow: ')\n",
    "predkosc = input('Podaj srednia predkosc: ')\n",
    "try:\n",
    "    czas_jazdy = float(liczba_km) / float(predkosc)\n",
    "    print('Czas jazdy to: ' + str(czas_jazdy) + ' h')\n",
    "except:\n",
    "    print('Podałeś nieprawidłowe wartości. Używaj tylko i wyłącznie cyfr.')"
   ]
  },
  {
   "cell_type": "markdown",
   "metadata": {
    "id": "rfPnjddr951T"
   },
   "source": [
    "Ogólna forma struktury `try` and `except` wygląda następująco:\n",
    "\n",
    "```python\n",
    "try:\n",
    "  potencjalnie niebezpieczny fragment kodu\n",
    "except:\n",
    "  \"awaryjne\" wykonanie programu\n",
    "```\n",
    "\n",
    "Przydaje się ona, gdy chcemy zabezpieczyć się przed niespodziewanym błędem w programie."
   ]
  },
  {
   "cell_type": "markdown",
   "metadata": {
    "id": "0CZgrpPXu5Ds"
   },
   "source": [
    "# Podsumowanie\n"
   ]
  },
  {
   "cell_type": "markdown",
   "metadata": {},
   "source": [
    "__Zadanie 3. [1 pkt.]__ Uzupełnij poniższy kod w miejscach oznaczonych `...` wykorzystując zmienne `cena_produktu`, `srodki_na_koncie` oraz `dzienny_limit`. Zmienne traktuj tak, jakby zostały już dla Ciebie zdeifiniowane. W programie musisz zdefiniowac zmienną `informacja_dla_placacego`, ktora przechowa odpowiedni napis do wyświetlenia użytkownikowi - sprawdź, jak zostało to zrobione w zadaniach 1. i 2. Kod powinien działać tak, że:\n",
    "\n",
    " - `informacja_dla_placacego` zawiera napis `'Brak srodkow.'` jesli `cena_produktu` jest wieksza niz `srodki_na_koncie`\n",
    "  - `informacja_dla_placacego` zawiera napis `'Przekroczono dzienny limit transakcji.'` jesli `cena_produktu` jest wieksza niz `dzienny_limit`\n",
    "   - `informacja_dla_placacego` zawiera napis `'Platnosc zaakceptowana.'` w przeciwnym przypadku.\n",
    "   \n",
    "Poniżej jest też dla Ciebie przygotowany fragment kodu, w którym możesz testować swoje rozwiązanie samemu."
   ]
  },
  {
   "cell_type": "code",
   "execution_count": null,
   "metadata": {
    "tags": []
   },
   "outputs": [],
   "source": [
    "def platnosc_karta(cena_produktu, srodki_na_koncie, dzienny_limit):\n",
    "    ...\n",
    "    return informacja_dla_placacego"
   ]
  },
  {
   "cell_type": "code",
   "execution_count": null,
   "metadata": {},
   "outputs": [],
   "source": [
    "# Tutaj możesz testować swoje rozwiązanie:\n",
    "cena_produktu = float(input('Podaj cene produktu: '))\n",
    "srodki = float(input('Ile masz na koncie: '))\n",
    "limit = float(input('Jaki jest Twoj dzienny limit transakcji: '))\n",
    "print(platnosc_karta(cena_produktu, srodki, limit))"
   ]
  },
  {
   "cell_type": "code",
   "execution_count": null,
   "metadata": {
    "deletable": false,
    "editable": false
   },
   "outputs": [],
   "source": [
    "grader.check(\"Q3\")"
   ]
  }
 ],
 "metadata": {
  "colab": {
   "collapsed_sections": [],
   "name": "week_4.ipynb",
   "provenance": [],
   "toc_visible": true
  },
  "kernelspec": {
   "display_name": "Python 3",
   "language": "python",
   "name": "python3"
  },
  "language_info": {
   "codemirror_mode": {
    "name": "ipython",
    "version": 3
   },
   "file_extension": ".py",
   "mimetype": "text/x-python",
   "name": "python",
   "nbconvert_exporter": "python",
   "pygments_lexer": "ipython3",
   "version": "3.9.5"
  }
 },
 "nbformat": 4,
 "nbformat_minor": 1
}
