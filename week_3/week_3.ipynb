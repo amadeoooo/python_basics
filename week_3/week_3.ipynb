{
 "cells": [
  {
   "cell_type": "code",
   "execution_count": null,
   "metadata": {},
   "outputs": [],
   "source": [
    "%%capture\n",
    "!pip install otter-grader\n",
    "\n",
    "files = \"https://github.com/mateuszwyszynski/python_basics/raw/main/week_3/tests.zip\"\n",
    "!wget -O ./tests.zip $files && unzip -o tests.zip\n",
    "\n",
    "import otter\n",
    "grader = otter.Notebook(colab = True)"
   ]
  },
  {
   "cell_type": "markdown",
   "metadata": {
    "id": "O8HXdU4manGX"
   },
   "source": [
    "## **Instrukcja warunkowa - If**"
   ]
  },
  {
   "cell_type": "markdown",
   "metadata": {
    "id": "fUH8dEZWH9hl"
   },
   "source": [
    "Instrukcja warunkowa umożliwia programowi podejmowanie decyzji i w zależności od postawionych warunków logicznych, dokonywane są przypisane im operacje. Instrukcje tego typu ujęte są w bloki, które będą wykonywane lub nie w zależności od spełnienia podanych kryteriów. W Pythonie możliwe jest użycie nastęþujacych warunków logicznych:\n",
    "\n",
    "\n",
    "```Python\n",
    "a == b   #równe\n",
    "a != b   #różne\n",
    "a < b    #mniejsze\n",
    "a <= b   #mniejsze równe \n",
    "a > b    #większe\n",
    "a >= b   #większe równe\n",
    "```\n",
    "\n",
    "W celu wykorzystania instrukcji warunkowej konieczne jest wykonanie następujących operacji pokazanych poniżej. **UWAGA** zwróć uwagę na zastosowane wcięcie!!! Wcięcie jest niezbędne do poprawnego działania. \n",
    "\n",
    "\n",
    "\n",
    "```python\n",
    "if warunek logiczny:\n",
    "  operacja  # Wcięcie - odsunięcie słowa \"operacja\" od lewej krawędzi ekranu.\n",
    "elif warunek logiczny:\n",
    "  operacja  # Wcięcie - w niektórych programach służących do pisania kodu robi się automatycznie\n",
    "else:       \n",
    "  operacja  # Wcięcie - tworzymy przy pomocy spacji/tab. Ważne, żeby odstępy był równe. \n",
    "```\n",
    "\n",
    "Jeżeli mamy więcej warunków logicznych niż 3, możliwe jest dodawanie kolejnych przy pomocy ```elif warunek logiczny:```. Możemy zagnieździć jedną instrukcję warunkową wewnątrz innej. Poniżej przedstawione zostały przykłady wykorzystania instrukcji warunkowej IF. \n",
    "\n",
    "\n",
    "\n"
   ]
  },
  {
   "cell_type": "markdown",
   "metadata": {
    "id": "aJGaVG3w00Oc"
   },
   "source": [
    "Pierwszy z programów, którym się dziś zajmiemy działa w sposób następujący: \n",
    "\n",
    "\n",
    "1.   Prosi użytkownika o podanie liczby;\n",
    "2.   Podana liczba jest konwertowana do zmiennej typu float;  \n",
    "  -   Pierwszy warunek logiczny sprawdza, czy podana ```liczba``` jest większa równa od 0;\n",
    "  1.   Jeśli ```liczba``` jest większa równa 0 to kod sprawdza teraz: Drugi warunek logiczny sprawdza, czy podana ```liczba``` jest  równa 0;\n",
    "  \n",
    "          1.  Jeśli ```liczba``` równa się zero program wypisuje komunikat ```Podana liczba to zero```; \n",
    "\n",
    "          2.  Jeśli ```liczba``` jest różna od 0 to program wypisuje komunikat ```\"Liczba \" + str(liczba) + \" jest dodatnia\"```\n",
    "  - Jeśli ```liczba``` nie jest większa równa od 0 to program wypisuje ```\"Liczba \" + str(liczba) + \" jest ujemna\"```\n",
    "\n",
    "\n",
    "Przeanalizuj poniższy program i zweryfikuj czy rozumiesz jak zostały zapisane warunki logiczne oraz jak one działają. \n",
    "\n",
    "\n",
    "\n"
   ]
  },
  {
   "cell_type": "code",
   "execution_count": null,
   "metadata": {
    "colab": {
     "base_uri": "https://localhost:8080/"
    },
    "id": "RYGfE-QvQ_qd",
    "outputId": "e5f4efd2-eccb-425a-a1a2-22034e10e6db"
   },
   "outputs": [],
   "source": [
    "liczba = float(input(\"Podaj liczbę: \")) # Prosimy użytkownika o podanie dowolnej liczby\n",
    "if liczba >= 0: # sprawdzamy, czy podana liczba jest większa równa od 0, jeśli tak, to wchodzimy do warunku i wykonujemy kolejne polecenia\n",
    "  if liczba == 0: # Jeśli liczba jest równa 0 to program wyświetla \"Podana liczba to zero\"\n",
    "    print(\"Podana liczba to zero\")\n",
    "  else: # Jeśli liczba nie jest równa zero to program wyświetla \"Liczba\" + to co podał użytkownik + \"jest dodatnia\"\n",
    "    print(\"Liczba \" + str(liczba) + \" jest dodatnia\")\n",
    "else:\n",
    "  print(\"Liczba \" + str(liczba) + \" jest ujemna\") # Jeśli liczba nie była większa równa od 0 to program wyświetli \"Liczba\" + to co podał użytkownik + \"jest ujemna\""
   ]
  },
  {
   "cell_type": "markdown",
   "metadata": {
    "id": "_HAsMgYv277o"
   },
   "source": [
    "Kod poniżej jest bardziej zaawansowaną wersją poprzedniego programu. Sprawdź czy widzisz które linie kodu zostały zmienione. Jeśli jesteś w stanie dostrzec różnice wytłumacz na czym polegają. "
   ]
  },
  {
   "cell_type": "code",
   "execution_count": null,
   "metadata": {
    "colab": {
     "base_uri": "https://localhost:8080/"
    },
    "id": "g31XJx_sR1fF",
    "outputId": "a6f5f9a3-1be2-4cb4-8713-22554545c9e0"
   },
   "outputs": [],
   "source": [
    "liczba = float(input(\"Podaj liczbę: \"))\n",
    "if (liczba < 0) | (liczba >0):\n",
    "  print(\"Podana liczba nie jest zerem\")\n",
    "  if (liczba >0): print(\"Liczba \" + str(liczba) + \" jest dodatnia\")\n",
    "  else: print(\"Liczba \" + str(liczba) + \" jest ujemna\")\n",
    "else: print(\"podana liczba to zero\")"
   ]
  },
  {
   "cell_type": "markdown",
   "metadata": {
    "id": "N5w3tUTGUxTW"
   },
   "source": [
    "Często zdarza się tak, że jednocześnie chcemy sprawdzić dwa warunki logiczne. Dobrym przykładem tej czynności jest sprawdzenie, czy dana liczba należy do określonego przedziału. Można to zweryfikować poprzez dwa kolejne warunki logiczne, ale można też to wykonać w jednej linii. W powyższym fragmencie kodu zastosowano warunek złożony: ```if (liczba < 0) | (liczba >0):```. Czy wiesz co może on oznaczać?\n",
    "\n",
    "W Pyhtonie dozwolone jest tworzenie **warunków złożonych** gdzie wyrażenie logiczne posiada spójnik **\"i\"** lub **\"lub\"**. Zapis takiego warunku wygląda w sposób następujący:\n",
    "\n",
    "\n",
    "```python\n",
    "if (a < 3) and (a > -4):  # \"i\"\n",
    "  ...\n",
    "elif (a > 3) or (a < -3): # \"lub\"\n",
    "  ...\n",
    "elif (a < 2) & (a > -3):  # \"i\"\n",
    "  ...\n",
    "elif (a > 2) | (a < -2):  # \"lub\"\n",
    "  ...\n",
    "```\n",
    "\n"
   ]
  },
  {
   "cell_type": "markdown",
   "metadata": {
    "id": "H73vRe0V4HnI"
   },
   "source": [
    "Przeanalizujmy teraz kolejny fragment kodu. Postaraj się przeanalizować zadane warunki przed uruchomieniem i podaj przykłady liczb, które należy wprowadzić, aby program wyświetlił każdy z 5 napisów. Zweryfikuj swoje przypuszczenia. Zwróć uwagę na konstrukcję warunków logicznych, czy kolejność wprowadzanych warunków ma znaczenie? "
   ]
  },
  {
   "cell_type": "code",
   "execution_count": null,
   "metadata": {
    "id": "vCzA47woV2-h"
   },
   "outputs": [],
   "source": [
    "a = float(input(\"Podaj liczbę a : \"))\n",
    "if (a < 3) and (a > -4):\n",
    "  print(\"cond1\")\n",
    "elif (a > 3) or (a < -3):\n",
    "  print(\"cond2\")\n",
    "elif (a < 2) & (a > -3):\n",
    "  print(\"cond3\")\n",
    "elif (a > 2) | (a < -2):\n",
    "  print(\"cond4\")\n",
    "else: print(\"no cond\")"
   ]
  },
  {
   "cell_type": "markdown",
   "metadata": {
    "id": "rED1L0vsfzhv"
   },
   "source": [
    "## **Skrócona wersja IF**\n",
    "\n",
    "Możliwe jest zapisanie instrukcji warunkowej IF w uproszczonej formie bez zachowania wymaganych odstępów między liniami. To rozwiązanie stosuje się do krótkich i jednoznacznych zastosowań. Zwróć uwagę, że w przypadku zapisu uproszczonego nie stosuje się ```wcięć``` ani ```:```\n"
   ]
  },
  {
   "cell_type": "code",
   "execution_count": null,
   "metadata": {
    "id": "WEgfucFqgHkx"
   },
   "outputs": [],
   "source": [
    "liczba = float(input(\"Podaj liczbę: \"))\n",
    "print(\"Podana liczba jest mniejsza od 10\") if liczba < 10 else print(\"Podana liczba jest większa od 10\")\n",
    "\n",
    "\n",
    "#(Jeśli prawda(True) zrób to co przed if) if ( warunek logiczny) else (zrób to jeśli warunke logiczny daje False)\n",
    "\n",
    "\n",
    "i = liczba\n",
    "x = 2 if i > 100 else 1 if i < 100 else 0  #ten fragment pozwala na zapisanie 3 warunków logicznych bez użycia elfi\n",
    "print(x)\n",
    "\n",
    "#(Jeśli prawda(True) zrób to co przed if) if ( 1 warunek logiczny) else (zrób to jeśli 1 warunke logiczny daje False, a 2 warunek logiczny True)\n",
    "#  if (2 warunke logiczny) else (Jeśłi oba warunki są False)\n"
   ]
  },
  {
   "cell_type": "markdown",
   "metadata": {
    "id": "C-g5kfGE5JTI"
   },
   "source": [
    "Uruchom powyższy fragment programu i sprawdź otrzymany wynik. Jaką liczbę należy wprowadzić z klawiatury, aby linia 5 wypisała nam na ekranie 0 ? Postaraj się przepisać powyższy fragment programu do klasycznej postaci warunku logicznego IF. "
   ]
  },
  {
   "cell_type": "markdown",
   "metadata": {},
   "source": [
    "Poniżej przykładowe rozwiązanie tego zadania. "
   ]
  },
  {
   "cell_type": "code",
   "execution_count": null,
   "metadata": {},
   "outputs": [],
   "source": [
    "liczba = float(input(\"Podaj liczbę: \"))\n",
    "if liczba < 10:\n",
    "    print(\"Podana liczba jest mniejsza od 10\")\n",
    "else:\n",
    "     print(\"Podana liczba jest większa od 10\")\n",
    "\n",
    "i = liczba\n",
    "if i > 100:\n",
    "    x = 2\n",
    "elif i <100:\n",
    "    x = 1\n",
    "else: x = 0\n",
    "print(x)"
   ]
  },
  {
   "cell_type": "markdown",
   "metadata": {
    "id": "uhsqjTnys1Hs"
   },
   "source": [
    "## **If z wykorzystaniem Prawda/Fałsz**\n",
    "\n",
    "Możemy na potrzeby naszego kodu używać wyrażenia logicznie odpowiadające prawdzie(True, 1) lub fałszowi(False, 0). Warunek wygląda wtedy w następujący sposób. "
   ]
  },
  {
   "cell_type": "code",
   "execution_count": null,
   "metadata": {
    "colab": {
     "base_uri": "https://localhost:8080/"
    },
    "id": "jr5hcn_ItO4f",
    "outputId": "5257f4c0-29bf-4979-e457-edc038608351"
   },
   "outputs": [],
   "source": [
    "x = 1\n",
    "if x: \n",
    "  print(x, ' to prawda')\n",
    "else: \n",
    "  print(x, \"to fałsz\")"
   ]
  },
  {
   "cell_type": "markdown",
   "metadata": {
    "id": "0CDRWUqa7M0v"
   },
   "source": [
    "W powyższym programie przypisz zmiennej ```x``` kolejno 1, False, True. Sprawdź, który z warunków zadziała w każdym z przypadków. "
   ]
  },
  {
   "cell_type": "markdown",
   "metadata": {
    "id": "rfPnjddr951T"
   },
   "source": [
    "# **Konstrukcja try/except**\n",
    "\n",
    "Jest to konstrukcja pozwalająca na zabezpieczenie newralgicznych miejsc kodu, w których możemy się spodziewać \"niebezpieczeństwa\". Stosując konstrukcję ``` try:  except: ```  umieszczamy w ```try: ``` \"niebezpieczny\" fragment kodu, a w ```except:``` umieszczamy kod, który ma się wykonać w sytuacji kiedy pierwsza część okaże się być błędna.\n",
    "\n",
    "```python\n",
    "try:\n",
    "  potencjalnie niebezpieczny fragment kodu\n",
    "except:\n",
    "  \"awaryjne\" wykonanie programu\n",
    "```"
   ]
  },
  {
   "cell_type": "markdown",
   "metadata": {
    "id": "VL4QBSf671_D"
   },
   "source": [
    "Przetestuj poniżej przygotowany fragment programu wpisująć kolejno: 5, 152.2, liczba. Jakiego napisu spodziewasz się dla każdej z tych propozycji? Czy program zadziałał zgodnie z twoimi założeniami? \n",
    "\n",
    "Zastanów się czy ```try: ... except:``` nie przypomina Ci, konstrukcyjnie ```if:   else: ```.  "
   ]
  },
  {
   "cell_type": "code",
   "execution_count": null,
   "metadata": {
    "id": "cPugzlXkCJNg"
   },
   "outputs": [],
   "source": [
    "liczba = input(\"Proszę podać liczbę całkowitą \")\n",
    "try:\n",
    "    suma_liczb = int(liczba) + 2.2\n",
    "except:\n",
    "    suma_liczb = 0\n",
    "print('Suma liczb wynosi ', suma_liczb)"
   ]
  },
  {
   "cell_type": "markdown",
   "metadata": {
    "id": "m9HSII0J8hIn"
   },
   "source": [
    "Kolejny fragment kodu przedstawia już trochę bardziej rozbudowaną strukturę.\n",
    "\n",
    "Podajemy liczbę programowi, następnie przy użyciu ```try: except:``` sprawdzamy, czy podana liczba może być \"intem\" jeśli tak to program powinien nam wyświetlić na ekranie ```Dobra robota```. W przypadku gdy podana przez nas liczba jest niecałkowita lub ujemna to program wyświetla nam ```Coś poszło nie tak ;(``` . Jeśli podaliśmy dodatnią liczbę nie całkowitą to w sekcji ```try: except:``` nasza liczba nie przechodzi przez ```try``` i w miejsce wprowadzonej liczby podstawiamy wartość ```-1```. W przypadku podania liczby ujemnej, warunek logiczny ```if liczba > 0 :``` nie jest spełniony i naszym oczom ukazuje się napis przypisany do ```else:```."
   ]
  },
  {
   "cell_type": "code",
   "execution_count": null,
   "metadata": {
    "colab": {
     "base_uri": "https://localhost:8080/"
    },
    "id": "q5S6IObsil2l",
    "outputId": "20da1671-be72-4c77-996f-72e032a90f23"
   },
   "outputs": [],
   "source": [
    "cyfra = input(\"Podaj liczbę dodatnią: \")\n",
    "try: \n",
    "  liczba = int(cyfra)\n",
    "except:\n",
    "  liczba = -1\n",
    "\n",
    "if liczba > 0 :\n",
    "  print(\"Dobra robota\")\n",
    "else:\n",
    "  print(\"Coś poszło nie tak ;(\")"
   ]
  },
  {
   "cell_type": "markdown",
   "metadata": {
    "id": "CMl6Cdfqoobc"
   },
   "source": [
    "### **Zadanie 1**\n",
    "\n",
    "\n",
    "Napisz program, który oblicza pole i obwód koła o promieniu podanym przez użytkownika. Wartość stałej\n",
    "π weź z biblioteki math. Promień nie może być ujemny. W przypadku podania liczby ujemnej, program\n",
    "powinien wypisywać komunikat informujący o błędnej wartości i nic nie liczyć.\n",
    "Użyj:\n",
    "```python\n",
    "from math import pi\n",
    "```"
   ]
  },
  {
   "cell_type": "code",
   "execution_count": null,
   "metadata": {
    "cellView": "form",
    "colab": {
     "base_uri": "https://localhost:8080/"
    },
    "id": "hg7a1ibYjQ9z",
    "outputId": "0e5a4875-151f-4445-d960-89c888842195",
    "tags": []
   },
   "outputs": [],
   "source": [
    "from math import pi\n",
    "# Użyj 'pi' jako wartość pi potrzebnego we wzorach\n",
    "r = float(input('Proszę podać promień koła r = '))\n",
    "napis = \"Wartość promienia nie może być ujemna!\" # Tam gdzie nie można policzyć Pola i Obwodu\n",
    "\n",
    "...\n",
    "  print(napis)\n",
    "...\n",
    "  Pole = ...\n",
    "  Obwod = ...\n",
    "  print('Pole dla r = ' + str(r) + ' ,pole = ' + str(round(Pole,4)) + ' ,obwód = ' + str(round(Obwod,4)))"
   ]
  },
  {
   "cell_type": "code",
   "execution_count": null,
   "metadata": {
    "deletable": false,
    "editable": false
   },
   "outputs": [],
   "source": [
    "grader.check(\"Q5\")"
   ]
  },
  {
   "cell_type": "markdown",
   "metadata": {
    "id": "A4PFeyWbksHA"
   },
   "source": [
    "### **Zadanie 2**\n",
    "\n",
    "W pewnej firmie, która zajmuje się pomocą w odrabianiu lekcji dla dzieci pracuje 3 nauczycieli. W zależności od poziomu edukacji obowiązują inne stawki godzinowe, odpowiednio: \n",
    "\n",
    "* poziom A - klasy 1-4: 40zł/1h,\n",
    "* poziom B - klasy 5-8: 50zł/1h,\n",
    "* poziom C - liceum: 70zł/1h.\n",
    "\n",
    "Dane na temat pracy nauczycieli w tym miesiącu:\n",
    "\n",
    "* nauczyciel_1 w ciągu miesiąca przepracował 30 godzin z dziećmi z klas 1-4, \n",
    "* nauczyciel_2 w tym samym miesiącu przepracował 30h z dziećmi z klas 5-8 oraz 15 godzin z uczniami liceum.\n",
    "* nauczyciel_3 przepracował po 13 godzin na każdym poziomie nauki. \n",
    "\n",
    "Oblicz:\n",
    "\n",
    "\n",
    "1.   Miesięczne wynagrodzenie każdego z nauczycieli przy założeni, że każda dodatkowa godzina powyzej 15 w obrębie każdej z grup uczniów liczona jest jako 1,25 stawki godzinowej;\n",
    "2.   Średnią ilość godzin lepiej płatnych przypadającą na każdego z nauczycieli w tej firmie;\n",
    "3.   Średnie wynagrodzenie  za godziny lepiej płatne w tej firmie;\n",
    "\n",
    "Zadbaj nie tylko o poprawność wyników, ale także o czytelność kodu.\n",
    "\n",
    "Poniżej został przygotowany szkielet programu. Należy uzupełnić jedynie wskazane fragmenty."
   ]
  },
  {
   "cell_type": "code",
   "execution_count": null,
   "metadata": {
    "cellView": "form",
    "id": "d2UUwg2El-fS",
    "tags": []
   },
   "outputs": [],
   "source": [
    "# Stawka godzinowa za każdy rodzaj zajęć\n",
    "s_poz_a = 40\n",
    "s_poz_b = 50\n",
    "s_poz_c = 70\n",
    "\n",
    "# Przpracowane godziny każdego nauczyciela na każdym poziomie nauki\n",
    "n1_h_poz_a = 30\n",
    "n1_h_poz_b = 0\n",
    "n1_h_poz_c = 0\n",
    "\n",
    "n2_h_poz_a = 0\n",
    "n2_h_poz_b = 30\n",
    "n2_h_poz_c = 15\n",
    "\n",
    "n3_h_poz_a = 13\n",
    "n3_h_poz_b = 13\n",
    "n3_h_poz_c = 13\n",
    "#Zarobek nauczyciela\n",
    "...\n",
    "  wyn_n1 = ...\n",
    "else : \n",
    "  wyn_n1 = ...\n",
    "\n",
    "...\n",
    "  wyn_n2_b = ...\n",
    "else : \n",
    "  wyn_n2_b = ...\n",
    "\n",
    "...\n",
    "  wyn_n2_c = ...\n",
    "else : \n",
    "  wyn_n2_c = ...\n",
    "\n",
    "wyn_n2 = ...\n",
    "\n",
    "...\n",
    "  wyn_n3_a = ...\n",
    "else : \n",
    "  wyn_n3_a = ...\n",
    "\n",
    "...\n",
    "  wyn_n3_b = ...\n",
    "else : \n",
    "  wyn_n3_b = ...\n",
    "\n",
    "...\n",
    "  wyn_n3_c = ...\n",
    "else : \n",
    "  wyn_n3_c = ...\n",
    "\n",
    "wyn_n3 = ...\n",
    "\n",
    "print('Zadanie 1')\n",
    "print('Miesieczne wynagordzenie Nauczyciela_1 wynosi ', wyn_n1)\n",
    "print('Miesieczne wynagordzenie Nauczyciela_2 wynosi ', wyn_n2)\n",
    "print('Miesieczne wynagordzenie Nauczyciela_3 wynosi ', wyn_n3)\n",
    "\n",
    "\n",
    "#Obliczanie średniej ilości godzin lepiej płatnych\n",
    "...\n",
    "  h_lepiej_n1_a = ...\n",
    "else:\n",
    "   h_lepiej_n1_a = ...\n",
    "\n",
    "...\n",
    "  h_lepiej_n2_b = ...\n",
    "else:\n",
    "   h_lepiej_n2_b = ...\n",
    "\n",
    "...\n",
    "  h_lepiej_n2_c = ...\n",
    "else:\n",
    "   h_lepiej_n2_c = ...\n",
    "\n",
    "...\n",
    "  h_lepiej_n3_a = ...\n",
    "else:\n",
    "   h_lepiej_n3_a = ...\n",
    "\n",
    "...\n",
    "  h_lepiej_n3_b = ...\n",
    "else:\n",
    "   h_lepiej_n3_b = ...\n",
    "\n",
    "...\n",
    "  h_lepiej_n3_c = ...\n",
    "else:\n",
    "   h_lepiej_n3_c = ...\n",
    "\n",
    "suma_godzin = ...\n",
    "srednia_na_nauczyciela = ...\n",
    "\n",
    "print('Zadanie 2')\n",
    "print(\"Średnia ilość godzin lepiej płatnych przypadająca na nauczyciela wynosi \", srednia_na_nauczyciela, \"godzin\")\n",
    "\n",
    "#Obliczanie średniego wynagrodzenia za lepiej płątne godziny\n",
    "\n",
    "suma_zarobkow = ...\n",
    "srednie_wynagrodzenie = ...\n",
    "print('Zadanie 3')\n",
    "print(\"Średnie wynagrodzenie za lepiej płatne godziny przypadające na nauczyciela wynosi \", srednie_wynagrodzenie, \"zł\")\n"
   ]
  },
  {
   "cell_type": "code",
   "execution_count": null,
   "metadata": {
    "deletable": false,
    "editable": false
   },
   "outputs": [],
   "source": [
    "grader.check(\"Q6\")"
   ]
  },
  {
   "cell_type": "markdown",
   "metadata": {
    "id": "0CZgrpPXu5Ds"
   },
   "source": [
    "### **Zadanie Domowe**\n",
    "\n",
    "\n",
    "Napisz program, który prosi o podanie współczynników równania kwadratowego ax^2 + bx + c = 0 i wypisuje rozwiązania równania (lub informację o braku rozwiązań). Rozważ wszystkie możliwości np. Równanie tożsamościowe, Równanie sprzeczne, Nie ma rozwiązania w zbiorze liczb rzeczywistych oraz przypadki z różną ilością rozwiązań równania kwadratowego.\n",
    "\n",
    "Poniżej został przygotowany szkielet programu. Nie zmieniaj napisów wewnatrz funckji ```print()```\n"
   ]
  },
  {
   "cell_type": "code",
   "execution_count": null,
   "metadata": {
    "tags": []
   },
   "outputs": [],
   "source": [
    "from math import sqrt, pi,pow\n",
    "\n",
    "print(\"Podaj współczynniki równania kwadratowego a,b,c a program poda pierwiastki tego równania\")\n",
    "\n",
    "a = float(input(\"Podaj a = \"))\n",
    "b = float(input(\"Podaj b = \"))\n",
    "c = float(input(\"Podaj c = \"))\n",
    "\n",
    "def fun_kwa(a,b,c): # Nie zmieniaj tej linii\n",
    "    if a == b == c ==0:\n",
    "        ...\n",
    "    elif a == b == 0:\n",
    "        ...\n",
    "    ...\n",
    "        delta = ...\n",
    "        if delta < 0 :\n",
    "            ...\n",
    "        ...\n",
    "            pier_delta = ...\n",
    "            if delta = ...\n",
    "                x = ...\n",
    "                return \"Równanie ma jedno podwójne rozwiązanie x = \" + str(round(abs(x),4))\n",
    "            ...\n",
    "                x1 = ...\n",
    "                x2 = ...\n",
    "                return \"Równanie ma dwa rozwiązania x1 = \" + str(round(x1,4)) + ' oraz x2 = ' + str(round(x2,4))\n",
    "            ...\n",
    "                x1 = ...\n",
    "                x2 = ...\n",
    "                return \"Równanie ma dwa rozwiązania x1 = \" + str(round(x1,4)) + ' oraz x2 = ' + str(round(x2,4))\n",
    "            elif a = ...\n",
    "                x = ...\n",
    "                return \"Równanie ma tylko jedno rozwiązanie x = \" + str(round(x,4))\n",
    "wynik = fun_kwa(a,b,c) # Nie zmieniaj tej linii\n",
    "print(wynik) # Nie zmieniaj tej linii"
   ]
  },
  {
   "cell_type": "code",
   "execution_count": null,
   "metadata": {
    "deletable": false,
    "editable": false
   },
   "outputs": [],
   "source": [
    "grader.check(\"Q7\")"
   ]
  }
 ],
 "metadata": {
  "colab": {
   "collapsed_sections": [],
   "name": "week_4.ipynb",
   "provenance": [],
   "toc_visible": true
  },
  "kernelspec": {
   "display_name": "Python 3",
   "language": "python",
   "name": "python3"
  },
  "language_info": {
   "codemirror_mode": {
    "name": "ipython",
    "version": 3
   },
   "file_extension": ".py",
   "mimetype": "text/x-python",
   "name": "python",
   "nbconvert_exporter": "python",
   "pygments_lexer": "ipython3",
   "version": "3.9.7"
  }
 },
 "nbformat": 4,
 "nbformat_minor": 1
}
