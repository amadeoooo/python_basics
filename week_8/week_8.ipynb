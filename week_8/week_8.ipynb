{
  "cells": [
    {
      "cell_type": "code",
      "execution_count": 1,
      "metadata": {
        "id": "X_buDY1h3esR"
      },
      "outputs": [],
      "source": [
        "%%capture\n",
        "!pip install otter-grader\n",
        "\n",
        "files = \"https://github.com/mateuszwyszynski/python_basics/raw/main/week_8/tests.zip\"\n",
        "!wget -O ./tests.zip $files && unzip -o tests.zip\n",
        "\n",
        "import otter\n",
        "grader = otter.Notebook(colab = True)\n",
        "!git clone https://github.com/mateuszwyszynski/python_basics.git"
      ]
    },
    {
      "cell_type": "markdown",
      "metadata": {
        "id": "KM4DcqIPLqek"
      },
      "source": [
        "W poprzednim tygodniu zaczęliśmy poznawanie biblioteki pythonowej do przetwarzania danych o nazwie Pandas. Dzisiaj pokrótce przypomnimy sobie czego nauczyliśmy się podczas wspomnianych zajęć, a następnie poznamy nowe, przydatne funkcjonalności tej biblioteki. Na koniec przedstawimy wam przykładowy wzorzec do waszego własnego projektu, który powinien ułatwić wam pracę."
      ]
    },
    {
      "cell_type": "markdown",
      "metadata": {
        "id": "P_1n-MP6hrwo"
      },
      "source": [
        "# Powtórka"
      ]
    },
    {
      "cell_type": "markdown",
      "metadata": {
        "id": "3zqb9vjdMmIE"
      },
      "source": [
        "Zacznijmy od wczytania omawianej biblioteki, a następnie stwórzmy przykładowy dataframe. Sposób w jaki można to zrobić został omówiony na poprzednich zajęciach, możecie prześledzić to również poniżej. Przypomnijmy, że do konkretnej kolumny możemy się odwołać poprzez polecenie `df['nazwa_kolumny']`."
      ]
    },
    {
      "cell_type": "code",
      "execution_count": 3,
      "metadata": {
        "id": "DxQs0TnkNhm-"
      },
      "outputs": [],
      "source": [
        "import pandas as pd"
      ]
    },
    {
      "cell_type": "code",
      "execution_count": null,
      "metadata": {
        "id": "EsVq8WeIc0IN"
      },
      "outputs": [],
      "source": [
        "# tworze jedna kolumne\n",
        "kolumna = pd.Series([1,2,3,4,5,6,7,8,9,10])\n",
        "\n",
        "# tworze kolejne kolumny\n",
        "kolumna1 = kolumna + 10\n",
        "kolumna2 = kolumna - 10\n",
        "kolumna3 = kolumna * 10\n",
        "kolumna4 = kolumna / 10\n",
        "kolumna5 = kolumna ** 10\n",
        "\n",
        "# tworze puste kolumny z nazwami \n",
        "df = pd.DataFrame(columns = ['kolumna', 'kolumna1', 'kolumna2', 'kolumna3', 'kolumna4', 'kolumna5'])\n",
        "\n",
        "# uzupelniam kolumny danymi\n",
        "df['kolumna'] = kolumna\n",
        "df['kolumna1'] = kolumna1\n",
        "df['kolumna2'] = kolumna2\n",
        "df['kolumna3'] = kolumna3\n",
        "df['kolumna4'] = kolumna4\n",
        "df['kolumna5'] = kolumna5\n",
        "df"
      ]
    },
    {
      "cell_type": "markdown",
      "metadata": {
        "id": "LjmMpNSY3esi"
      },
      "source": [
        "Na kolumnach możemy również wykonywać operacje osobno po kolejnych elementach. Przykładowo kolumna `[1,2,3]` dodana do kolumny `[4,5,6]` zwróci nam wynik `[5,7,9]`, ponieważ `[5,7,9] = [1+4, 2+5, 3+6]`."
      ]
    },
    {
      "cell_type": "code",
      "execution_count": null,
      "metadata": {
        "id": "75LEtuXR3esi"
      },
      "outputs": [],
      "source": [
        "print('kolumna1:\\n', df['kolumna1'])\n",
        "print()\n",
        "print('kolumna2:\\n', df['kolumna2'])\n",
        "print()\n",
        "print('Ich suma:\\n', df['kolumna1'] + df['kolumna2'])"
      ]
    },
    {
      "cell_type": "markdown",
      "metadata": {
        "id": "nw7cMHL6PBid"
      },
      "source": [
        "## Zadanie1\n"
      ]
    },
    {
      "cell_type": "markdown",
      "metadata": {
        "id": "JqZi6Ng8Ppjd"
      },
      "source": [
        "Napisz funkcję, która za argumenty przyjmuje kolejno dataframe i nazwy dwóch kolumn (obecnych w tym dataframie), a zwraca iloczyn tych kolumn po konkretnych elementach. Przykładowo `[1,2,3]*[4,5,6]` zwróci nam wynik `[4,10,18]`, ponieważ `[4,10,18] = [1*4, 2*5, 3*6]`."
      ]
    },
    {
      "cell_type": "code",
      "execution_count": null,
      "metadata": {
        "id": "BVKhUT02iRvZ",
        "tags": []
      },
      "outputs": [],
      "source": [
        "def iloczyn_kolumn(dataframe, nazwa_kolumny1, nazwa_kolumny2):\n",
        "    ..."
      ]
    },
    {
      "cell_type": "code",
      "execution_count": null,
      "metadata": {
        "deletable": false,
        "editable": false,
        "id": "SeMTM9d33esj"
      },
      "outputs": [],
      "source": [
        "grader.check(\"Q1\")"
      ]
    },
    {
      "cell_type": "markdown",
      "metadata": {
        "id": "e2-H9zHrhw5O"
      },
      "source": [
        "# Coś nowego"
      ]
    },
    {
      "cell_type": "markdown",
      "metadata": {
        "id": "VbXGLr3aQmUi"
      },
      "source": [
        "Możemy również odwołać się do konkretnej kolumny dataframu poprzez `df['nazwa_kolumny']` i policzyć na niej interesujące nas statystyki. Jednym ze sposobów jest dołączenie na końcu `.nazwametody()` Przykładowo `df['nazwa_kolumny'].sum()` zwróci nam sumę wartości w kolumnie `nazwa_kolumny`. Taki sam efekt osiągniemy poprzez polecenie `pd.sum(df['nazwa_kolumny'])`."
      ]
    },
    {
      "cell_type": "markdown",
      "metadata": {
        "id": "UXH99ozU3esk"
      },
      "source": [
        "## Zadanie2\n"
      ]
    },
    {
      "cell_type": "markdown",
      "metadata": {
        "id": "h-b-Glne3esk"
      },
      "source": [
        "Napisz funkcję, która za argumenty przyjmuje kolejno dataframe i nazwę kolumny (obecną w tym dataframie), a zwraca dwukrotność średniej arytmetycznej wartości w danej kolumnie. Do wykonania tego zadania nie musisz używać pętli."
      ]
    },
    {
      "cell_type": "code",
      "execution_count": null,
      "metadata": {
        "tags": [],
        "id": "FJAuDrK83esl"
      },
      "outputs": [],
      "source": [
        "def podwojna_srednia_kolumny(dataframe, nazwa_kolumny):\n",
        "    srednia = ...\n",
        "    ..."
      ]
    },
    {
      "cell_type": "code",
      "execution_count": null,
      "metadata": {
        "deletable": false,
        "editable": false,
        "id": "mxmvX3Fs3esl"
      },
      "outputs": [],
      "source": [
        "grader.check(\"Q2\")"
      ]
    },
    {
      "cell_type": "markdown",
      "metadata": {
        "id": "CgJxu5HCThG5"
      },
      "source": [
        "Kolejną przydatną umiejętnością jest wyciąganie (czy też wycinanie) konkretnych części naszego dataframu. W tym celu używamy `df.iloc[wiersz_start:wiersz_stop, kolumna_start:kolumna_stop]`, gdzie `wiersz_start` oznacza numer wiersza, od którego chcemy wycinać nasze dane, a `wiersz_stop` oznacza numer wiersza, do którego chcemy to zrobić. Warto zauważyć, że wiersz pod numerem `wiersz_start` będzie się zawierał w naszym wycinku, natomiast `wiersz_stop` już nie (podobnie sytuacja wyglądała w przypadku `range`). Sytuacja dla kolumn wygląda analogicznie. Przykładowo, `df.iloc[2:4, 0:4]` spowoduje wycięcie z dataframu `df` wierszów o numerach 2 i 3, natomiast kolumn o numerach 0, 1, 2 i 3 (pamiętajmy, że liczyć zaczynamy od 0). W naszym przypadku będą to: `kolumna`, `kolumna1`, `kolumna2` oraz `kolumna3`."
      ]
    },
    {
      "cell_type": "code",
      "execution_count": null,
      "metadata": {
        "id": "sKkCQ_z7W0h9"
      },
      "outputs": [],
      "source": [
        "df.iloc[2:4, 0:4]"
      ]
    },
    {
      "cell_type": "markdown",
      "metadata": {
        "id": "6UYeNzUSXBFB"
      },
      "source": [
        "Gdybyśmy chcieli wyciąć tylko konkretne wiersze (ze wszystkimi kolumnami), część `kolumna_start:kolumna_stop` zostawiamy jako `:`."
      ]
    },
    {
      "cell_type": "code",
      "execution_count": null,
      "metadata": {
        "id": "6qOgpybuXRUE"
      },
      "outputs": [],
      "source": [
        "df.iloc[2:4, :]"
      ]
    },
    {
      "cell_type": "markdown",
      "metadata": {
        "id": "ZzLnS_B7WGyG"
      },
      "source": [
        "Analogicznie postępujemy, gdybyśmy byli zainteresowani pozostawieniem wszystkich wierzy i wycięciem tylko konkretnych kolumn."
      ]
    },
    {
      "cell_type": "code",
      "execution_count": null,
      "metadata": {
        "id": "yIIj3HszXjxv"
      },
      "outputs": [],
      "source": [
        "df.iloc[:, 0:4]"
      ]
    },
    {
      "cell_type": "markdown",
      "metadata": {
        "id": "yruAf1ZJXjaY"
      },
      "source": [
        "Zauważmy, że gdybyśmy chcieli wyciąć z naszego dataframu wszystkie kolumny od początku do kolumny o danym numerze, możemy pominąć `kolumna_start` i zapisać tę część jako `:kolumna_stop`."
      ]
    },
    {
      "cell_type": "code",
      "execution_count": null,
      "metadata": {
        "id": "FuljEizEYow9"
      },
      "outputs": [],
      "source": [
        "df.iloc[:, :4]"
      ]
    },
    {
      "cell_type": "markdown",
      "metadata": {
        "id": "rJ88hBD3Yr_h"
      },
      "source": [
        "Podobnie wygląda sytuacja, gdybyśmy potrzebowali wyciąć kolumny od danego numeru do końca. Z wierszami można postępować w taki sam sposób. Poniższy kod wytnie nam dataframe od wiersza o numerze 5 do końca oraz od `kolumna2` do końca. "
      ]
    },
    {
      "cell_type": "code",
      "execution_count": null,
      "metadata": {
        "id": "t-BWJNPvZLUL"
      },
      "outputs": [],
      "source": [
        "df.iloc[5:, 2:]"
      ]
    },
    {
      "cell_type": "markdown",
      "metadata": {
        "id": "Kw8DDnfEZtef"
      },
      "source": [
        "W celu wybrania konkretnego wiersza lub kolumny, ustawiamy daną część wycinania na pojedynczy indeks. Przykładowo `df.iloc[2, 3:5]` zwróci nam wiersz o numerze dwa w kolumnach o numerach 3 i 4. W przypadku wycinania jednego wiersza/kolumny zmieni się typ naszego obiektu, ale nie musimy się tym teraz przejmować."
      ]
    },
    {
      "cell_type": "code",
      "execution_count": null,
      "metadata": {
        "id": "HEJMrCMxZhHd"
      },
      "outputs": [],
      "source": [
        "df.iloc[2, 3:5]"
      ]
    },
    {
      "cell_type": "markdown",
      "metadata": {
        "id": "TsNILXi87fbw"
      },
      "source": [
        "Zastanów się, w jaki sposób używająć `.iloc` można wybrać tylko jedną komórkę."
      ]
    },
    {
      "cell_type": "markdown",
      "metadata": {
        "id": "g8ELW79Taqj4"
      },
      "source": [
        "## Zadanie3"
      ]
    },
    {
      "cell_type": "code",
      "execution_count": null,
      "metadata": {
        "id": "8elTNBobcjgn",
        "scrolled": true
      },
      "outputs": [],
      "source": [
        "df"
      ]
    },
    {
      "cell_type": "markdown",
      "metadata": {
        "id": "sKVuXSjeawD9"
      },
      "source": [
        "Napisz funkcję, która jako argumenty przyjmuje kolejno: dataframe, numer wiersza pierwszego elementu, numer kolumny pierwszego elementu, numer wiersza drugiego elementu, numer kolumny drugiego elementu. Funkcja ta powinna zwrócić wynik mnożenia pierwszego i drugiego elementu. Przykładowo `mnozenie_po_indeksach(df, 3, 2, 6, 0)` powinno zwrócić $-6\\cdot7 = -42$. Porównaj obliczenia z tabelką powyżej."
      ]
    },
    {
      "cell_type": "code",
      "execution_count": null,
      "metadata": {
        "id": "PTZs3JnhaqIa",
        "tags": []
      },
      "outputs": [],
      "source": [
        "def mnozenie_po_indeksach(dataframe, nr_wiersza1, nr_kolumny1, nr_wiersza2, nr_kolumny2):\n",
        "    ..."
      ]
    },
    {
      "cell_type": "code",
      "execution_count": null,
      "metadata": {
        "deletable": false,
        "editable": false,
        "id": "PdJWMUP53eso"
      },
      "outputs": [],
      "source": [
        "grader.check(\"Q3\")"
      ]
    },
    {
      "cell_type": "markdown",
      "metadata": {
        "id": "iu6RbjTwiVFc"
      },
      "source": [
        "# Wzorzec waszego projektu"
      ]
    },
    {
      "cell_type": "markdown",
      "metadata": {
        "id": "VtQsfD3diZzN"
      },
      "source": [
        "W tym miejscu przedstawimy wam przykładowy wzorzec dla waszego projektu - oczywiście możecie go dowolonie modyfikować, dodawać, zmieniać i usuwać z niego rzeczy. W zeszłym tygodniu pracowaliśmy na zbiorze danych, który miał określony format - w pierwszym wierszu były nazwy kolumn, pierwsza z nich zawierała nazwy państw, natomiast kolejne różne zmienne opisujące te państwa (przykład w excelu poniżej). Co ważne (!) w przygotowanym poniżej wzorcu będziemy zakładać, że również Wy będziecie mieli przygotowane dane w takim formacie.\n",
        "\n",
        "![](https://drive.google.com/uc?export=view&id=1-bCoYfuOJfqavbZg99DoqLMQmqc6MOvB)"
      ]
    },
    {
      "cell_type": "markdown",
      "metadata": {
        "id": "QyVOAtuQ3esp"
      },
      "source": [
        "Warto zaznaczyć, że używając swoich danych będziecie mogli natknąć się na problemy, które nie zostaną tu omówione. W takim przypadku również nie wahajcie pytać się o to prowadzących."
      ]
    },
    {
      "cell_type": "markdown",
      "metadata": {
        "id": "UuTyNhXanFzm"
      },
      "source": [
        "Na początku musicie wczytać swój plik excel. W tym celu kliknijcie ikonę folderu w pasku po lewej stronie i wczytajcie lub przeciągnijcie tam swój plik, a następnie wczytajcie swoje dane wykonując kod poniżej."
      ]
    },
    {
      "cell_type": "code",
      "execution_count": 4,
      "metadata": {
        "id": "G8jvsFeZiYru"
      },
      "outputs": [],
      "source": [
        "moj_df = pd.read_excel('python_basics/data/dane_kraje.xlsx') # zmien nazwe pliku na swoja! wystarczy jedynie pd.read_excel('nazwapliku.xlsx')"
      ]
    },
    {
      "cell_type": "markdown",
      "metadata": {
        "id": "NmFqgKso3esq"
      },
      "source": [
        "Zobaczmy teraz swoje dane."
      ]
    },
    {
      "cell_type": "code",
      "execution_count": 5,
      "metadata": {
        "id": "tldI0G1mUaYk",
        "colab": {
          "base_uri": "https://localhost:8080/",
          "height": 424
        },
        "outputId": "770e2091-aae9-4b35-92a2-3ef71028d15a"
      },
      "outputs": [
        {
          "output_type": "execute_result",
          "data": {
            "text/plain": [
              "         Country  Intelligence quontient  Expected years of schooling  \\\n",
              "0    Afghanistan                    75.0                         10.0   \n",
              "1        Albania                    82.0                         14.7   \n",
              "2        Algeria                    82.4                         14.3   \n",
              "3        Andorra                    97.0                         13.5   \n",
              "4         Angola                    71.0                          9.9   \n",
              "..           ...                     ...                          ...   \n",
              "197    Venezuela                    83.5                         14.2   \n",
              "198      Vietnam                    94.0                         12.6   \n",
              "199        Yemen                    80.5                          9.0   \n",
              "200       Zambia                    74.0                         12.5   \n",
              "201     Zimbabwe                    72.1                         10.3   \n",
              "\n",
              "    Developing?  Average temperature  GDP (PPP) per capita  \\\n",
              "0    Developing                12.60              1538.807   \n",
              "1    Developing                11.40              9383.479   \n",
              "2    Developing                22.50             12664.666   \n",
              "3    Developing                 7.60             50300.000   \n",
              "4    Developing                21.55              6323.302   \n",
              "..          ...                  ...                   ...   \n",
              "197  Developing                25.35             16492.576   \n",
              "198  Developing                24.45              4394.462   \n",
              "199  Developing                23.85              4244.872   \n",
              "200  Developing                21.40              3196.641   \n",
              "201  Developing                21.00              1943.276   \n",
              "\n",
              "     Fertility rate per woman    PPPwzg  \n",
              "0                        6.37  0.012098  \n",
              "1                        1.64  0.073772  \n",
              "2                        2.72  0.099568  \n",
              "3                        1.27  0.395454  \n",
              "4                        6.35  0.049713  \n",
              "..                        ...       ...  \n",
              "197                      2.55  0.129663  \n",
              "198                      1.93  0.034549  \n",
              "199                      5.00  0.033373  \n",
              "200                      5.60  0.025132  \n",
              "201                      4.00  0.015278  \n",
              "\n",
              "[202 rows x 8 columns]"
            ],
            "text/html": [
              "\n",
              "  <div id=\"df-db5f471e-8609-4777-b751-4b72fcd094da\">\n",
              "    <div class=\"colab-df-container\">\n",
              "      <div>\n",
              "<style scoped>\n",
              "    .dataframe tbody tr th:only-of-type {\n",
              "        vertical-align: middle;\n",
              "    }\n",
              "\n",
              "    .dataframe tbody tr th {\n",
              "        vertical-align: top;\n",
              "    }\n",
              "\n",
              "    .dataframe thead th {\n",
              "        text-align: right;\n",
              "    }\n",
              "</style>\n",
              "<table border=\"1\" class=\"dataframe\">\n",
              "  <thead>\n",
              "    <tr style=\"text-align: right;\">\n",
              "      <th></th>\n",
              "      <th>Country</th>\n",
              "      <th>Intelligence quontient</th>\n",
              "      <th>Expected years of schooling</th>\n",
              "      <th>Developing?</th>\n",
              "      <th>Average temperature</th>\n",
              "      <th>GDP (PPP) per capita</th>\n",
              "      <th>Fertility rate per woman</th>\n",
              "      <th>PPPwzg</th>\n",
              "    </tr>\n",
              "  </thead>\n",
              "  <tbody>\n",
              "    <tr>\n",
              "      <th>0</th>\n",
              "      <td>Afghanistan</td>\n",
              "      <td>75.0</td>\n",
              "      <td>10.0</td>\n",
              "      <td>Developing</td>\n",
              "      <td>12.60</td>\n",
              "      <td>1538.807</td>\n",
              "      <td>6.37</td>\n",
              "      <td>0.012098</td>\n",
              "    </tr>\n",
              "    <tr>\n",
              "      <th>1</th>\n",
              "      <td>Albania</td>\n",
              "      <td>82.0</td>\n",
              "      <td>14.7</td>\n",
              "      <td>Developing</td>\n",
              "      <td>11.40</td>\n",
              "      <td>9383.479</td>\n",
              "      <td>1.64</td>\n",
              "      <td>0.073772</td>\n",
              "    </tr>\n",
              "    <tr>\n",
              "      <th>2</th>\n",
              "      <td>Algeria</td>\n",
              "      <td>82.4</td>\n",
              "      <td>14.3</td>\n",
              "      <td>Developing</td>\n",
              "      <td>22.50</td>\n",
              "      <td>12664.666</td>\n",
              "      <td>2.72</td>\n",
              "      <td>0.099568</td>\n",
              "    </tr>\n",
              "    <tr>\n",
              "      <th>3</th>\n",
              "      <td>Andorra</td>\n",
              "      <td>97.0</td>\n",
              "      <td>13.5</td>\n",
              "      <td>Developing</td>\n",
              "      <td>7.60</td>\n",
              "      <td>50300.000</td>\n",
              "      <td>1.27</td>\n",
              "      <td>0.395454</td>\n",
              "    </tr>\n",
              "    <tr>\n",
              "      <th>4</th>\n",
              "      <td>Angola</td>\n",
              "      <td>71.0</td>\n",
              "      <td>9.9</td>\n",
              "      <td>Developing</td>\n",
              "      <td>21.55</td>\n",
              "      <td>6323.302</td>\n",
              "      <td>6.35</td>\n",
              "      <td>0.049713</td>\n",
              "    </tr>\n",
              "    <tr>\n",
              "      <th>...</th>\n",
              "      <td>...</td>\n",
              "      <td>...</td>\n",
              "      <td>...</td>\n",
              "      <td>...</td>\n",
              "      <td>...</td>\n",
              "      <td>...</td>\n",
              "      <td>...</td>\n",
              "      <td>...</td>\n",
              "    </tr>\n",
              "    <tr>\n",
              "      <th>197</th>\n",
              "      <td>Venezuela</td>\n",
              "      <td>83.5</td>\n",
              "      <td>14.2</td>\n",
              "      <td>Developing</td>\n",
              "      <td>25.35</td>\n",
              "      <td>16492.576</td>\n",
              "      <td>2.55</td>\n",
              "      <td>0.129663</td>\n",
              "    </tr>\n",
              "    <tr>\n",
              "      <th>198</th>\n",
              "      <td>Vietnam</td>\n",
              "      <td>94.0</td>\n",
              "      <td>12.6</td>\n",
              "      <td>Developing</td>\n",
              "      <td>24.45</td>\n",
              "      <td>4394.462</td>\n",
              "      <td>1.93</td>\n",
              "      <td>0.034549</td>\n",
              "    </tr>\n",
              "    <tr>\n",
              "      <th>199</th>\n",
              "      <td>Yemen</td>\n",
              "      <td>80.5</td>\n",
              "      <td>9.0</td>\n",
              "      <td>Developing</td>\n",
              "      <td>23.85</td>\n",
              "      <td>4244.872</td>\n",
              "      <td>5.00</td>\n",
              "      <td>0.033373</td>\n",
              "    </tr>\n",
              "    <tr>\n",
              "      <th>200</th>\n",
              "      <td>Zambia</td>\n",
              "      <td>74.0</td>\n",
              "      <td>12.5</td>\n",
              "      <td>Developing</td>\n",
              "      <td>21.40</td>\n",
              "      <td>3196.641</td>\n",
              "      <td>5.60</td>\n",
              "      <td>0.025132</td>\n",
              "    </tr>\n",
              "    <tr>\n",
              "      <th>201</th>\n",
              "      <td>Zimbabwe</td>\n",
              "      <td>72.1</td>\n",
              "      <td>10.3</td>\n",
              "      <td>Developing</td>\n",
              "      <td>21.00</td>\n",
              "      <td>1943.276</td>\n",
              "      <td>4.00</td>\n",
              "      <td>0.015278</td>\n",
              "    </tr>\n",
              "  </tbody>\n",
              "</table>\n",
              "<p>202 rows × 8 columns</p>\n",
              "</div>\n",
              "      <button class=\"colab-df-convert\" onclick=\"convertToInteractive('df-db5f471e-8609-4777-b751-4b72fcd094da')\"\n",
              "              title=\"Convert this dataframe to an interactive table.\"\n",
              "              style=\"display:none;\">\n",
              "        \n",
              "  <svg xmlns=\"http://www.w3.org/2000/svg\" height=\"24px\"viewBox=\"0 0 24 24\"\n",
              "       width=\"24px\">\n",
              "    <path d=\"M0 0h24v24H0V0z\" fill=\"none\"/>\n",
              "    <path d=\"M18.56 5.44l.94 2.06.94-2.06 2.06-.94-2.06-.94-.94-2.06-.94 2.06-2.06.94zm-11 1L8.5 8.5l.94-2.06 2.06-.94-2.06-.94L8.5 2.5l-.94 2.06-2.06.94zm10 10l.94 2.06.94-2.06 2.06-.94-2.06-.94-.94-2.06-.94 2.06-2.06.94z\"/><path d=\"M17.41 7.96l-1.37-1.37c-.4-.4-.92-.59-1.43-.59-.52 0-1.04.2-1.43.59L10.3 9.45l-7.72 7.72c-.78.78-.78 2.05 0 2.83L4 21.41c.39.39.9.59 1.41.59.51 0 1.02-.2 1.41-.59l7.78-7.78 2.81-2.81c.8-.78.8-2.07 0-2.86zM5.41 20L4 18.59l7.72-7.72 1.47 1.35L5.41 20z\"/>\n",
              "  </svg>\n",
              "      </button>\n",
              "      \n",
              "  <style>\n",
              "    .colab-df-container {\n",
              "      display:flex;\n",
              "      flex-wrap:wrap;\n",
              "      gap: 12px;\n",
              "    }\n",
              "\n",
              "    .colab-df-convert {\n",
              "      background-color: #E8F0FE;\n",
              "      border: none;\n",
              "      border-radius: 50%;\n",
              "      cursor: pointer;\n",
              "      display: none;\n",
              "      fill: #1967D2;\n",
              "      height: 32px;\n",
              "      padding: 0 0 0 0;\n",
              "      width: 32px;\n",
              "    }\n",
              "\n",
              "    .colab-df-convert:hover {\n",
              "      background-color: #E2EBFA;\n",
              "      box-shadow: 0px 1px 2px rgba(60, 64, 67, 0.3), 0px 1px 3px 1px rgba(60, 64, 67, 0.15);\n",
              "      fill: #174EA6;\n",
              "    }\n",
              "\n",
              "    [theme=dark] .colab-df-convert {\n",
              "      background-color: #3B4455;\n",
              "      fill: #D2E3FC;\n",
              "    }\n",
              "\n",
              "    [theme=dark] .colab-df-convert:hover {\n",
              "      background-color: #434B5C;\n",
              "      box-shadow: 0px 1px 3px 1px rgba(0, 0, 0, 0.15);\n",
              "      filter: drop-shadow(0px 1px 2px rgba(0, 0, 0, 0.3));\n",
              "      fill: #FFFFFF;\n",
              "    }\n",
              "  </style>\n",
              "\n",
              "      <script>\n",
              "        const buttonEl =\n",
              "          document.querySelector('#df-db5f471e-8609-4777-b751-4b72fcd094da button.colab-df-convert');\n",
              "        buttonEl.style.display =\n",
              "          google.colab.kernel.accessAllowed ? 'block' : 'none';\n",
              "\n",
              "        async function convertToInteractive(key) {\n",
              "          const element = document.querySelector('#df-db5f471e-8609-4777-b751-4b72fcd094da');\n",
              "          const dataTable =\n",
              "            await google.colab.kernel.invokeFunction('convertToInteractive',\n",
              "                                                     [key], {});\n",
              "          if (!dataTable) return;\n",
              "\n",
              "          const docLinkHtml = 'Like what you see? Visit the ' +\n",
              "            '<a target=\"_blank\" href=https://colab.research.google.com/notebooks/data_table.ipynb>data table notebook</a>'\n",
              "            + ' to learn more about interactive tables.';\n",
              "          element.innerHTML = '';\n",
              "          dataTable['output_type'] = 'display_data';\n",
              "          await google.colab.output.renderOutput(dataTable, element);\n",
              "          const docLink = document.createElement('div');\n",
              "          docLink.innerHTML = docLinkHtml;\n",
              "          element.appendChild(docLink);\n",
              "        }\n",
              "      </script>\n",
              "    </div>\n",
              "  </div>\n",
              "  "
            ]
          },
          "metadata": {},
          "execution_count": 5
        }
      ],
      "source": [
        "moj_df"
      ]
    },
    {
      "cell_type": "markdown",
      "metadata": {
        "id": "v--_QFqhUaYl"
      },
      "source": [
        "Innym ważnym aspektem pracy na wczytywanych danych jest możliwość poznania nazw każdej z kolumn. Jest to niezbędne do prawidłowego wywoływania poszczególnych wartości z naszej tablicy. Tu z pomocą przychodzi nam zmienna wywoływana przy pomocy `.columns`, która to wyświetla nazwy kolumn zaczynając od lewej strony naszej tablicy, aż do jej końca. Zobaczmy nazwy kolumn w naszych danych."
      ]
    },
    {
      "cell_type": "code",
      "execution_count": 6,
      "metadata": {
        "id": "BthN7kgFUaYl",
        "colab": {
          "base_uri": "https://localhost:8080/"
        },
        "outputId": "f0708374-ea72-4e38-a616-4e4144398532"
      },
      "outputs": [
        {
          "output_type": "execute_result",
          "data": {
            "text/plain": [
              "Index(['Country', 'Intelligence quontient', 'Expected years of schooling',\n",
              "       'Developing?', 'Average temperature', 'GDP (PPP) per capita',\n",
              "       'Fertility rate per woman', 'PPPwzg'],\n",
              "      dtype='object')"
            ]
          },
          "metadata": {},
          "execution_count": 6
        }
      ],
      "source": [
        "moj_df.columns"
      ]
    },
    {
      "cell_type": "markdown",
      "metadata": {
        "id": "5w5cMnYkUaYl"
      },
      "source": [
        "Następnie wartościową informacją jest rozmiar(wymiar) naszej tablicy. Warto wiedzieć ile wierszy i kolumn posiada nasz `DataFrame`. Możemy się tego dowiedzieć przy pomocy atrybutu `.shape`, która zwraca nam `(liczba_wierszy, liczba_kolumn)`. W łatwy sposób jesteśmy w stanie rozdzielić te dwie informacje. Możecie tutaj zobaczyć liczbę wierszy oraz liczbę kolumn w waszych danych."
      ]
    },
    {
      "cell_type": "code",
      "execution_count": 7,
      "metadata": {
        "id": "vORNm0xJUaYl",
        "colab": {
          "base_uri": "https://localhost:8080/"
        },
        "outputId": "de6fcb1d-2333-41f0-af9c-1c9fc506e790"
      },
      "outputs": [
        {
          "output_type": "stream",
          "name": "stdout",
          "text": [
            "liczba wierszy:  202 , liczba kolumn:  8\n"
          ]
        }
      ],
      "source": [
        "liczba_wierszy = moj_df.shape[0] \n",
        "liczba_kolumn = moj_df.shape[1]\n",
        "\n",
        "print('liczba wierszy: ', liczba_wierszy,', liczba kolumn: ', liczba_kolumn)"
      ]
    },
    {
      "cell_type": "markdown",
      "metadata": {
        "id": "0MIsyoklUaYm"
      },
      "source": [
        "---\n",
        "Zanim jeszcze rozpoczniemy pracę nad naszymi danymi warto wiedzieć z czym przyjdzie nam się zmagać. Warto w tym celu użyć funkcji `.dtypes`, która poda jakie typy zmiennych znajdują się w każdej z kolumn."
      ]
    },
    {
      "cell_type": "code",
      "execution_count": 8,
      "metadata": {
        "id": "IBZ2PtGfUaYm",
        "colab": {
          "base_uri": "https://localhost:8080/"
        },
        "outputId": "08f9c46f-836a-4326-ba7b-daf08e317a54"
      },
      "outputs": [
        {
          "output_type": "execute_result",
          "data": {
            "text/plain": [
              "Country                         object\n",
              "Intelligence quontient         float64\n",
              "Expected years of schooling    float64\n",
              "Developing?                     object\n",
              "Average temperature            float64\n",
              "GDP (PPP) per capita           float64\n",
              "Fertility rate per woman       float64\n",
              "PPPwzg                         float64\n",
              "dtype: object"
            ]
          },
          "metadata": {},
          "execution_count": 8
        }
      ],
      "source": [
        "moj_df.dtypes"
      ]
    },
    {
      "cell_type": "markdown",
      "metadata": {
        "id": "F2LCPpqSv-vs"
      },
      "source": [
        "Widzimy, że typ niektórych zmiennych to `object`, a niektórych to `float64`. W pierwszym przypadku oznacza to, że wartości są tam przechowywane najprawdopodobniej w formacie napisu (`str` lub podobne, nie wchodzimy tutaj w szczegóły). Drugi przypadek natomiast oznacza, że zmienne w takiej kolumnie są przechowywane jako liczby rzeczywiste. W ramach przypomnienia możecie odwołać się do komórki poniżej.\n",
        "\n",
        "![](https://drive.google.com/uc?export=view&id=1Vx495G47Q3khoBA2XIZV-Z-jeUIi9OOl)\n",
        "\n",
        "Może się zdażyć, że kolumna, która powinna zawierać liczby zostanie wczytana w typie `object`. Problem może się brać np. z tego, że wartości w tych kolumnach zostały wczytane jako napisy już w Excelu.\n",
        "\n",
        "Taka sytuacja jest niepożada, ponieważ na takich kolumnach możemy mieć z problem z wykonywaniem operacji arytmetycznych, dlatego pokażemy teraz, jak zamienić te kolumny na typ, jaki uważamy za stosowny, w tym przypadku będzie to `float64`, który reprezentuje liczby rzeczywiste."
      ]
    },
    {
      "cell_type": "code",
      "execution_count": null,
      "metadata": {
        "id": "T4G7jol9y-bi"
      },
      "outputs": [],
      "source": [
        "moj_df['nazwa_kolumny'] = moj_df['nazwa_kolumny'].astype('float64') # zastap 'nazwa_kolumny' wybrana przez siebie kolumna"
      ]
    },
    {
      "cell_type": "markdown",
      "metadata": {
        "id": "Uqvd5CpBUaYm"
      },
      "source": [
        "Czasami bywa tak, że w danych nad którymi obecnie pracujesz pojawiają się `NaN, NA, #N/A`, które należy utożsamiać z `Not a Number` lub `Not Available`. Oznacza to, że w naszych danych dla danego kraju z jakiegoś powodu nie mamy wartości danego wskaźnika (np. nie został on zmierzony albo widzimy, że przy przepisywaniu został zmierzony źle - ktoś mógł chociażby w złym miejscu wstawić przecinek). Może to powodować niepoprawne działanie twojego kodu jeśli nie jesteś przygotowany na uwzględnienie tego w swoich danych.\n",
        "\n",
        "Biblioteka Pandas jest gotowa na znajdowanie takich obiektów oraz na różnego typu działania z nimi związanymi. Najpierw postarajmy się znaleźć wszystkie wystąpienia `NaN` w naszym `DataFrame`. Można to zrobić przy pomocy funkcji `.isna()`, którą należy rozbudować o `.any(axis=1)`, żeby znaleźć wszystkie wystąpienia w tablicy. "
      ]
    },
    {
      "cell_type": "code",
      "execution_count": null,
      "metadata": {
        "id": "5CuEAtH8UaYn"
      },
      "outputs": [],
      "source": [
        "moj_df[moj_df.isna().any(axis=1)]"
      ]
    },
    {
      "cell_type": "markdown",
      "metadata": {
        "id": "wJQ7KQGeUaYn"
      },
      "source": [
        "Teraz musicie zobaczyć czy w waszych danych znajdują się omawiane wartości (`NA`, `NaN`). Jeśli tak, to najłatwiejszym sposobem będzie usunięcie wszystkich wierszów z taką wartością, w tym celu użyjemy `.dropna()`. Alternatywnym rozwiązaniem jest zamiana wszystkich `NaN` na np. 0, co można wykonać przy pomocy funkcji `.fillna(0)`. Sprawdźmy teraz jak to działa:"
      ]
    },
    {
      "cell_type": "code",
      "execution_count": null,
      "metadata": {
        "id": "GwjMxgnMUaYn"
      },
      "outputs": [],
      "source": [
        "moj_df = moj_df.dropna() # uzyj tej linijki, jesli chcesz wyrzucic panstwa, w ktorych wystepuja NA\n",
        "moj_df = moj_df.fillna(0) # lub tej, jesli chcesz je zamienic na 0"
      ]
    },
    {
      "cell_type": "markdown",
      "metadata": {
        "id": "k8qG6WiP3esu"
      },
      "source": [
        "Nie musisz używać tych linijek, jeśli w Twoich danych nie występują takie wartości."
      ]
    },
    {
      "cell_type": "markdown",
      "metadata": {
        "id": "KBfzZRDq3L6d"
      },
      "source": [
        "W naszych plikach możemy również mieć zmienne binarne - to takie zmienne, które przyjmują tylko 2 wartości. Przy pomocy funkcji `.unqiue()` możemy sprawdzić, jakie wartości przyjmuje taka kolumna. Jeśli masz taką kolumnę, możesz wykonać poniższy fragment kodu, w przeciwnym przypadku możesz go pominąć.\n"
      ]
    },
    {
      "cell_type": "code",
      "execution_count": null,
      "metadata": {
        "id": "Y9JB8wYx3iQM"
      },
      "outputs": [],
      "source": [
        "moj_df['nazwa_kolumny'].unique() # zastap 'nazwa_kolumny' wybrana przez siebie kolumna"
      ]
    },
    {
      "cell_type": "markdown",
      "metadata": {
        "id": "Y1M-Ca4w4HZM"
      },
      "source": [
        "Wartości w naszej kolumnie mogą być różne, jeżeli będą to np. napisy to wtedy warto zwrócić uwagę, że komputery operują na liczbach, dlatego chcielibyśmy zamienić te napisy na liczby. Najczęściej wykonywaną operacją jest zamiana odpowiednich napisów na 0 i 1."
      ]
    },
    {
      "cell_type": "code",
      "execution_count": null,
      "metadata": {
        "id": "AVT7IE59804j"
      },
      "outputs": [],
      "source": [
        "# zastap 'nazwa_kolumny' wybrana przez siebie kolumna, natomiast 'napis1' oraz 'napis2' obecnymi napisami w swojej kolumnie (przed modyfikacja)\n",
        "moj_df['nazwa_kolumny'][moj_df['nazwa_kolumny'] == 'napis1'] = 0\n",
        "moj_df['nazwa_kolumny'][moj_df['nazwa_kolumny'] == 'napis2'] = 1\n",
        "moj_df['nazwa_kolumny'] = moj_df['nazwa_kolumny'].astype('int') # zmiana typu na calkowitoliczbowy"
      ]
    },
    {
      "cell_type": "markdown",
      "metadata": {
        "id": "39myTmbq9fk4"
      },
      "source": [
        "Teraz możemy sprawdzić, że jedyne wartości w omawianej kolumnie to 0 i 1."
      ]
    },
    {
      "cell_type": "code",
      "execution_count": null,
      "metadata": {
        "id": "HmNI-MTT9nxJ"
      },
      "outputs": [],
      "source": [
        "moj_df['nazwa_kolumny'].unique()"
      ]
    },
    {
      "cell_type": "markdown",
      "metadata": {
        "id": "ZZdQKPWoUaYo"
      },
      "source": [
        "---\n",
        "Przy próbie analizy naszych danym nieodzownym narzędziem wydaje się zastosowanie funkcji `.describe()`, która to zwraca nam: ilość pozycji w kolumnie (count), średnią wartość w kolumnie (mean), odchylenie standardowe w kolumnie (std), wartość minimalną w kolumnie (min), 25/50/75 percentyl w kolumnie (25/50/75 %) oraz wartość maksymalną w kolumnie (max). Sprawdźmy to na waszej tablicy."
      ]
    },
    {
      "cell_type": "code",
      "execution_count": null,
      "metadata": {
        "id": "XaZ28VexUaYo"
      },
      "outputs": [],
      "source": [
        "moj_df.describe()"
      ]
    },
    {
      "cell_type": "markdown",
      "metadata": {
        "id": "GUlaulZzUaYp"
      },
      "source": [
        "Jak możesz zauważyć statystyki zostały wypisane tylko dla tych kolumn w których znajdują się tylko 'liczby' (nie ma tu kolumny `Country`)."
      ]
    },
    {
      "cell_type": "markdown",
      "metadata": {
        "id": "gls5AOJfH5hS"
      },
      "source": [
        "---\n",
        "Przypomnijmy sobie, jak wyglądają wasze dane."
      ]
    },
    {
      "cell_type": "code",
      "execution_count": null,
      "metadata": {
        "id": "OqO0CjKvH5FK"
      },
      "outputs": [],
      "source": [
        "moj_df"
      ]
    },
    {
      "cell_type": "markdown",
      "metadata": {
        "id": "cNzC0eb_IBTd"
      },
      "source": [
        "Może się zdarzyć tak, że różne zmienne będą miały różne rzędy wielkości. Przy dalszym wnioskowaniu może to skutkować niepożądanymi zachowaniami (np. jedna zmienna może zdominować wszystkie pozostałe). Dlatego częstą praktyką w takim przypadku jest normalizacja zmiennych. Taką czynność można wykonać na wiele sposobów, tutaj pokażemy wam jeden z nich, którym jest proste skalowanie - każdą kolumnę przekształcimy w taki sposób, aby największa wartość wynosiła 1, a najmniejsza 0. W ten sposób wszystkie wartości znajdą się w przedziale $[0,1]$. Normalizację wykonujemy osobno dla każdej kolumny. Jeśli w Twoich danych znajduje się zmienna binarna to nie ma sensu jej normalizować - w niej już występują tylko 0 i 1.\n",
        "\n",
        "Wzorek, za pomocą którego możemy znormalizować daną kolumnę wygląda następująco:\n",
        "$z_i = \\frac{x_i - min(x)}{max(x)-min(x)}$, gdzie $min(x)$ oraz $max(x)$ to odpowiednio najmniejsze i największe wartości w danej kolumnie, $x_i$ to $i$-ta obserwacja przed znormalizowaniem, a $z_i$ to znormalizowana $i$-ta obserwacja. Została do tego przygotowana funckja, którą możecie zobaczyć poniżej. Ułatwieniem może być stworzenie do tego nowego dataframu (będzie to bardziej przejrzyste)."
      ]
    },
    {
      "cell_type": "code",
      "execution_count": null,
      "metadata": {
        "id": "IJngho67NWP2"
      },
      "outputs": [],
      "source": [
        "def normalize(df_col):\n",
        "    return (df_col-df_col.min())/(df_col.max()-df_col.min())"
      ]
    },
    {
      "cell_type": "code",
      "execution_count": null,
      "metadata": {
        "id": "F4-P_rdJH_0F"
      },
      "outputs": [],
      "source": [
        "moj_df_norm = moj_df.copy()\n",
        "moj_df_norm['nazwa_kolumny'] = normalize(moj_df['nazwa_kolumny']) # zastap 'nazwa_kolumny' kolumna w Twoim dataframie, a nastepnie powtorz to dla pozostalych kolumn\n",
        "..."
      ]
    },
    {
      "cell_type": "code",
      "execution_count": null,
      "metadata": {
        "id": "khM4VKD1XQJN"
      },
      "outputs": [],
      "source": [
        "moj_df_norm # znormalizowane"
      ]
    },
    {
      "cell_type": "markdown",
      "metadata": {
        "id": "2JvDSa73OhF_"
      },
      "source": [
        "Jeśli spojrzycie na statystyki opisujące wasze dane to zobaczycie, że w każdej kolumnie minimalna wartość powinna równać się 0, a maksymalna 1."
      ]
    },
    {
      "cell_type": "code",
      "execution_count": null,
      "metadata": {
        "id": "ucGo6R6XM-PT"
      },
      "outputs": [],
      "source": [
        "moj_df_norm.describe()"
      ]
    },
    {
      "cell_type": "markdown",
      "metadata": {
        "id": "fwcpFA43Yk_-"
      },
      "source": [
        "Teraz przypomnimy sobie, w jaki sposób można uszeregować państwa - policzyć pewne wskaźniki, wg. których można porównać ze sobą państwa. Jednym z takich wskaźników może być średnia ważona: $\\bar{x} = \\frac{w_1x_1 + w_2x_2 + \\dots + w_nx_n}{w_1+w_2+\\dots w_n}$, gdzie $w_1, w_2, \\dots, w_n$ to nieujemne wagi, natomiast $x_1, x_2, \\dots, x_n$ to wartości w kolejnych kolumnach (których jest $n$, w naszym przykładzie $n=7$, gdyż pierwsza kolumna to nazwy krajów). Taką średnią liczymy oddzielnie dla każdego kraju.\n"
      ]
    },
    {
      "cell_type": "code",
      "execution_count": null,
      "metadata": {
        "id": "j_wKPGGt9TM2"
      },
      "outputs": [],
      "source": [
        "liczba_kolumn = moj_df_norm.shape[1] # zapiszmy liczbe interesujacych nas kolumn\n",
        "moj_df_norm_do_liczenia = moj_df_norm.drop('Country', axis=1) # zapiszmy tu kolumny, na ktorych bedziemy liczyc srednia (czyli bez nazw krajow)"
      ]
    },
    {
      "cell_type": "code",
      "execution_count": null,
      "metadata": {
        "id": "4w82Ua_ucLVz"
      },
      "outputs": [],
      "source": [
        "def srednia_wazona(dataframe_do_liczenia, wagi):\n",
        "    licznik = (dataframe_do_liczenia*wagi).sum(axis=1)\n",
        "    mianownik = sum(wagi)\n",
        "    return licznik/mianownik"
      ]
    },
    {
      "cell_type": "markdown",
      "metadata": {
        "id": "0nBrWGJbb2VJ"
      },
      "source": [
        "Twoim zadaniem jest ustalenie odpowiednich wag dla swoich zmiennych. Ich liczba powinna być równa liczbie zmiennych opisująch państwa. Wtedy taką średnią możesz policzyć w następujący sposób:"
      ]
    },
    {
      "cell_type": "code",
      "execution_count": null,
      "metadata": {
        "id": "GHjJXEoeOdID"
      },
      "outputs": [],
      "source": [
        "moje_wagi = [...] # wagi mozemy zapisac wewnatrz nawiasow kwadratowych - tworzymy w ten sposob liste, o której dowiecie się więcej w dalszej czesci kursu"
      ]
    },
    {
      "cell_type": "markdown",
      "metadata": {
        "id": "ta5KSX42jzlU"
      },
      "source": [
        "W ten sposób dostaliście nową kolumnę `srednia_wazona`, co możecie zobaczyć poniżej."
      ]
    },
    {
      "cell_type": "code",
      "execution_count": null,
      "metadata": {
        "id": "ZEC7pXWAaXzb"
      },
      "outputs": [],
      "source": [
        "moj_df_norm['srednia_wazona'] = srednia_wazona(moj_df_norm_do_liczenia, moje_wagi)\n",
        "moj_df_norm"
      ]
    },
    {
      "cell_type": "markdown",
      "metadata": {
        "id": "YIgsPnBQkfVm"
      },
      "source": [
        "Aby zobaczyć uszeregowane państwa od najwyższej wartości tej średniej użyjemy funkcji `.sort_values()`, która jako argument przyjmuje nazwę kolumny, względem której chcemy posortować nasz dataframe, z dodatkową flagą `ascending=False`, dzięki której dostaniemy wyniki uszeregowane malejąco."
      ]
    },
    {
      "cell_type": "code",
      "execution_count": null,
      "metadata": {
        "id": "WMFgZ2o7kexZ"
      },
      "outputs": [],
      "source": [
        "moj_df_norm_uszeregowane = moj_df_norm.sort_values('srednia_wazona', ascending=False)\n",
        "moj_df_norm_uszeregowane"
      ]
    },
    {
      "cell_type": "markdown",
      "metadata": {
        "id": "GbF1daBK3es0"
      },
      "source": [
        "Na tej podstawie możesz wnioskować o tym, które kraje wg. wybranych przez Ciebie składowych są uszeregowane wyżej, a które niżej."
      ]
    },
    {
      "cell_type": "markdown",
      "metadata": {
        "id": "wcXcmbyz3es0"
      },
      "source": [
        "Gdybyście teraz chcieli zobaczyć tylko pierwsze 3 (lub dowolną inną liczbę) kraje uszeregowane wg wybranej przez siebie średniej ważonej, możecie użyć poznanej dzisiaj funkcji `.iloc()`."
      ]
    },
    {
      "cell_type": "code",
      "execution_count": null,
      "metadata": {
        "id": "MVGBpjqj3es0"
      },
      "outputs": [],
      "source": [
        "moj_df_norm_uszeregowane.iloc[:3, :] # pierwsze 3 wiersze, wszystkie kolumny"
      ]
    },
    {
      "cell_type": "markdown",
      "metadata": {
        "id": "1JjfCHz-3es1"
      },
      "source": [
        "Do zapisania swojego dataframu możecie użyć następującej funkcji"
      ]
    },
    {
      "cell_type": "code",
      "execution_count": null,
      "metadata": {
        "id": "roZR801-3es1"
      },
      "outputs": [],
      "source": [
        "moj_df_norm.to_excel('moj_dataframe_norm.xlsx') # 'moj_dataframe_norm.xlsx' mozecie podmienic na dowolna inna nazwe, ktora chcecie nazwac swoj plik formatu excel"
      ]
    }
  ],
  "metadata": {
    "colab": {
      "collapsed_sections": [],
      "name": "week_8.ipynb",
      "provenance": [],
      "toc_visible": true
    },
    "kernelspec": {
      "display_name": "Python 3 (ipykernel)",
      "language": "python",
      "name": "python3"
    },
    "language_info": {
      "codemirror_mode": {
        "name": "ipython",
        "version": 3
      },
      "file_extension": ".py",
      "mimetype": "text/x-python",
      "name": "python",
      "nbconvert_exporter": "python",
      "pygments_lexer": "ipython3",
      "version": "3.9.7"
    }
  },
  "nbformat": 4,
  "nbformat_minor": 0
}