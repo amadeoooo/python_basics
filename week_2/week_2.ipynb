{
 "cells": [
  {
   "cell_type": "markdown",
   "metadata": {},
   "source": [
    "Na początek uruchom tę komórkę, żeby przygotować autogradera:"
   ]
  },
  {
   "cell_type": "code",
   "execution_count": null,
   "metadata": {},
   "outputs": [],
   "source": [
    "%%capture\n",
    "!pip install otter-grader\n",
    "\n",
    "files = \"https://github.com/mateuszwyszynski/python_basics/raw/main/week_2/tests.zip\"\n",
    "!wget -O ./tests.zip $files && unzip -o tests.zip\n",
    "\n",
    "import otter\n",
    "grader = otter.Notebook(colab = True)"
   ]
  },
  {
   "cell_type": "markdown",
   "metadata": {
    "id": "zp6cuxqj5KIp"
   },
   "source": [
    "## **Variables, expressions, and statements**\n",
    " **(zmienne, wyrażenia i stwierdzenia)**\n",
    "\n",
    "---\n",
    "\n"
   ]
  },
  {
   "cell_type": "markdown",
   "metadata": {
    "id": "wD9P16m54OlS"
   },
   "source": [
    "PEP czyli Python Enhancement Proposal jest oficjalnym dokumentem informacyjnym dla społeczności programistów Pythona. Dokumenty tego typu służą między innymi jako dokumentacja nowych funkcji języka. Przedstawione są w nich również najlepsze praktyki i wytyczne dotyczące pisania kodu Pythonowego. Poniżej zamieszczamy różne przykłady. Nie przejmuj się na razie, jeśli nie znasz wielu pojawiających się nazw - będziesz się o nich uczyć później. Na razie najważniejsze jest zapamiętać, że są takie różne wytyczne.\n",
    "\n",
    "Przykłady:\n",
    "* nazewnictwo:\n",
    " * funkcje i zmienne: snake_case, np. my_function, my_variable\n",
    " * stałe: wielkie litery, np. CPU_COUNT\n",
    " * klasy i wyjątki: CamelCase (CapWords), np. MyClass, MyException\n",
    "\n",
    "\n",
    "* wcięcia: 4 spacje lub odgórnie przyjęta liczba spacji (min. 1)\n",
    "\n",
    "* długość linii:\n",
    " * 72 znaki dla linii komentarza,\n",
    " * 79 znaków dla linii kodu\n",
    " \n",
    "* kolejność importów:\n",
    " * najpierw biblioteki standardowe\n",
    " * kolejno biblioteki zewnętrzne\n",
    " * na końcu biblioteki lokalne\n",
    "\n",
    "```python\n",
    "import os\n",
    "import lightgbm\n",
    "import my_azure_classes\n",
    "```\n",
    "\n",
    "Wiele obecnie stosowanych programów do pisania kodów ma wbudowane funkcje ułatwiające poprawne pisanie kodu np. PyCharm podpowiada jak i gdzie poprawić kod.\n",
    "\n",
    "\n",
    "Przydatne linki:\n",
    "* https://www.python.org/dev/peps/pep-0008/\n",
    "* https://realpython.com/python-pep8/\n",
    "* https://kamil.kwapisz.pl/gramatyka-dla-programisty/"
   ]
  },
  {
   "cell_type": "code",
   "execution_count": null,
   "metadata": {
    "id": "JqqdmndD9A6u"
   },
   "outputs": [],
   "source": [
    "# Wywołanie tej komórki powoduje zaimportowanie biblioteki nazywającej się 'this'\n",
    "import this"
   ]
  },
  {
   "cell_type": "markdown",
   "metadata": {
    "id": "-GHaLyPF4OEk"
   },
   "source": [
    "## **Nazewnictwo zmiennych i komentarze**\n",
    "\n",
    "Czasem, gdy utworzymy kawałek kodu, chcemy zapisać sobie, do czego on służy. Python daje nam możliwość umieszczenia komentarza w kodzie - możemy tam w ludzkim języku opisać, co dzieje się we wskazanym fragmencie programu. \n",
    "\n",
    "Jeśli na przykład chcemy dodać jednozdaniowy komentarz, możemy wykorzystać znak `#`:\n",
    "\n",
    "```python\n",
    "# To jest linijka z komentarzem. Poniżej przypisujemy wartość 5 do zmiennej x\n",
    "x = 5\n",
    "```"
   ]
  },
  {
   "cell_type": "markdown",
   "metadata": {},
   "source": [
    "**Zadanie 1. [0 pkt.]** Odkomentuj odpowiednie linie kodu w komórce poniżej tak, aby Python mógł ją wykonać bez błędu. Jeśli poprawnie odkomentujesz linie, powinieneś zobaczyć output `Udalo sie! x to 5, a y to 6`"
   ]
  },
  {
   "cell_type": "code",
   "execution_count": null,
   "metadata": {},
   "outputs": [],
   "source": [
    "#Chce Ci powiedziec cos\n",
    "#x = 5\n",
    "#Chce Ci powiedziec szybko\n",
    "#y = 6\n",
    "#print('Udalo sie! x to ', x, ', a y to ', y, sep = '')"
   ]
  },
  {
   "cell_type": "markdown",
   "metadata": {
    "id": "-GHaLyPF4OEk"
   },
   "source": [
    "Komentarze powinny być umieszczane tylko w kluczowych punktach kodu lub w miejscach nieoczywistych (czyli nie tak, jak w przykładach powyżej). Głównym celem komentarzy jest ułatwienie zrozumienia kodu. Powinny być w związku z tym pisane w sposób zrozumiały nie tylko dla twórcy, ale i dla innych osób, które mogą potencjalnie korzystać z kodu. \n",
    "\n",
    "* Zalecenia:\n",
    " * Nie komentujemy oczywistych funkcji\n",
    " * Nie komentujemy oczywistych zmiennych - [Don't Repeat Yourself](https://en.wikipedia.org/wiki/Don%27t_repeat_yourself)\n",
    " * Dokonujemy aktualizacji komentarzy po aktualizacji kodu\n",
    " * Komentarz odpowiada na pytanie **Dlaczego?**\n",
    "\n",
    "Jeśli nasz komentarz jest dłuższy niż jedna linia, możemy wtedy użyć znaku `'''` jak w przykładzie poniżej:\n",
    "\n",
    "\n",
    "```python\n",
    "'''\n",
    "dla większego tekstu możliwe jest zastosowanie\n",
    "potrójnych apostrofów. Wtedy cały tekst ograniczony\n",
    "apostrofami będzie zakomentowany i nieaktywny.\n",
    "'''\n",
    "```\n",
    "\n",
    "# Zmienne i stałe\n",
    "\n",
    "## Stałe\n",
    "\n",
    "**Stałe** (constants) to obiekty, których wartości się nie zmieniają. W związku z tym będą to na przykład:\n",
    "\n",
    "1. Liczby całkowite `int`:\n",
    " * `13`\n",
    " * `-5`\n",
    "2. Liczby zmiennoprzecinkowe `float`:\n",
    " * `13.7`\n",
    " * `-11.2`\n",
    " * `0.544`\n",
    "3. Ciągi znaków `str`:\n",
    " * `'samochod'`\n",
    " * `'jslkdo'`\n",
    "\n",
    "Poniżej komórka z kodem, gdzie prosimy Pythona, żeby wypisał nam jako output kilka stałych:"
   ]
  },
  {
   "cell_type": "code",
   "execution_count": null,
   "metadata": {
    "id": "jWfKs_moGSjs"
   },
   "outputs": [],
   "source": [
    "print(123)\n",
    "print(98.9)\n",
    "print(\"Zaczynamy!\")"
   ]
  },
  {
   "cell_type": "markdown",
   "metadata": {
    "id": "F5sJ_ZEQFmhe"
   },
   "source": [
    "## Zmienne\n",
    "\n",
    "Zmienną można utożsamiać z miejscem w pamięci komputera, któremu została przypisana przez użytkownika wartość. O zmiennych można myśleć jak o pudełku, do którego możemy włożyć różne rzeczy. Python przechowa dla nas zawartość tego pudełka. Jeśli będzie trzeba, możemy poprosić Pythona, żeby powiedział nam, co jest aktualnie w pudełku (np. korzystając z funkcji `print`), wykorzystał zawartość pudełka lub żeby umieścił w pudełku coś nowego:"
   ]
  },
  {
   "cell_type": "code",
   "execution_count": null,
   "metadata": {},
   "outputs": [],
   "source": [
    "# Poniżej tworzymy pudełko o nazwie 'bank' i wkładamy do niego liczbę 7, ktora ma odpowiadac 7 zlotym\n",
    "bank = 7"
   ]
  },
  {
   "cell_type": "code",
   "execution_count": null,
   "metadata": {},
   "outputs": [],
   "source": [
    "# Prosimy Pythona, żeby powiedział nam, co jest aktualnie w naszym pudełku:\n",
    "print(bank)"
   ]
  },
  {
   "cell_type": "code",
   "execution_count": null,
   "metadata": {},
   "outputs": [],
   "source": [
    "# Prosimy Pythona, żeby sprawdził, ile będziemy mieli w banku, jak ktoś da nam 10 złotych\n",
    "print(bank + 10)"
   ]
  },
  {
   "cell_type": "code",
   "execution_count": null,
   "metadata": {},
   "outputs": [],
   "source": [
    "# Mówimy Pythonowi, żeby wziął aktualną zawartość z banku, dodał do niej 20 złotych i to włożył do banku\n",
    "bank = bank + 20"
   ]
  },
  {
   "cell_type": "markdown",
   "metadata": {},
   "source": [
    "Zwróć uwagę, że w ostatnim przykładzie Python najpierw policzył wyrażenie po prawej stronie, a później otrzymany wynik zapisał w naszym pudełku o nazwie `bank`. Python nie rozwiązywał równania! Lewa strona nie obchodziła go w ogóle, dopóki nie skończył liczyć prawej. Możemy sprawdzić, ile aktualnie jest w banku wywołując poniższą komórkę:"
   ]
  },
  {
   "cell_type": "code",
   "execution_count": null,
   "metadata": {},
   "outputs": [],
   "source": [
    "print(bank)"
   ]
  },
  {
   "cell_type": "markdown",
   "metadata": {},
   "source": [
    "**Zadanie 2. [0 pkt.]** Co się stanie, jeśli wywołasz teraz jeszcze raz komórkę z dokładaniem 20 złotych do banku? Ile będzie pieniędzy w banku? Wywołaj odpowiednie komórki i sprawdź, czy udzieliłeś prawidłowych odpowiedzi."
   ]
  },
  {
   "cell_type": "markdown",
   "metadata": {
    "id": "F5sJ_ZEQFmhe"
   },
   "source": [
    "Podczas wywoływania zmiennej z programu odnosimy się do wcześniej wyznaczonego miejsca w pamięci komputera, który nazwaliśmy zgodnie z nazwą zmiennej. **Zmienna musi posiadać nazwę**, np.: `x`, `y`, `z` oraz **wartość**, np.: `12`, `slowo`. W przeciwieństwie do stałych, wartość zmiennej może być dowolnie modyfikowana.\n",
    "\n",
    "Wykorzystajmy teraz tą wiedzę w praktyce. W kodzie poniżej definiujemy zmienną ```x```, której przypisujemy wartość ```12.1```, zmiennej ```y``` przypisujemy wartość ```26.8```, a zmiennej ```z``` przypisujemy wartość ```56.9```. Uruchom poniższy kod i zastanów się co właściwie się wydarzyło. "
   ]
  },
  {
   "cell_type": "code",
   "execution_count": null,
   "metadata": {
    "id": "H9dTsCb0HbI7"
   },
   "outputs": [],
   "source": [
    "x = 12.1\n",
    "y = 26.8\n",
    "z = 56.9"
   ]
  },
  {
   "cell_type": "markdown",
   "metadata": {
    "id": "1OS1ji4XifTR"
   },
   "source": [
    "Po uruchomieniu powyższego fragmentu kodu nie dostaliśmy żadnego outputu. Nie zobaczyłeś żadnej informacji. Dzieje się tak dlatego, że nie poprosiliśmy Pythona, aby coś nam wypisał. Program przypisał zmiennym ```x,y,z``` podane wartości i zakończył swoje działanie.\n",
    "\n",
    "W celu sprawdzenia, czy program zrobił to o co go prosiliśmy, możemy skorzystać z wbudowanej funkcji ```print()```. Zadaniem tej funkcji jest wypisanie na ekranie użytkownika wskazanej wartości. Przyjrzyj się poniższej linijce kodu, a następnie ją uruchom. Co widzisz? Czy w miejsce zmiennych ```x,y,z``` zostały podstawione odpowiednie wartości liczbowe?"
   ]
  },
  {
   "cell_type": "code",
   "execution_count": null,
   "metadata": {
    "id": "D75g4WvAiMYo"
   },
   "outputs": [],
   "source": [
    "print(x, \"+\", y, \"+\", z, \"=\", x+y+z)"
   ]
  },
  {
   "cell_type": "markdown",
   "metadata": {
    "id": "aN4dFdJ-kE3C"
   },
   "source": [
    "Jak widzisz, program w miejsce zmiennych `x,y,z` podstawił zadane przez Ciebie wartości liczbowe. Przy okazji program obliczył sumę zdefiniowanych zmiennych. Czy możesz wskazać gdzie policzyliśmy sumę?\n",
    "```x+y+z``` to część powyższego kodu, która odpowiada za zsumowanie zmiennych.\n",
    "\n",
    "Sprawdźmy teraz, co się stanie, jeśli na nowo zdefiniujemy np. zmienną `x` i przypiszemy jej wartość `0`. Wywołaj poniższą komórkę i zastanów się, co się stało. Oblicz ręcznie, czy otrzymany wynik jest poprawny."
   ]
  },
  {
   "cell_type": "code",
   "execution_count": null,
   "metadata": {
    "id": "7mhmlrIMiMrb"
   },
   "outputs": [],
   "source": [
    "x = 0\n",
    "print(x, \"+\", y, \"+\", z, \"=\", x+y+z)"
   ]
  },
  {
   "cell_type": "markdown",
   "metadata": {
    "id": "kCH1J0hElGdz"
   },
   "source": [
    "Jak widzisz, program podczas sumowania użył `0` zamiast `12.1` - zgodnie z tym, co mu podaliśmy. "
   ]
  },
  {
   "cell_type": "markdown",
   "metadata": {
    "id": "kCH1J0hElGdz"
   },
   "source": [
    "**Zadanie 3. [0 pkt.]** Przetestuj sam, jaki byłby wynik odejmowania tych zmiennych od siebie."
   ]
  },
  {
   "cell_type": "code",
   "execution_count": null,
   "metadata": {
    "id": "y_aw3lWclhc9"
   },
   "outputs": [],
   "source": [
    "# Tu jest miejsce na twój program wypisujący wynik odejmowania zmiennych od siebie. \n"
   ]
  },
  {
   "cell_type": "markdown",
   "metadata": {
    "id": "-GHaLyPF4OEk"
   },
   "source": [
    "# **Nazewnictwo zmiennych**\n",
    "\n",
    "Zmienne powinny być nazywane w sposób jednoznaczny i zrozumiały. Nazwy nie powinny być nadmiernie długie, a użyte słowa najlepiej oddzielać symbolem `_`. Nazwa zmiennej powinna odnosić się do wartości w niej przechowywanej. W przeciwnym wypadku warto dodać komentarz, dlaczego robimy inaczej. \n",
    "\n",
    "W Pythonie wielkość liter ma znaczenie. Na przykład `python` i `pytHon` to dwie rozne zmienne:"
   ]
  },
  {
   "cell_type": "code",
   "execution_count": null,
   "metadata": {},
   "outputs": [],
   "source": [
    "python = 5\n",
    "pytHon = 6\n",
    "print(python)\n",
    "print(pytHon)"
   ]
  },
  {
   "cell_type": "markdown",
   "metadata": {
    "id": "-GHaLyPF4OEk"
   },
   "source": [
    "Należy zwrócić szczególną uwagę w przypadku definiowania zmiennych o nazwach takich jak funkcje czy wbudowane typy - jest to niewskazane! Na przykład jeśli zdeifiniujemy sobie zmienną `print = 5` nie będziemy już potem mogli używać funkcji `print`! Dlatego należy takich sytuacji jak najbardziej unikać. \n",
    "\n",
    "Podobnie warto być ostrożnym w przypadku niektórych liter i liczb - wszystko co może przypominać **1, I , O , 0** może nas łatwo zmylić. \n",
    "\n",
    "**Przykłady:**\n",
    "\n",
    "\n",
    "```python\n",
    "temp_air # czytelna, jednoznaczna \n",
    "tempair  # nieczytelna\n",
    "tempAir  # malo czytelna\n",
    "\n",
    "DENSITY_OF_AIR = 1 # definiowanie stałych\n",
    "RH = 0.98          \n",
    "\n",
    "int = int('8') # Będzie błędem, bo 'int' to wbudowana funkcja!\n",
    "```"
   ]
  },
  {
   "cell_type": "markdown",
   "metadata": {
    "id": "M0KIzM3tEG65"
   },
   "source": [
    "# **Słowa klucze (keywords)**\n",
    "Są to słowa, które nie mogą być użyte do nazywania zmiennych. Python wykorzystuje te słowa do badania struktury programu.\n",
    "\n",
    "\n",
    "```python\n",
    "\n",
    "and       del       from      None      True\n",
    "as        elif      global    nonlocal  try\n",
    "assert    else      if        not       while\n",
    "break     except    import    or        with\n",
    "class     False     in        pass      yield\n",
    "continue  finally   is        raise     async\n",
    "def       for       lambda    return    await\n",
    "```"
   ]
  },
  {
   "cell_type": "markdown",
   "metadata": {
    "id": "L7BSK2VC4Ocj"
   },
   "source": [
    "#  Przypisywanie wartości zmiennym oraz typy zmiennych\n",
    "\n",
    "Zmienne oraz wartości w Pythonie mają różne **typy**. Na przykład:\n",
    "\n",
    "## String\n",
    "\n",
    "Ciągi znaków (słowa, symbole, itp.) w Pythonie okalane są pojedynczym lub podwójnym apostrofem.\n",
    "\n",
    "Przypisująć jednej zmiennej 'hello', a kolejnej \"hello\" funckja ```print()``` wyświetli nam dokładnie to samo na ekranie. Sprawdźmy to w kodzie poniżej.\n"
   ]
  },
  {
   "cell_type": "code",
   "execution_count": null,
   "metadata": {
    "id": "75pDq6DgQEMS"
   },
   "outputs": [],
   "source": [
    "string_1 = \"hello\"\n",
    "string_2 = 'hello'\n",
    "print('To jest napis przypisany do zmiennej string_1 =', string_1)\n",
    "print('To jest napis przypisany do zmiennej string_2 =', string_2)"
   ]
  },
  {
   "cell_type": "markdown",
   "metadata": {
    "id": "YOCZ86YQqMz0"
   },
   "source": [
    "Czy widzisz jakąś różnicę pomiędzy wypisanymi słowami?\n",
    "\n",
    "Teraz napisz samodzielnie program wypisujący na ekranie ``Hello, World!```. Możesz to zrobić w 2 linijkach kodu jak powyżej lub od razu w jednej linijce. Powodzenia !"
   ]
  },
  {
   "cell_type": "code",
   "execution_count": null,
   "metadata": {
    "id": "OQnwEExIqhsY"
   },
   "outputs": [],
   "source": [
    "# Tu jest miejsce na twój program\n"
   ]
  },
  {
   "cell_type": "markdown",
   "metadata": {
    "id": "pVLyVmrbYIDC"
   },
   "source": [
    "Wewnątrz funkcji ```print()``` słowa i zmienne oddzielaliśmy przy pomocy ``` , ``` \n",
    "Jest to zaprezentowane w oknie poniżej."
   ]
  },
  {
   "cell_type": "code",
   "execution_count": null,
   "metadata": {
    "id": "iGVwvC3hYHxV"
   },
   "outputs": [],
   "source": [
    "var_one = 1\n",
    "var_two = 2\n",
    "var_three = \"trzy\"\n",
    "print(var_three, 'odjąć', var_one, 'to', var_two)"
   ]
  },
  {
   "cell_type": "markdown",
   "metadata": {
    "id": "gCIPQ59VrmIy"
   },
   "source": [
    "Istnieją jednak jeszcze inne metody, pozwalające na formatowanie tekstu przed wypisaniem. Jedną z takich metod jest używanie struktury `({}).format(zmienna)`. Przyjrzyj się dokładnie poniższej komórce z kodem i zobacz jak działa `.format`. "
   ]
  },
  {
   "cell_type": "code",
   "execution_count": null,
   "metadata": {
    "id": "CY8hL7MurCFj"
   },
   "outputs": [],
   "source": [
    "zdanie = '{} odjąć {} to {}'.format(var_three, var_one, var_two)\n",
    "print(zdanie)"
   ]
  },
  {
   "cell_type": "markdown",
   "metadata": {
    "id": "enqyAb32s5dM"
   },
   "source": [
    "Jeszcze jedną alternatywą jest stosowanie ```f\"...{zmienna}...\" ```. Przyjrzyj się kolejnej linijce kodu i porównaj ją z ```.format()``` oraz \"zwykłym\" ```print()```."
   ]
  },
  {
   "cell_type": "code",
   "execution_count": null,
   "metadata": {
    "id": "yjmw3eU5q9aW"
   },
   "outputs": [],
   "source": [
    "inne_zdanie = f\"{var_three} odjąć {var_one} to {var_two}\"\n",
    "print(inne_zdanie)"
   ]
  },
  {
   "cell_type": "markdown",
   "metadata": {
    "id": "oiDgDXKTH5KT"
   },
   "source": [
    "## Int i Float\n",
    "\n",
    "**Int** - liczby całkowite\n",
    "\n",
    "**Float** - liczby zmiennoprzecinkowe\n",
    "\n",
    "Podstawowe operacje matematyczne, które będziemy powszechnie używali na dalszym etapie kursu możemy zapisać w sposób podany poniżej. \n",
    "\n",
    "Spróbuj policzyć na kartce operacje zawarte w liniach od 4 do 10 a następnie otrzymane wyniki porównaj z wynikami otrzymanymi po uruchomieniu programu. \n"
   ]
  },
  {
   "cell_type": "code",
   "execution_count": null,
   "metadata": {
    "id": "FGPH0ApfIVHS"
   },
   "outputs": [],
   "source": [
    "a = 2\n",
    "b = 7\n",
    "\n",
    "print(a+b)   # Dodawanie\n",
    "print(a-b)   # Odejmowanie\n",
    "print(a*b)   # Mnożenie\n",
    "print(a/b)   # Dzielenie\n",
    "print(b//a)  # Dzielenie bez reszty\n",
    "print(a**b)  # Potęgowanie\n",
    "print(a % b) # Reszta z dzielenia,\n",
    "\n",
    "from math import sqrt, cos, sin   # Z biblioteki math importujemy potrzebne funckje\n",
    "print(pow(a,b))  # Potęgowanie z biblioteki\n",
    "print(cos(a*b))  # Funkcja cosinus\n",
    "# print(a / 0)  "
   ]
  },
  {
   "cell_type": "markdown",
   "metadata": {
    "id": "q21UdTzXLRPY"
   },
   "source": [
    "Odkomentuj ostatnią linię kodu i ponownie uruchom program. Przeanalizuj, co wyświetla się jako output. Czemu tak się dzieje?"
   ]
  },
  {
   "cell_type": "markdown",
   "metadata": {
    "id": "TphE4V25tuVF"
   },
   "source": [
    "## **Zdania lub wyrażenia**\n",
    "\n",
    "W Pythonie możliwe jest wykonywanie kilku operacji w ramach jednej linijki kodu:\n",
    "```python\n",
    "x = 2     # przypisanie do zmiennej \"x\" wartości 2\n",
    "x = x + 2 # przypisanie do zmiennej \"x\" sumy \"x\" i 2\n",
    "print(x)  # wypisanie na ekranie wartości zmiennej \"x\"\n",
    "```\n",
    "\n",
    "Fragment `x+2` to pythonowe **zdanie** czy też **wyrażenie**. Określa ono pewną spójną instrukcję do wykonania dla Pythona. W poniższej komórce możesz sprawdzić jaką wartość ma na koniec zmienna `x`. Czy wynik dodawania jest zgodny z twoimi przypuszczeniami? "
   ]
  },
  {
   "cell_type": "code",
   "execution_count": null,
   "metadata": {
    "id": "79fv0o1QJS5z"
   },
   "outputs": [],
   "source": [
    "x = 2     \n",
    "x = x + 2 \n",
    "print(x)  "
   ]
  },
  {
   "cell_type": "markdown",
   "metadata": {
    "id": "qvTAE0RiJbSr"
   },
   "source": [
    "Dzięki wyrażeniom, przypisanie wartości do zmiennej może być bardziej złożone niż podanie samej wartości lub obliczenie sumy np. \n",
    "```python\n",
    "x = 6\n",
    "x = 4 * x * (10 - x)\n",
    "\n",
    "```"
   ]
  },
  {
   "cell_type": "markdown",
   "metadata": {
    "id": "IOUNki81LzLk"
   },
   "source": [
    "## **Kolejność wykonywania działań**\n",
    "\n",
    "\n",
    "1.   Działania w nawiasach (Parenthesis)\n",
    "2.   Potęgowanie (Power)\n",
    "3.   Mnożenie (Multiplication)\n",
    "4.   Dodawanie (Addition)\n",
    "5.   Od lewej do prawej (Left to Right)\n",
    "\n",
    "**Pamiętej!**\n",
    "\n",
    "*   Python korzysta z kolejności wykonywania działań;\n",
    "*   Pisząc program używaj nawiasów;\n",
    "*   Używaj prostych operacji matematycznych, łatwych do interpretacji;\n",
    "*   Pilnuj przejrzystości twojego programu.\n",
    "\n",
    "```python\n",
    "x = 15\n",
    "x = (x - 13) ** 2 + x / 3 - (63 / 7) ** 0.5 *2\n",
    "```"
   ]
  },
  {
   "cell_type": "markdown",
   "metadata": {},
   "source": [
    "**Zadanie 4. [0.5 pkt.]** Przypisz zmiennej `x` wartość korzystając z pythonowego zdania jak w przykładzie powyżej."
   ]
  },
  {
   "cell_type": "code",
   "execution_count": null,
   "metadata": {
    "tags": []
   },
   "outputs": [],
   "source": [
    "x = 15\n",
    "x = ..."
   ]
  },
  {
   "cell_type": "code",
   "execution_count": null,
   "metadata": {
    "deletable": false,
    "editable": false
   },
   "outputs": [],
   "source": [
    "grader.check(\"Q4\")"
   ]
  },
  {
   "cell_type": "markdown",
   "metadata": {
    "id": "OpcKCOCsO3vf"
   },
   "source": [
    "## Sprawdzanie typu zmiennej\n",
    "\n",
    "Python podczas przypisywania wartości do zmiennej rozpoznaj jej typ. Typ zmiennej można w łatwy sposób sprawdzić przy pomocy funkcji `type()`:"
   ]
  },
  {
   "cell_type": "code",
   "execution_count": null,
   "metadata": {},
   "outputs": [],
   "source": [
    "liczba = 13\n",
    "type(liczba)"
   ]
  },
  {
   "cell_type": "markdown",
   "metadata": {
    "id": "OpcKCOCsO3vf"
   },
   "source": [
    "W obrębie zmiennych tego samego typu dozwolone są niektóre operacje np. dodawanie i mnożenie. Zazwyczaj nie można wykonywać operacji między innymi typami zmiennych, choć są od tego wyjątki:"
   ]
  },
  {
   "cell_type": "code",
   "execution_count": null,
   "metadata": {},
   "outputs": [],
   "source": [
    "3*'napis'"
   ]
  },
  {
   "cell_type": "markdown",
   "metadata": {
    "id": "OpcKCOCsO3vf"
   },
   "source": [
    "W komórce poniżej możesz zobaczyć, jaki typ zmiennej został przypisany poszczególnym zmiennym:"
   ]
  },
  {
   "cell_type": "code",
   "execution_count": null,
   "metadata": {
    "id": "6ZFg9U_sQn-6"
   },
   "outputs": [],
   "source": [
    "zmienna_1 = 'dwa'\n",
    "zmienna_2 = \"trzy\"\n",
    "zmienna_3 = 5.6\n",
    "zmienna_4 = 5\n",
    "zmienna_5 = 78.0\n",
    "zmienna_6 = 6\n",
    "print('zmienna_1: jej typ to ',type(zmienna_1),'\\n',\n",
    "      'zmienna_2: jej typ to ',type(zmienna_2),'\\n',\n",
    "      'zmienna_3: jej typ to ',type(zmienna_3),'\\n',\n",
    "      'zmienna_4: jej typ to ',type(zmienna_4),'\\n',\n",
    "      'zmienna_5: jej typ to ',type(zmienna_5),'\\n',\n",
    "      'zmienna_6: jej typ to ',type(zmienna_6), sep = \"\") "
   ]
  },
  {
   "cell_type": "markdown",
   "metadata": {
    "id": "OpcKCOCsO3vf"
   },
   "source": [
    "Do określonych typów zmiennych są przypisane różne dozwolone operacje. Przeanalizuj poniżej, jaki efekt mają poszczególne operacje:"
   ]
  },
  {
   "cell_type": "code",
   "execution_count": null,
   "metadata": {
    "id": "6ZFg9U_sQn-6"
   },
   "outputs": [],
   "source": [
    "## Operacje na zmiennych typu string - bez potęgowania, dzielenia i odejmowania\n",
    "print(zmienna_1 + zmienna_2) # dodawanie   \n",
    "#print(zmienna_1 - zmienna_2) # TAK NIE MOŻNA ROBIĆ!!!!\n",
    "#print(zmienna_1 * zmienna_2)  # TAK NIE MOŻNA ROBIĆ!!!\n",
    "print(zmienna_1*2 + zmienna_2*6)\n",
    "\n",
    "##Operacje na zmiennych typu float\n",
    "print(zmienna_3 + zmienna_5)\n",
    "print(zmienna_3 / zmienna_5)\n",
    "print(zmienna_3 * zmienna_5)\n",
    "print(zmienna_3 - zmienna_5)\n",
    "print(zmienna_3 ** zmienna_5)\n",
    "print(zmienna_3 // zmienna_5)\n",
    "print(zmienna_3 % zmienna_5)\n",
    "\n",
    "##Operacje na zmiennych typu int zostały omówione już wcześniej"
   ]
  },
  {
   "cell_type": "markdown",
   "metadata": {
    "id": "-TK1StBGSii4"
   },
   "source": [
    "## **Konwersja(zmiana) typu zmiennej**\n",
    "W niektórych przypadkach możliwa jest zmiana typu zmiennej na bardziej przez nas pożądany.\n",
    "\n",
    "```python\n",
    "float(99) -> 99.0\n",
    "int(99.0) -> 99\n",
    "str(99.0) -> '99.0'\n",
    "```"
   ]
  },
  {
   "cell_type": "markdown",
   "metadata": {
    "id": "uvyWm2uJK3Wk"
   },
   "source": [
    "Poniżej możesz przetestować konwersję typów zmiennych. Zwróć uwagę na rodzaj zmiennych poddawanych konwersji."
   ]
  },
  {
   "cell_type": "code",
   "execution_count": null,
   "metadata": {
    "id": "MRDwUZghTJLP"
   },
   "outputs": [],
   "source": [
    "moj_str = '99.01' # przykładowy string\n",
    "moj_str2 = '123' # przykładowy string dobry do zamiany na int\n",
    "moj_int = 99     # przykładowy Int\n",
    "moj_float = 99.03 # przykładowy Float\n",
    "print(type(float(moj_str))) # zamiana str na float\n",
    "print(type(float(moj_int))) # zamiana int na float\n",
    "print(type(int(moj_float))) # zamiana float na int\n",
    "print(type(int(moj_str2)))  # zamiana str na int\n",
    "print(type(str(moj_float))) # zamiana float na str\n",
    "print(type(str(moj_int)))   # zamiana int na str"
   ]
  },
  {
   "cell_type": "markdown",
   "metadata": {},
   "source": [
    "Zastanów się czy dowolną zmienną można poddać konwersji na dowolny inny typ. Co np. stanie się, gdy odkomentujesz poniższą linijkę:"
   ]
  },
  {
   "cell_type": "code",
   "execution_count": null,
   "metadata": {},
   "outputs": [],
   "source": [
    "# int('8_bitcoinow')"
   ]
  },
  {
   "cell_type": "markdown",
   "metadata": {
    "id": "ZqZn8RzdH_83"
   },
   "source": [
    "W języku Python występuje praktycznie nieskończona liczba bibliotek. Biblioteki to zbiór wcześniej napisanych funkcji, które możemy zaimportować do naszego programu bez potrzeby ich definiowania. Jest to wielce przydatne podczas codziennego korzystania z języka python. Najczęściej funkcje zawarte w bibliotekach są napisane w sposób optymalny i minimalizują możliwość popełnienia błędu. "
   ]
  },
  {
   "cell_type": "markdown",
   "metadata": {
    "id": "ekAmFTYmUkoG"
   },
   "source": [
    "# **User Input**\n",
    "User Input `input()` to zdolność Pythona do zatrzymania programu i poproszenia użytkownika o podanie wartości, która następnie może zostać wykorzystana w kodzie. **UWAGA** `input()` zawsze zwraca zmienną typu string.\n",
    "\n",
    "Poniżej przetestujemy, jak działa funkcja ```input()```. Uruchom program i postępuj zgodnie z wyświetlanymi poleceniami = aby zatwierdzić wprowadzoną przez siebie wartość, musisz kliknąć `Enter`."
   ]
  },
  {
   "cell_type": "code",
   "execution_count": null,
   "metadata": {
    "id": "MgiFExOdVdHU"
   },
   "outputs": [],
   "source": [
    "imie = input('Podaj swoje imię ')\n",
    "print(type(imie))\n",
    "print(\"Masz na imię\", imie)"
   ]
  },
  {
   "cell_type": "markdown",
   "metadata": {
    "id": "xTlao2sDPbiZ"
   },
   "source": [
    "W powyższych 3 linijkach poprosiliśmy użytkownika o wprowadzenie ciągu znaków przy pomocy klawiatury (prosiliśmy o imię). Następnie wprowadzony ciąg znaków został przypisany zmiennej `imie`. W kolejnej linii sprawdziliśmy, jakim typ ma zmienna `imie`, a na sam koniec wypisaliśmy wartość zmiennej na ekranie.  \n",
    "\n",
    "Sprawdź, co się stanie jeśli zamiast swojego imienia podasz dowolną liczbę całkowitą, a w kolejnej próbie liczbę zmiennoprzecinkową. Czy na podstawie tych testów możesz wyciągnąć jakiś wniosek?"
   ]
  },
  {
   "cell_type": "markdown",
   "metadata": {
    "id": "XZPue-jhVrkH"
   },
   "source": [
    "## Konwersja typu zmiennej wczytanej przy użyciu input()\n",
    "\n",
    "\n",
    "W celu zamiany zmiennej wczytywanej przy użyciu `input()`, należy przewidzieć lub jednoznacznie zakomunikować użytnikowi, jakich wartości się spodziewamy."
   ]
  },
  {
   "cell_type": "code",
   "execution_count": null,
   "metadata": {
    "id": "0yeIwGJQV913"
   },
   "outputs": [],
   "source": [
    "print('Drogi użytkowniku podaj liczbę całkowitą z zakresu 0 do 10')\n",
    "liczba = input(\"Proszę podaj liczbę z zakresu 0 do 10 \")\n",
    "print('Wartość twojej liczby pomnożona przez 10', liczba*10) # bez zamiany typu zmiennej\n",
    "print('Wartość twojej liczby pomnożona przez 10', int(liczba)*10) # po zamianie typu zmiennej"
   ]
  },
  {
   "cell_type": "markdown",
   "metadata": {
    "id": "dT9Oa_3RQupm"
   },
   "source": [
    "Jak myślisz czemu linia 3 i linia 4 nie wypisują tego samego na ekranie komputera? Jaka operacja ma miejsce w 3 linijce kodu, a jaka w 4? Jaki typ ma zmienna `liczba`? Co dzieje się z typem, gdy w 4 linijce wywołujemy `int(liczba)`?"
   ]
  },
  {
   "cell_type": "markdown",
   "metadata": {
    "id": "LaMA5Pqij1As"
   },
   "source": [
    "**Zadanie 5 [0 pkt.]**\n",
    "\n",
    "Napisz program, który:\n",
    "\n",
    "\n",
    "*   prosi użytkownika o podanie ilości przepracowanych godzin\n",
    "*   prosi użytkownika o podanie wynagrodzenia za godzinę pracy\n",
    "*   oblicza i wypisuje na ekranie, ile pieniędzy zarobi użytkownik\n",
    "\n",
    "Zwróć uwagę na poprawną konstrukcję poleceń oraz na przejrzystość swojego rozwiązania."
   ]
  },
  {
   "cell_type": "code",
   "execution_count": null,
   "metadata": {
    "cellView": "form",
    "id": "SQMRBsXSm9kf",
    "tags": []
   },
   "outputs": [],
   "source": [
    "ilosc_godzin = ...\n",
    "stawka_godzinowa = ...\n",
    "wynagrodzenie = ...\n",
    "print(\"Twoje wynagordzenie wynosi =\", round(wynagrodzenie, 3))"
   ]
  },
  {
   "cell_type": "markdown",
   "metadata": {
    "id": "a-vqzKW5nSJU"
   },
   "source": [
    "**Zadanie 6 [1 pkt.]**\n",
    "\n",
    "W pewnej firmie, która zajmuje się pomocą w odrabianiu lekcji dla dzieci pracuje 3 nauczycieli. W zależności od poziomu edukacji obowiązują inne stawki godzinowe, odpowiednio: \n",
    "\n",
    "* poziom A - klasy 1-4: 40zł/1h,\n",
    "* poziom B - klasy 5-8: 50zł/1h,\n",
    "* poziom C - liceum: 70zł/1h.\n",
    "\n",
    "Dane na temat pracy nauczycieli w tym miesiącu:\n",
    "\n",
    "* nauczyciel_1 w ciągu miesiąca przepracował 30 godzin z dziećmi z klas 1-4, \n",
    "* nauczyciel_2 w tym samym miesiącu przepracował 30h z dziećmi z klas 5-8 oraz 15 godzin z uczniami liceum.\n",
    "* nauczyciel_3 przepracował po 13 godzin na każdym poziomie nauki. \n",
    "\n",
    "Oblicz:\n",
    "\n",
    "1.   Miesięczne wynagrodzenie każdego z nauczycieli,\n",
    "2.   Średnią ilość godzin przepracowanych przez jednego nauczyciela,\n",
    "3.   Średnie wynagrodzenie w tej firmie\n",
    "\n",
    "Zadbaj nie tylko o poprawność wyników, ale także o czytelność kodu.\n",
    "\n",
    "Poniżej został przygotowany szkielet programu. Należy uzupełnić jedynie wskazane fragmenty."
   ]
  },
  {
   "cell_type": "code",
   "execution_count": null,
   "metadata": {
    "id": "QF0XKHg0hsJg",
    "scrolled": true,
    "tags": []
   },
   "outputs": [],
   "source": [
    "# Stawka godzinowa za każdy rodzaj zajęć\n",
    "s_poz_a = ...\n",
    "s_poz_b = ...\n",
    "s_poz_c = ...\n",
    "\n",
    "# Przpracowane godziny każdego nauczyciela na każdym poziomie nauki\n",
    "n1_h_poz_a = ...\n",
    "n1_h_poz_b = ...\n",
    "n1_h_poz_c = ...\n",
    "\n",
    "n2_h_poz_a = ...\n",
    "n2_h_poz_b = ...\n",
    "n2_h_poz_c = ...\n",
    "\n",
    "n3_h_poz_a = ...\n",
    "n3_h_poz_b = ...\n",
    "n3_h_poz_c = ...\n",
    "\n",
    "# Wynagrodzenia:\n",
    "wyn_n1 = ...\n",
    "wyn_n2 = ...\n",
    "wyn_n3 = ...\n",
    "\n",
    "# Całkowita liczba godzin przepracowanych przez nauczycieli\n",
    "total_h_n1 = n1_h_poz_a + n1_h_poz_b + n1_h_poz_c\n",
    "total_h_n2 = ...\n",
    "total_h_n3 = ...\n",
    "\n",
    "# Średnia liczba godzin przepracowanych przez jednego nauczyciela\n",
    "mean_h = ...\n",
    "\n",
    "# Średnia wynagrodzenie\n",
    "mean_wyn = ..."
   ]
  },
  {
   "cell_type": "code",
   "execution_count": null,
   "metadata": {
    "deletable": false,
    "editable": false
   },
   "outputs": [],
   "source": [
    "grader.check(\"Q6\")"
   ]
  }
 ],
 "metadata": {
  "colab": {
   "collapsed_sections": [],
   "name": "week_2.ipynb",
   "provenance": [],
   "toc_visible": true
  },
  "kernelspec": {
   "display_name": "Python 3",
   "language": "python",
   "name": "python3"
  },
  "language_info": {
   "codemirror_mode": {
    "name": "ipython",
    "version": 3
   },
   "file_extension": ".py",
   "mimetype": "text/x-python",
   "name": "python",
   "nbconvert_exporter": "python",
   "pygments_lexer": "ipython3",
   "version": "3.9.5"
  }
 },
 "nbformat": 4,
 "nbformat_minor": 1
}
