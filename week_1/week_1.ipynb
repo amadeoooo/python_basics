{
  "cells": [
    {
      "cell_type": "code",
      "execution_count": 70,
      "metadata": {
        "id": "hvU4Z_93xBut"
      },
      "outputs": [],
      "source": [
        "%%capture\n",
        "!pip install otter-grader"
      ]
    },
    {
      "cell_type": "code",
      "execution_count": 71,
      "metadata": {
        "id": "hmcjrXHTxBuv"
      },
      "outputs": [],
      "source": [
        "%%capture\n",
        "files = \"https://github.com/mateuszwyszynski/python_basics/raw/main/week_1/tests.zip\"\n",
        "!wget -O ./tests.zip $files && unzip -o tests.zip"
      ]
    },
    {
      "cell_type": "code",
      "execution_count": 72,
      "metadata": {
        "id": "Udcxvkanfz29"
      },
      "outputs": [],
      "source": [
        "import otter\n",
        "grader = otter.Notebook()"
      ]
    },
    {
      "cell_type": "markdown",
      "metadata": {
        "id": "qxStU20R-OTH"
      },
      "source": [
        "# 1. Python i Data Science\n",
        "\n",
        "\n",
        "W rozległej dziedzinie jaką jest Data Science Python jest jednym z najlepszych i najbardziej przydatnych narzędzi. Zaraz za nim jest język R, który od lat jest używany głównie przez statystyków. Wśród osób zajmujących się analizą danych od lat trwają spory, które narzędzie jest lepsze. Odpowiedź na to pytanie jest bardzo złożona i zależy m.in. od problemu jaki chcemy rozwiązać. Na tych zajęciach będziemy programowali w Pythonie, dlatego poniżej przedstawimy najważniejsze zalety tego języka programowania:\n",
        "\n",
        "  1. **Python jest językiem bardzo uniwersalnym.**\n",
        "\n",
        "    Możemy wykorzystywać go z powodzeniem jako pakiet statystyczny do przeprowadzania analiz statystycznych oraz tworzyć przejrzyste i interaktywne wykresy dzięki bibliotece Plotly. Ponadto w obszarze data science biblioteki NumPy oraz Pandas wykorzystywane są do przekształcania danych i szybkich obliczeń. Z drugiej strony korzystając z Pythona możemy napisać kompletną aplikację komputerową.\n",
        "\n",
        "  2. **Łatwy do czytania, nauki i pisania**\n",
        "  \n",
        "  Python to język programowania wysokiego poziomu, który ma składnię zbliżoną do języka angielskiego. Ułatwia to czytanie i zrozumienie kodu.\n",
        "  Python jest naprawdę łatwy do opanowania i nauczenia, dlatego wiele osób poleca Pythona początkującym. Do wykonania tego samego zadania potrzeba mniej linii kodu niż w przypadku innych głównych języków, takich jak C/C++ i Java.\n",
        "  3. **Język interpretowany**\n",
        "  \n",
        "  Python jest językiem interpretowanym, co oznacza, że Python bezpośrednio wykonuje kod linia po linii. W przypadku jakiegokolwiek błędu zatrzymuje dalsze wykonywanie i zgłasza błąd, który wystąpił.\n",
        "  Python pokazuje tylko jeden błąd, nawet jeśli program zawiera wiele błędów. Ułatwia to debugowanie.\n",
        "\n"
      ]
    },
    {
      "cell_type": "markdown",
      "metadata": {
        "id": "g8lCzXxAI9P5"
      },
      "source": [
        "# 2. Idea programowania\n",
        "\n",
        "W dalszej części tego kursu postaramy się zmienić Cię w osobę biegłą w sztuce programowania. W końcu zostaniesz programistą – być może nie profesjonalnym programistą, ale przynajmniej będziesz miał umiejętności, aby spojrzeć na problem analizy danych/informacji i opracować program, który go rozwiąże.\n",
        "\n",
        "W pewnym sensie, aby zostać programistą, potrzebujesz dwóch umiejętności:\n",
        "\n",
        "1. Najpierw musisz znać język programowania (Python) - musisz znać słownictwo i gramatykę. Musisz być w stanie poprawnie przeliterować słowa w tym języku i umieć konstruować dobrze sformułowane „zdania” w tym języku.\n",
        "\n",
        "2. Po drugie, musisz „opowiedzieć historię”. Pisząc historię, łączysz słowa i zdania, aby przekazać czytelnikowi pomysł. W konstruowaniu historii są umiejętności i sztuka, a umiejętność pisania opowieści jest ulepszana poprzez pisanie i uzyskiwanie informacji zwrotnych. W programowaniu nasz program to „historia”, a problem, który próbujesz rozwiązać, to „pomysł”.\n",
        "\n",
        "Gdy nauczysz się jednego języka programowania, takiego jak Python, znacznie łatwiej będzie Ci nauczyć się drugiego języka programowania, takiego jak JavaScript lub C++. Nowy język programowania ma często inne słownictwo i gramatykę, **ale umiejętności rozwiązywania problemów będą takie same we wszystkich językach programowania.**\n",
        "\n",
        "Dość szybko nauczysz się „słownictwa” i „zdań” Pythona. Napisanie spójnego programu rozwiązującego zupełnie nowy problem zajmie Ci więcej czasu. Uczymy się programowania podobnie jak uczymy się pisania. Zaczynamy czytać i wyjaśniać programy, potem piszemy proste programy, a potem z biegiem czasu piszemy coraz bardziej złożone programy. W pewnym momencie widzisz wzorce na własną rękę i możesz zobaczyć bardziej naturalnie, jak ugryźć problem i napisać program, który go rozwiąże. A kiedy dojdziesz do tego punktu, programowanie staje się bardzo przyjemnym i kreatywnym procesem.\n",
        "\n",
        "\n",
        "\n",
        "\n"
      ]
    },
    {
      "cell_type": "markdown",
      "metadata": {
        "id": "AahyujQrvKMu"
      },
      "source": [
        "# Zastrzeżone słowa kluczowe\n",
        "Każdy język programowania ma określone reguły, których trzeba przestrzegać pisząc w tym języku. W każdym języku, jest też lista wyrazów, które dla tego języka mają szczególne znaczenie - są to tak zwane `zastrzeżone słowa kluczowe` (reserved keywords). Słowa te mają określone znaczenie i nie mogą go zmienić. W szczególności żadne ze słów kluczowych nie może być użyte do nazwania zmiennej (o czym później)."
      ]
    },
    {
      "cell_type": "code",
      "execution_count": null,
      "metadata": {
        "id": "I39jbIzu5uMd"
      },
      "outputs": [],
      "source": [
        "help('keywords')"
      ]
    },
    {
      "cell_type": "markdown",
      "metadata": {
        "id": "GTK2BWIi6fQT"
      },
      "source": [
        "# Interpreter i kompilator\n",
        "\n",
        "Python to język wysokiego poziomu, który ma być stosunkowo prosty do czytania i pisania dla ludzi. Inne języki wysokiego poziomu to Java, C++, PHP, Ruby, Basic, Perl, JavaScript. Rzeczywisty sprzęt wewnątrz jednostki centralnej (CPU) nie rozumie żadnego z tych języków wysokiego poziomu.\n",
        "\n",
        "Procesor rozumie język, który nazywamy `językiem maszynowym`. Język maszynowy jest bardzo prosty i, szczerze mówiąc, bardzo męczący w pisaniu, ponieważ jest reprezentowany przez zera i jedynki:\n",
        "\n",
        "001010001110100100101010000001111\n",
        "\n",
        "11100110000011101010010101101101\n",
        "...\n",
        "\n",
        "\n",
        "Pomimo tego, że język maszynowy składa się tylko z zer i jedynek, to jego składnia jest bardziej złożona i znacznie bardziej zawiła niż Python. Bardzo niewielu programistów kiedykolwiek pisze program w języku maszynowym. Zamiast tego budujemy różne translatory, aby umożliwić programistom pisanie w językach wysokiego poziomu, takich jak Python lub JavaScript, a te translatory konwertują programy na język maszynowy w celu rzeczywistego wykonania przez procesor.\n",
        "\n",
        "Te translatory języka programowania dzielą się na dwie ogólne kategorie:\n",
        "\n",
        "\n",
        "*   interpretery,\n",
        "*   kompilatory.\n",
        "\n",
        "**Kompilator** to program komputerowy, który przekształca kod napisany w języku programowania wysokiego poziomu na kod maszynowy. Jest to program, który tłumaczy kod czytelny dla człowieka na język zrozumiały dla procesora komputera (bity binarne 1 i 0). Komputer przetwarza kod maszynowy w celu wykonania odpowiednich zadań.\n",
        "\n",
        "Kompilator powinien być zgodny z regułą składni języka programowania, w którym jest napisany. Jednak kompilator jest tylko programem i nie może naprawić błędów znalezionych w tym programie. Tak więc, jeśli popełnisz błąd, musisz wprowadzić zmiany w składni swojego programu. W przeciwnym razie nie skompiluje się.\n",
        "\n",
        "**Interpreter** to program komputerowy, który przekształca każdą instrukcję programu wysokiego poziomu na kod maszynowy. Obejmuje to kod źródłowy, wstępnie skompilowany kod i skrypty. Zarówno kompilator, jak i interpretery wykonują tę samą pracę, która polega na konwersji języka programowania wyższego poziomu na kod maszynowy. Jednak kompilator przekonwertuje kod na kod maszynowy (utworzy plik exe) przed uruchomieniem programu. Interpretery konwertują kod na kod maszynowy po uruchomieniu programu.\n",
        "\n",
        "Python jest językiem interpretowanym. Interpreter Pythona jest napisany w języku wysokiego poziomu o nazwie „C”. Możesz spojrzeć na rzeczywisty kod źródłowy interpretera Pythona, przechodząc do www.python.org. Zatem Python sam w sobie jest programem i jest kompilowany do kodu maszynowego. \n",
        "\n",
        "Dla zainteresowanych dokładniejsze różnice pomiędzy interpreterem a kompilatorem można znaleźć w artykule: https://www.guru99.com/difference-compiler-vs-interpreter.html\n",
        "\n"
      ]
    },
    {
      "cell_type": "markdown",
      "metadata": {
        "id": "c0F_DRuN6_6o"
      },
      "source": [
        "# Program komputerowy\n",
        "\n",
        "**Program komputerowy** to sekwencja instrukcji w języku programowania, którą komputer może wykonać lub zinterpretować. (https://en.wikipedia.org/wiki/Computer_program)\n",
        "\n",
        "Poniżej znajdue się przykładowy program napisany w Pythonie, który wyświetla napis \"Hello, World!\""
      ]
    },
    {
      "cell_type": "code",
      "execution_count": null,
      "metadata": {
        "id": "yTiqQW2QQfoX"
      },
      "outputs": [],
      "source": [
        "print(\"Hello, World!\")"
      ]
    },
    {
      "cell_type": "markdown",
      "metadata": {
        "id": "FK4ZklMMxBuy"
      },
      "source": [
        "A tutaj program, który wyświetla napis \"Hello, World!Hello, World!\""
      ]
    },
    {
      "cell_type": "code",
      "execution_count": null,
      "metadata": {
        "id": "IjN8dnE-sGZZ"
      },
      "outputs": [],
      "source": [
        "print(\"Hello, World!\" * 2)"
      ]
    },
    {
      "cell_type": "markdown",
      "metadata": {
        "id": "3PpxRGFtQtjC"
      },
      "source": [
        "Funkcja odpowiedzialna za wyświetlenie napisu na ekranie nazywa się `print()`. Możemy dowiedzieć się o niej więcej wpisując komendę:"
      ]
    },
    {
      "cell_type": "code",
      "execution_count": null,
      "metadata": {
        "id": "cuAn2NhPSkfN"
      },
      "outputs": [],
      "source": [
        "help('print')"
      ]
    },
    {
      "cell_type": "markdown",
      "metadata": {
        "id": "ajA1Mw-gYFqE"
      },
      "source": [
        "Dowiadujemy się stąd, że funkcja `print()` w Pythonie, przyjmuje `value`, który później jest wyświetlany na ekranie. Oprócz tego ma jeszce parę innych argumentów. Interesujący jest argument `sep`, który decyduje o tym co rozdziela kolejne napisy (czyli `value`). Domyślnie jest to spacja.\n",
        "\n",
        "Notebooki w Google Colab są na tyle inteligentne, że same wyświetlają kawałek dokumentacji funkcji, gdy zaczynamy ją wpisaywać. "
      ]
    },
    {
      "cell_type": "markdown",
      "metadata": {
        "id": "43FB-WFAVWXj"
      },
      "source": [
        "Poniżej znajduje się pare prostych przykładów z użyciem funkcji `print()`."
      ]
    },
    {
      "cell_type": "code",
      "execution_count": null,
      "metadata": {
        "id": "ueBId7R-UBKD"
      },
      "outputs": [],
      "source": [
        "print('Hello', 'World!', sep = ', ')  # Dlaczego efekt jest taki sam jak wyżej?"
      ]
    },
    {
      "cell_type": "code",
      "execution_count": null,
      "metadata": {
        "id": "F98rHKcvWOVJ"
      },
      "outputs": [],
      "source": [
        "print('USA', 'Canada', 'Germany', 'France', 'Japan')"
      ]
    },
    {
      "cell_type": "code",
      "execution_count": null,
      "metadata": {
        "id": "iDsH-XObV9sA"
      },
      "outputs": [],
      "source": [
        "print(\"USA\")\n",
        "print(\"Canada\")\n",
        "print(\"Germany\")\n",
        "print(\"France\")\n",
        "print(\"Japan\")"
      ]
    },
    {
      "cell_type": "markdown",
      "metadata": {
        "id": "l3hx0bZsWaNg"
      },
      "source": [
        "**Zadanie 1. [0 pkt.]** Napisz jednolinijkowy program, który wyświetla nazwy państw `USA`, `Canada`, `Germany`, `France` i `Japan` oddzielone dwukropkiem ':', tzn.: jako output chcemy zobaczyć `USA:Canada:Germany:France:Japan`"
      ]
    },
    {
      "cell_type": "code",
      "execution_count": 41,
      "metadata": {
        "id": "P_YEO06nfz3H",
        "tags": [],
        "outputId": "6dd49e72-92d2-459f-e73a-916567d0e252",
        "colab": {
          "base_uri": "https://localhost:8080/"
        }
      },
      "outputs": [
        {
          "output_type": "stream",
          "name": "stdout",
          "text": [
            "USA:Canada:Germany:France:Japan\n"
          ]
        }
      ],
      "source": [
        "print(\"USA\", \"Canada\", \"Germany\", \"France\", \"Japan\", sep=\":\")"
      ]
    },
    {
      "cell_type": "markdown",
      "metadata": {
        "id": "B1zZWeDmpBKH"
      },
      "source": [
        "**Zadanie 2. [0 pkt.]** Napisz jednolinikowy program, który `50 razy` wyświetla słowo `\"Python\"`, odzielone przecinkami."
      ]
    },
    {
      "cell_type": "code",
      "execution_count": 42,
      "metadata": {
        "id": "bvc5JasZpYSs",
        "tags": [],
        "outputId": "524bde53-3ccc-41d9-d7a6-28f08b9d163c",
        "colab": {
          "base_uri": "https://localhost:8080/"
        }
      },
      "outputs": [
        {
          "output_type": "stream",
          "name": "stdout",
          "text": [
            "Python, Python, Python, Python, Python, Python, Python, Python, Python, Python, Python, Python, Python, Python, Python, Python, Python, Python, Python, Python, Python, Python, Python, Python, Python, Python, Python, Python, Python, Python, Python, Python, Python, Python, Python, Python, Python, Python, Python, Python, Python, Python, Python, Python, Python, Python, Python, Python, Python, Python, \n"
          ]
        }
      ],
      "source": [
        "print(\"Python, \"*50)"
      ]
    },
    {
      "cell_type": "markdown",
      "metadata": {
        "id": "JNfLWoTebtcw"
      },
      "source": [
        "# Debugowanie\n",
        "\n",
        "Podczas pisania programów w Pythonie bardzo często okazuję się, że po uruchomieniu instrukcji wyskakuje błąd.\n",
        "\n",
        "Przykład:\n",
        "\n",
        "\n",
        "\n"
      ]
    },
    {
      "cell_type": "code",
      "execution_count": 44,
      "metadata": {
        "id": "o4v0kO-Efz3J",
        "outputId": "d904a9da-7bca-4124-ba42-d9ed0f152e33",
        "colab": {
          "base_uri": "https://localhost:8080/"
        }
      },
      "outputs": [
        {
          "output_type": "stream",
          "name": "stdout",
          "text": [
            "Hello, World!\n"
          ]
        }
      ],
      "source": [
        "print('Hello, World!')"
      ]
    },
    {
      "cell_type": "markdown",
      "metadata": {
        "id": "mD8XHI9ddPMJ"
      },
      "source": [
        "Wyskoczył błąd z kategorii `\"NameError\"`. Sugeruje on, że instrukcja w naszym programie, zawiera nazwę `\"primt\"`, która nie jest zdefiniowana. Rzeczywiście, w powyższym programie nigdzie nie definiowaliśmy, czym jest `\"primt\"`. Nie jest to też wbudowana funkcja w Pythonie (w odróżnieniu od `print()` pisanego przez n!). Naturalne więc, że wyskakuje błąd.\n",
        "\n",
        "Bardzo często pojawiają się również inne typy błędów np.:\n",
        "\n",
        "* `SyntaxError`\n",
        "* `LogicError`\n",
        "* `SemanticError`\n",
        "\n",
        "Podczas pisania programów, bardzo często najwięcej czasu poświęcamy właśnie na naprawianiu błędów, czyli **debugowaniu**. Umiejętność szybkiego debugowania kodu jest bardzo cenna w pracy informatyka."
      ]
    },
    {
      "cell_type": "markdown",
      "metadata": {
        "id": "Cr-v6OCWgVkm"
      },
      "source": [
        "# Zmienne\n",
        "\n",
        "**Zmienne** służą do przechowywania informacji, do których można się odwoływać i manipulować nimi w programie komputerowym. Zapewniają również sposób oznaczania danych opisową nazwą, dzięki czemu nasze programy mogą być lepiej rozumiane przez czytelnika i nas samych. Pomocne jest myślenie o zmiennych jako o pudełkach przechowujących informacje. Ich jedynym celem jest etykietowanie i przechowywanie danych w pamięci. Te dane mogą być następnie wykorzystywane w całym programie.\n",
        "Aby stworzyć zmienną, wystarczy nadać jej nazwę i przyrównać do wartości, jaką chcemy, żeby przyjmowała. Wartością moze być np. liczba lub tekst (string, w skócie `str`).\n",
        "\n",
        "**Uwaga!** `Zastrzeżone słowa kluczowe` (reserved keywords) nie mogą być użyte do nazywania zmiennej.\n",
        "\n",
        "Przykład:\n",
        "\n"
      ]
    },
    {
      "cell_type": "code",
      "execution_count": 50,
      "metadata": {
        "id": "i4Mg4ujoguQb",
        "outputId": "1438c68e-a0d3-445f-c2a2-ed7e391df41f",
        "colab": {
          "base_uri": "https://localhost:8080/"
        }
      },
      "outputs": [
        {
          "output_type": "stream",
          "name": "stdout",
          "text": [
            "6\n",
            "Programowanie jest super!\n"
          ]
        }
      ],
      "source": [
        "x = 6  ## przypisuję wartość 6 zmiennej x\n",
        "y = \"Programowanie jest super!\"  ## przypisuję tekst zmiennej y\n",
        "print(x)\n",
        "print(y)\n"
      ]
    },
    {
      "cell_type": "markdown",
      "metadata": {
        "id": "WZzzTA7Dhawq"
      },
      "source": [
        "Zauważ, że chcąc wyświetlić wartość zmiennej funkcją `print()` w argumencie tej funkcji wpisliśmy nazwę tej zmiennej bez cudzysłowu. Gdybyśmy użyli cudzysłowu efekt byłby następujący:"
      ]
    },
    {
      "cell_type": "code",
      "execution_count": 63,
      "metadata": {
        "id": "kiUVebqSg5cO",
        "outputId": "9405244b-1b37-4bc5-fc05-e4eafd7c5562",
        "colab": {
          "base_uri": "https://localhost:8080/"
        }
      },
      "outputs": [
        {
          "output_type": "stream",
          "name": "stdout",
          "text": [
            "x\n",
            "y\n"
          ]
        }
      ],
      "source": [
        "x = 6  ## przypisuję wartość 6 zmiennej x\n",
        "y = \"Programowanie jest super!\"  ## przypisuję tekst zmiennej y\n",
        "print('x')\n",
        "print('y')"
      ]
    },
    {
      "cell_type": "markdown",
      "metadata": {
        "id": "07yUdikUkkoK"
      },
      "source": [
        "Różnica polega na tym, że w pierwszym przypadku prosimy Pythona o to, żeby sprawdził jaka jest wartość zmiennej `x` i potem ją wydrukował. W drugim przypadku prosimy Pythona, żeby po prostu wydrukował napis, który znajduje się między cudzysłowami, czyli `'x'`."
      ]
    },
    {
      "cell_type": "markdown",
      "metadata": {
        "id": "ZBUgCtcBxBu1"
      },
      "source": [
        "# Operacje arytmetyczne na zmiennych\n",
        "\n",
        "Na zmiennych możemy wykonywać różne działania, np. mnożenie, dzielenie, potęgowanie itd."
      ]
    },
    {
      "cell_type": "code",
      "execution_count": null,
      "metadata": {
        "id": "h5wB1q-DkteX"
      },
      "outputs": [],
      "source": [
        "x = 6\n",
        "print(x*x)"
      ]
    },
    {
      "cell_type": "markdown",
      "metadata": {
        "id": "mECEWCxAl_Ll"
      },
      "source": [
        "Najważniejsze operacje arytmetyczne:\n",
        "\n",
        "* `+` dodawanie\n",
        "* `-` odejmowanie\n",
        "* `*` mnożenie\n",
        "* `/` dzielenie\n",
        "* `%` modulo (zwraca resztę z dzielenia)\n",
        "* `**` potęgowanie"
      ]
    },
    {
      "cell_type": "markdown",
      "metadata": {
        "id": "G7AW9t-4lGbS"
      },
      "source": [
        "Zmienna `x` zadeklarowana powyżej, może zostać użyta później w programie i zmienić wartość:"
      ]
    },
    {
      "cell_type": "code",
      "execution_count": null,
      "metadata": {
        "id": "6qD-mJYdkyNY"
      },
      "outputs": [],
      "source": [
        "x = x+1\n",
        "print(x)"
      ]
    },
    {
      "cell_type": "markdown",
      "metadata": {
        "id": "_l0zhgS2xBu3"
      },
      "source": [
        "Podkreślmy, że Python w sytuacji powyżej **nie próbuje rozwiązać równania matematycznego x = x + 1**, które z resztą nie miałoby żadnego rozwiązania. Python najpierw patrzy na to, co jest po prawej stronie równania `x + 1`, sprawdza, jaka jest aktualna wartość `x` (jeśli ostatnią wykonaną komórką z kodem jest komórka z początku tego rozdziału, to `x` ma aktualnie wartość 6. Wykonuje działanie, czyli `6 + 1`. W wyniku dostaje 7 i tę wartość wkłada teraz do pudełka (zmiennej), którą nazwaliśmy `x`. Wszystko, co było wcześniej w pudełku zostaje z niego wyrzucone. Dlatego właśnie po wywołaniu komendy `print(x)` dostajemy jako output `7`."
      ]
    },
    {
      "cell_type": "code",
      "execution_count": null,
      "metadata": {
        "id": "Kwkpc9nqk32-"
      },
      "outputs": [],
      "source": [
        "x = (x+1)*2\n",
        "print(x)"
      ]
    },
    {
      "cell_type": "code",
      "execution_count": null,
      "metadata": {
        "id": "4IqxERS8lUXg"
      },
      "outputs": [],
      "source": [
        "x = 4\n",
        "x**2  #znak potęgowania to **, a nie ^\n",
        "print(x)"
      ]
    },
    {
      "cell_type": "code",
      "execution_count": null,
      "metadata": {
        "id": "_QcOO6uhldhl"
      },
      "outputs": [],
      "source": [
        "x = 4\n",
        "y = 5\n",
        "print(x**y)"
      ]
    },
    {
      "cell_type": "markdown",
      "metadata": {
        "id": "Jg3BpxHbfz3N"
      },
      "source": [
        "Komenda `%` służy do wykonania operacji `modulo`. Zwraca ona resztę z dzielenia."
      ]
    },
    {
      "cell_type": "code",
      "execution_count": null,
      "metadata": {
        "id": "UoUuijtElt5X"
      },
      "outputs": [],
      "source": [
        "20%4  #zwraca resztę z dzielenie 20 przez 4"
      ]
    },
    {
      "cell_type": "code",
      "execution_count": null,
      "metadata": {
        "id": "yAwtf154moF8"
      },
      "outputs": [],
      "source": [
        "x = 11\n",
        "y = 4\n",
        "print(x%y)  #reszta z dzielenia 11 przez 4"
      ]
    },
    {
      "cell_type": "markdown",
      "metadata": {
        "id": "2CqI0RdWuvhj"
      },
      "source": [
        "**Zadanie 3. [0 pkt.]** Znajdź błąd w poniższym programie:"
      ]
    },
    {
      "cell_type": "code",
      "execution_count": 73,
      "metadata": {
        "id": "JKpMG0atfz3O",
        "outputId": "9417c228-c37e-4b66-fd1b-ab0ee6abbe13",
        "colab": {
          "base_uri": "https://localhost:8080/"
        }
      },
      "outputs": [
        {
          "output_type": "stream",
          "name": "stdout",
          "text": [
            "6\n"
          ]
        }
      ],
      "source": [
        "lamba = 6 \n",
        "print(lamba)"
      ]
    },
    {
      "cell_type": "markdown",
      "metadata": {
        "id": "xL2K-MpAlvoC"
      },
      "source": [
        "# Funkcja *input()*\n",
        "\n",
        "Funkcja `input()` umożliwia interakcję użytkownika z programem. Jako argument przyjmuje napis, który ma zostać wyświetlony użytkownikowi. \n",
        "\n",
        "Poniższy program zapyta Cię o imię, a po wpisaniu i naciśnięciu Enter wyświetli je na ekranie.\n"
      ]
    },
    {
      "cell_type": "code",
      "execution_count": 74,
      "metadata": {
        "id": "9ngURhUFnJKg",
        "outputId": "b12d9e71-b187-4d49-d90d-1b4b95203d4f",
        "colab": {
          "base_uri": "https://localhost:8080/"
        }
      },
      "outputs": [
        {
          "output_type": "stream",
          "name": "stdout",
          "text": [
            "Enter your name: Amadeusz\n",
            "Hello, Amadeusz\n"
          ]
        }
      ],
      "source": [
        "x = input('Enter your name: ')   # program zapyta Cię o imię\n",
        "print('Hello, ' + x)"
      ]
    },
    {
      "cell_type": "markdown",
      "metadata": {
        "id": "33pNeGrAgDab"
      },
      "source": [
        "Funkcja input() zawsze traktuje wpisany argument jako `str` (string, czyli tekst). Spróbuj to sprawdzić, tzn. wpisz dowolną liczbę po uruchomieniu poniższej komórki, i zobacz czy jej typ to `str`. "
      ]
    },
    {
      "cell_type": "code",
      "execution_count": 75,
      "metadata": {
        "id": "Js1l8u0ygdJ9",
        "outputId": "b3354628-0a72-43b5-a484-98fdf90a0d59",
        "colab": {
          "base_uri": "https://localhost:8080/"
        }
      },
      "outputs": [
        {
          "output_type": "stream",
          "name": "stdout",
          "text": [
            "Wpisz jakąs liczbę2\n",
            "<class 'str'>\n"
          ]
        }
      ],
      "source": [
        "x = input(\"Wpisz jakąs liczbę\")\n",
        "print(type(x))"
      ]
    },
    {
      "cell_type": "markdown",
      "metadata": {
        "id": "mSNxFRNlhH_V"
      },
      "source": [
        "Aby przekształcić zmienną x na `liczbę całkowitą` (czyli `int`), wystarczy poniższa komenda:"
      ]
    },
    {
      "cell_type": "code",
      "execution_count": 76,
      "metadata": {
        "id": "efrwYlplhQSL",
        "outputId": "49f10690-87e3-4164-989a-84a57f2f4f97",
        "colab": {
          "base_uri": "https://localhost:8080/"
        }
      },
      "outputs": [
        {
          "output_type": "execute_result",
          "data": {
            "text/plain": [
              "int"
            ]
          },
          "metadata": {},
          "execution_count": 76
        }
      ],
      "source": [
        "x = int(x)\n",
        "type(x)"
      ]
    },
    {
      "cell_type": "code",
      "execution_count": 77,
      "metadata": {
        "id": "P3RWmSiLfz3P"
      },
      "outputs": [],
      "source": [
        "x = '5' # string\n",
        "y = 5 # int"
      ]
    },
    {
      "cell_type": "markdown",
      "metadata": {
        "id": "ixK3cEpixBu5"
      },
      "source": [
        "Więcej o typach zmiennych dowiesz się na późniejszych zajęciach."
      ]
    },
    {
      "cell_type": "markdown",
      "metadata": {
        "id": "SxKbBg5nfz3Q"
      },
      "source": [
        "**Zadanie 4. [0 pkt.]** Uzupełnij poniższy program tak, aby wyświetlał tekst wpisany przez użytkownika. Użytkownik może zadecydować, ile razy tekst ma zostać wyświetlony. Program mają być zdefiniowane dwie zmienne. Pierwsza z nich, `x`, będzie przechowywać liczbę ile razy ten tekst ma pojawić się na ekranie. Druga, `y`, będzie przechowywać tekst, który użytkownik chce wyświetlić.\n",
        "**Na przykład dla danych wejściowych:**\n",
        "\n",
        "Nauczę się programować!\n",
        "\n",
        "3\n",
        "\n",
        "\n",
        "**Prawidłową odpowiedzią jest:**\n",
        "\n",
        "Nauczę się programować! Nauczę się programować! Nauczę się programować!"
      ]
    },
    {
      "cell_type": "code",
      "execution_count": 88,
      "metadata": {
        "id": "ewvL4vk2nnzL",
        "tags": [],
        "outputId": "d0c2e9c6-5d3a-429f-94cf-6f6fcaebb764",
        "colab": {
          "base_uri": "https://localhost:8080/",
          "height": 536
        }
      },
      "outputs": [
        {
          "output_type": "error",
          "ename": "KeyboardInterrupt",
          "evalue": "ignored",
          "traceback": [
            "\u001b[0;31m---------------------------------------------------------------------------\u001b[0m",
            "\u001b[0;31mKeyboardInterrupt\u001b[0m                         Traceback (most recent call last)",
            "\u001b[0;32m/usr/local/lib/python3.7/dist-packages/ipykernel/kernelbase.py\u001b[0m in \u001b[0;36m_input_request\u001b[0;34m(self, prompt, ident, parent, password)\u001b[0m\n\u001b[1;32m    728\u001b[0m             \u001b[0;32mtry\u001b[0m\u001b[0;34m:\u001b[0m\u001b[0;34m\u001b[0m\u001b[0;34m\u001b[0m\u001b[0m\n\u001b[0;32m--> 729\u001b[0;31m                 \u001b[0mident\u001b[0m\u001b[0;34m,\u001b[0m \u001b[0mreply\u001b[0m \u001b[0;34m=\u001b[0m \u001b[0mself\u001b[0m\u001b[0;34m.\u001b[0m\u001b[0msession\u001b[0m\u001b[0;34m.\u001b[0m\u001b[0mrecv\u001b[0m\u001b[0;34m(\u001b[0m\u001b[0mself\u001b[0m\u001b[0;34m.\u001b[0m\u001b[0mstdin_socket\u001b[0m\u001b[0;34m,\u001b[0m \u001b[0;36m0\u001b[0m\u001b[0;34m)\u001b[0m\u001b[0;34m\u001b[0m\u001b[0;34m\u001b[0m\u001b[0m\n\u001b[0m\u001b[1;32m    730\u001b[0m             \u001b[0;32mexcept\u001b[0m \u001b[0mException\u001b[0m\u001b[0;34m:\u001b[0m\u001b[0;34m\u001b[0m\u001b[0;34m\u001b[0m\u001b[0m\n",
            "\u001b[0;32m/usr/local/lib/python3.7/dist-packages/jupyter_client/session.py\u001b[0m in \u001b[0;36mrecv\u001b[0;34m(self, socket, mode, content, copy)\u001b[0m\n\u001b[1;32m    802\u001b[0m         \u001b[0;32mtry\u001b[0m\u001b[0;34m:\u001b[0m\u001b[0;34m\u001b[0m\u001b[0;34m\u001b[0m\u001b[0m\n\u001b[0;32m--> 803\u001b[0;31m             \u001b[0mmsg_list\u001b[0m \u001b[0;34m=\u001b[0m \u001b[0msocket\u001b[0m\u001b[0;34m.\u001b[0m\u001b[0mrecv_multipart\u001b[0m\u001b[0;34m(\u001b[0m\u001b[0mmode\u001b[0m\u001b[0;34m,\u001b[0m \u001b[0mcopy\u001b[0m\u001b[0;34m=\u001b[0m\u001b[0mcopy\u001b[0m\u001b[0;34m)\u001b[0m\u001b[0;34m\u001b[0m\u001b[0;34m\u001b[0m\u001b[0m\n\u001b[0m\u001b[1;32m    804\u001b[0m         \u001b[0;32mexcept\u001b[0m \u001b[0mzmq\u001b[0m\u001b[0;34m.\u001b[0m\u001b[0mZMQError\u001b[0m \u001b[0;32mas\u001b[0m \u001b[0me\u001b[0m\u001b[0;34m:\u001b[0m\u001b[0;34m\u001b[0m\u001b[0;34m\u001b[0m\u001b[0m\n",
            "\u001b[0;32m/usr/local/lib/python3.7/dist-packages/zmq/sugar/socket.py\u001b[0m in \u001b[0;36mrecv_multipart\u001b[0;34m(self, flags, copy, track)\u001b[0m\n\u001b[1;32m    624\u001b[0m         \"\"\"\n\u001b[0;32m--> 625\u001b[0;31m         \u001b[0mparts\u001b[0m \u001b[0;34m=\u001b[0m \u001b[0;34m[\u001b[0m\u001b[0mself\u001b[0m\u001b[0;34m.\u001b[0m\u001b[0mrecv\u001b[0m\u001b[0;34m(\u001b[0m\u001b[0mflags\u001b[0m\u001b[0;34m,\u001b[0m \u001b[0mcopy\u001b[0m\u001b[0;34m=\u001b[0m\u001b[0mcopy\u001b[0m\u001b[0;34m,\u001b[0m \u001b[0mtrack\u001b[0m\u001b[0;34m=\u001b[0m\u001b[0mtrack\u001b[0m\u001b[0;34m)\u001b[0m\u001b[0;34m]\u001b[0m\u001b[0;34m\u001b[0m\u001b[0;34m\u001b[0m\u001b[0m\n\u001b[0m\u001b[1;32m    626\u001b[0m         \u001b[0;31m# have first part already, only loop while more to receive\u001b[0m\u001b[0;34m\u001b[0m\u001b[0;34m\u001b[0m\u001b[0;34m\u001b[0m\u001b[0m\n",
            "\u001b[0;32mzmq/backend/cython/socket.pyx\u001b[0m in \u001b[0;36mzmq.backend.cython.socket.Socket.recv\u001b[0;34m()\u001b[0m\n",
            "\u001b[0;32mzmq/backend/cython/socket.pyx\u001b[0m in \u001b[0;36mzmq.backend.cython.socket.Socket.recv\u001b[0;34m()\u001b[0m\n",
            "\u001b[0;32mzmq/backend/cython/socket.pyx\u001b[0m in \u001b[0;36mzmq.backend.cython.socket._recv_copy\u001b[0;34m()\u001b[0m\n",
            "\u001b[0;32m/usr/local/lib/python3.7/dist-packages/zmq/backend/cython/checkrc.pxd\u001b[0m in \u001b[0;36mzmq.backend.cython.checkrc._check_rc\u001b[0;34m()\u001b[0m\n",
            "\u001b[0;31mKeyboardInterrupt\u001b[0m: ",
            "\nDuring handling of the above exception, another exception occurred:\n",
            "\u001b[0;31mKeyboardInterrupt\u001b[0m                         Traceback (most recent call last)",
            "\u001b[0;32m<ipython-input-88-03c8796304a0>\u001b[0m in \u001b[0;36m<module>\u001b[0;34m()\u001b[0m\n\u001b[1;32m      1\u001b[0m \u001b[0;34m\u001b[0m\u001b[0m\n\u001b[1;32m      2\u001b[0m \u001b[0;31m### TO DO ###\u001b[0m\u001b[0;34m\u001b[0m\u001b[0;34m\u001b[0m\u001b[0;34m\u001b[0m\u001b[0m\n\u001b[0;32m----> 3\u001b[0;31m \u001b[0mx\u001b[0m \u001b[0;34m=\u001b[0m \u001b[0mint\u001b[0m\u001b[0;34m(\u001b[0m\u001b[0minput\u001b[0m\u001b[0;34m(\u001b[0m\u001b[0;36m3\u001b[0m\u001b[0;34m)\u001b[0m\u001b[0;34m)\u001b[0m \u001b[0;31m# int() zapewnia by input byl liczba, a nie stringiem,\u001b[0m\u001b[0;34m\u001b[0m\u001b[0;34m\u001b[0m\u001b[0m\n\u001b[0m\u001b[1;32m      4\u001b[0m \u001b[0my\u001b[0m \u001b[0;34m=\u001b[0m \u001b[0;34m\"Nauczę się programować\"\u001b[0m\u001b[0;34m\u001b[0m\u001b[0;34m\u001b[0m\u001b[0m\n\u001b[1;32m      5\u001b[0m \u001b[0mprint\u001b[0m\u001b[0;34m(\u001b[0m\u001b[0mx\u001b[0m\u001b[0;34m*\u001b[0m\u001b[0my\u001b[0m\u001b[0;34m)\u001b[0m\u001b[0;34m\u001b[0m\u001b[0;34m\u001b[0m\u001b[0m\n",
            "\u001b[0;32m/usr/local/lib/python3.7/dist-packages/ipykernel/kernelbase.py\u001b[0m in \u001b[0;36mraw_input\u001b[0;34m(self, prompt)\u001b[0m\n\u001b[1;32m    702\u001b[0m             \u001b[0mself\u001b[0m\u001b[0;34m.\u001b[0m\u001b[0m_parent_ident\u001b[0m\u001b[0;34m,\u001b[0m\u001b[0;34m\u001b[0m\u001b[0;34m\u001b[0m\u001b[0m\n\u001b[1;32m    703\u001b[0m             \u001b[0mself\u001b[0m\u001b[0;34m.\u001b[0m\u001b[0m_parent_header\u001b[0m\u001b[0;34m,\u001b[0m\u001b[0;34m\u001b[0m\u001b[0;34m\u001b[0m\u001b[0m\n\u001b[0;32m--> 704\u001b[0;31m             \u001b[0mpassword\u001b[0m\u001b[0;34m=\u001b[0m\u001b[0;32mFalse\u001b[0m\u001b[0;34m,\u001b[0m\u001b[0;34m\u001b[0m\u001b[0;34m\u001b[0m\u001b[0m\n\u001b[0m\u001b[1;32m    705\u001b[0m         )\n\u001b[1;32m    706\u001b[0m \u001b[0;34m\u001b[0m\u001b[0m\n",
            "\u001b[0;32m/usr/local/lib/python3.7/dist-packages/ipykernel/kernelbase.py\u001b[0m in \u001b[0;36m_input_request\u001b[0;34m(self, prompt, ident, parent, password)\u001b[0m\n\u001b[1;32m    732\u001b[0m             \u001b[0;32mexcept\u001b[0m \u001b[0mKeyboardInterrupt\u001b[0m\u001b[0;34m:\u001b[0m\u001b[0;34m\u001b[0m\u001b[0;34m\u001b[0m\u001b[0m\n\u001b[1;32m    733\u001b[0m                 \u001b[0;31m# re-raise KeyboardInterrupt, to truncate traceback\u001b[0m\u001b[0;34m\u001b[0m\u001b[0;34m\u001b[0m\u001b[0;34m\u001b[0m\u001b[0m\n\u001b[0;32m--> 734\u001b[0;31m                 \u001b[0;32mraise\u001b[0m \u001b[0mKeyboardInterrupt\u001b[0m\u001b[0;34m\u001b[0m\u001b[0;34m\u001b[0m\u001b[0m\n\u001b[0m\u001b[1;32m    735\u001b[0m             \u001b[0;32melse\u001b[0m\u001b[0;34m:\u001b[0m\u001b[0;34m\u001b[0m\u001b[0;34m\u001b[0m\u001b[0m\n\u001b[1;32m    736\u001b[0m                 \u001b[0;32mbreak\u001b[0m\u001b[0;34m\u001b[0m\u001b[0;34m\u001b[0m\u001b[0m\n",
            "\u001b[0;31mKeyboardInterrupt\u001b[0m: "
          ]
        }
      ],
      "source": [
        "\n",
        "### TO DO ###\n",
        "x = int(input(3)) # int() zapewnia by input byl liczba, a nie stringiem, \n",
        "y = \"Nauczę się programować\"\n",
        "print(x*y)\n",
        "...\n",
        "### END ###\n",
        "\n"
      ]
    },
    {
      "cell_type": "markdown",
      "metadata": {
        "id": "qL2-KzbDqUk7"
      },
      "source": [
        "**Zadanie 5 [0.5 pkt.]**\n",
        "Uzupełnij poniższy program tak, aby zmienna `y` była resztą z dzielenia zmiennej `x` przez 5."
      ]
    },
    {
      "cell_type": "code",
      "execution_count": 89,
      "metadata": {
        "id": "KZLzvVJzsYq8",
        "tags": []
      },
      "outputs": [],
      "source": [
        "def reszta(x): # nie zmieniaj tej lini\n",
        "    y = x%5\n",
        "    return y # nie zmieniaj tej lini"
      ]
    },
    {
      "cell_type": "code",
      "execution_count": 90,
      "metadata": {
        "deletable": false,
        "editable": false,
        "id": "CBGaWcEXxBu6",
        "outputId": "fe5a9c85-06d8-4e13-c934-9c5f76031d54",
        "colab": {
          "base_uri": "https://localhost:8080/",
          "height": 46
        }
      },
      "outputs": [
        {
          "output_type": "execute_result",
          "data": {
            "text/plain": [
              "Q5 results: All test cases passed!"
            ],
            "text/html": [
              "<p><strong><pre style='display: inline;'>Q5</pre></strong> passed!</p>"
            ]
          },
          "metadata": {},
          "execution_count": 90
        }
      ],
      "source": [
        "grader.check(\"Q5\")"
      ]
    }
  ],
  "metadata": {
    "colab": {
      "name": "week_1.ipynb",
      "provenance": []
    },
    "kernelspec": {
      "display_name": "Python 3",
      "language": "python",
      "name": "python3"
    },
    "language_info": {
      "codemirror_mode": {
        "name": "ipython",
        "version": 3
      },
      "file_extension": ".py",
      "mimetype": "text/x-python",
      "name": "python",
      "nbconvert_exporter": "python",
      "pygments_lexer": "ipython3",
      "version": "3.9.5"
    },
    "varInspector": {
      "cols": {
        "lenName": 16,
        "lenType": 16,
        "lenVar": 40
      },
      "kernels_config": {
        "python": {
          "delete_cmd_postfix": "",
          "delete_cmd_prefix": "del ",
          "library": "var_list.py",
          "varRefreshCmd": "print(var_dic_list())"
        },
        "r": {
          "delete_cmd_postfix": ") ",
          "delete_cmd_prefix": "rm(",
          "library": "var_list.r",
          "varRefreshCmd": "cat(var_dic_list()) "
        }
      },
      "types_to_exclude": [
        "module",
        "function",
        "builtin_function_or_method",
        "instance",
        "_Feature"
      ],
      "window_display": false
    }
  },
  "nbformat": 4,
  "nbformat_minor": 0
}